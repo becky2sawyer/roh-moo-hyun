{
 "cells": [
  {
   "cell_type": "code",
   "execution_count": 1,
   "id": "initial_id",
   "metadata": {
    "collapsed": true,
    "ExecuteTime": {
     "end_time": "2023-09-05T11:53:33.478255Z",
     "start_time": "2023-09-05T11:53:33.109818Z"
    }
   },
   "outputs": [],
   "source": [
    "import pandas as pd"
   ]
  },
  {
   "cell_type": "code",
   "execution_count": 20,
   "outputs": [],
   "source": [
    "df = pd.read_parquet(\"../server_parquet/parquet\")"
   ],
   "metadata": {
    "collapsed": false,
    "ExecuteTime": {
     "end_time": "2023-09-06T03:44:26.770911Z",
     "start_time": "2023-09-06T03:44:26.458459Z"
    }
   },
   "id": "49ccb922765796d8"
  },
  {
   "cell_type": "code",
   "execution_count": 3,
   "outputs": [
    {
     "data": {
      "text/plain": "      division_number president                 title        date location  \\\n0             1305368       박정희   제5대 대통령 취임식 대통령 취임사  1963.12.17       국내   \n1             1305369       박정희             국회 개회식 치사  1963.12.17       국내   \n2             1305370       박정희                신년 메시지  1964.01.01       국내   \n3             1305371       박정희       신년 시무식에 즈음한 담화문        1964       국내   \n4             1305372       박정희        고급공무원에게 보내는 서신  1964.01.04       국내   \n...               ...       ...                   ...         ...      ...   \n5895          1311263       이승만  한글을 전용하여 문명 발전에 힘쓰자   1957.12.29       국내   \n5896          1311264       이승만        국민은 삼강오륜을 지켜라   1957.12.30       국내   \n5897          1311265       이승만      전국동포들에게 보내는 신년사   1958.01.01       국내   \n5898          1311266       이승만       이북동포들에게 보내는 신년사  1958.01.01       국내   \n5899          1311267       이승만   대한적십자사의 회비납부에 협조하라   1958.01.11       국내   \n\n        kind                                        speech_text  \n0        취임사  \\n\\n\\n단군성조가 천혜의 이 강토 위에 국기를 닦으신지 반만년, 연면히 이어온 ...  \n1        기념사   존경하는 국회의장, 의원제위 그리고 내외귀빈 여러분! 오늘 이 뜻깊은 제3공화국의...  \n2        신년사   친애하는 국내외의 동포 여러분! 혁명의 고된 시련을 겪고 민정이양으로 매듭을 지은...  \n3     성명/담화문  친애하는 전국의 공무원 여러분! 민족 역사 위에 격동과 시련의 해로 길이 기록될 계...  \n4        기념사  청 감갑진년의 새아침을 맞이하여 귀하와 귀하의 가정에 만복이 깃들기를 빌며, 새해에...  \n...      ...                                                ...  \n5895  성명/담화문  12월 10일에 북경에서 「로이터」통신이 보도한 것을 보면 중국 공산정부에서는 라틴...  \n5896  성명/담화문  우리 모든 남녀동포들이 유 무식을 막론하고 다 같이 알아서 우리 자손들에게까지도 알...  \n5897     신년사  이번 신년을 맞이하여 우리 전국 남녀노소 동포들에게 두어 마디로 축하를 하고자 하는...  \n5898     신년사  신년을 맞이하여 새해를 축하하며 기쁜 생각으로 서로 위로하고 치하하는 기회를 당하여...  \n5899  성명/담화문  우리 적십자사가 작년 1년 동안에 해온 성적을 보면 그 전 해 보다 나아져서 많은 ...  \n\n[5900 rows x 7 columns]",
      "text/html": "<div>\n<style scoped>\n    .dataframe tbody tr th:only-of-type {\n        vertical-align: middle;\n    }\n\n    .dataframe tbody tr th {\n        vertical-align: top;\n    }\n\n    .dataframe thead th {\n        text-align: right;\n    }\n</style>\n<table border=\"1\" class=\"dataframe\">\n  <thead>\n    <tr style=\"text-align: right;\">\n      <th></th>\n      <th>division_number</th>\n      <th>president</th>\n      <th>title</th>\n      <th>date</th>\n      <th>location</th>\n      <th>kind</th>\n      <th>speech_text</th>\n    </tr>\n  </thead>\n  <tbody>\n    <tr>\n      <th>0</th>\n      <td>1305368</td>\n      <td>박정희</td>\n      <td>제5대 대통령 취임식 대통령 취임사</td>\n      <td>1963.12.17</td>\n      <td>국내</td>\n      <td>취임사</td>\n      <td>\\n\\n\\n단군성조가 천혜의 이 강토 위에 국기를 닦으신지 반만년, 연면히 이어온 ...</td>\n    </tr>\n    <tr>\n      <th>1</th>\n      <td>1305369</td>\n      <td>박정희</td>\n      <td>국회 개회식 치사</td>\n      <td>1963.12.17</td>\n      <td>국내</td>\n      <td>기념사</td>\n      <td>존경하는 국회의장, 의원제위 그리고 내외귀빈 여러분! 오늘 이 뜻깊은 제3공화국의...</td>\n    </tr>\n    <tr>\n      <th>2</th>\n      <td>1305370</td>\n      <td>박정희</td>\n      <td>신년 메시지</td>\n      <td>1964.01.01</td>\n      <td>국내</td>\n      <td>신년사</td>\n      <td>친애하는 국내외의 동포 여러분! 혁명의 고된 시련을 겪고 민정이양으로 매듭을 지은...</td>\n    </tr>\n    <tr>\n      <th>3</th>\n      <td>1305371</td>\n      <td>박정희</td>\n      <td>신년 시무식에 즈음한 담화문</td>\n      <td>1964</td>\n      <td>국내</td>\n      <td>성명/담화문</td>\n      <td>친애하는 전국의 공무원 여러분! 민족 역사 위에 격동과 시련의 해로 길이 기록될 계...</td>\n    </tr>\n    <tr>\n      <th>4</th>\n      <td>1305372</td>\n      <td>박정희</td>\n      <td>고급공무원에게 보내는 서신</td>\n      <td>1964.01.04</td>\n      <td>국내</td>\n      <td>기념사</td>\n      <td>청 감갑진년의 새아침을 맞이하여 귀하와 귀하의 가정에 만복이 깃들기를 빌며, 새해에...</td>\n    </tr>\n    <tr>\n      <th>...</th>\n      <td>...</td>\n      <td>...</td>\n      <td>...</td>\n      <td>...</td>\n      <td>...</td>\n      <td>...</td>\n      <td>...</td>\n    </tr>\n    <tr>\n      <th>5895</th>\n      <td>1311263</td>\n      <td>이승만</td>\n      <td>한글을 전용하여 문명 발전에 힘쓰자</td>\n      <td>1957.12.29</td>\n      <td>국내</td>\n      <td>성명/담화문</td>\n      <td>12월 10일에 북경에서 「로이터」통신이 보도한 것을 보면 중국 공산정부에서는 라틴...</td>\n    </tr>\n    <tr>\n      <th>5896</th>\n      <td>1311264</td>\n      <td>이승만</td>\n      <td>국민은 삼강오륜을 지켜라</td>\n      <td>1957.12.30</td>\n      <td>국내</td>\n      <td>성명/담화문</td>\n      <td>우리 모든 남녀동포들이 유 무식을 막론하고 다 같이 알아서 우리 자손들에게까지도 알...</td>\n    </tr>\n    <tr>\n      <th>5897</th>\n      <td>1311265</td>\n      <td>이승만</td>\n      <td>전국동포들에게 보내는 신년사</td>\n      <td>1958.01.01</td>\n      <td>국내</td>\n      <td>신년사</td>\n      <td>이번 신년을 맞이하여 우리 전국 남녀노소 동포들에게 두어 마디로 축하를 하고자 하는...</td>\n    </tr>\n    <tr>\n      <th>5898</th>\n      <td>1311266</td>\n      <td>이승만</td>\n      <td>이북동포들에게 보내는 신년사</td>\n      <td>1958.01.01</td>\n      <td>국내</td>\n      <td>신년사</td>\n      <td>신년을 맞이하여 새해를 축하하며 기쁜 생각으로 서로 위로하고 치하하는 기회를 당하여...</td>\n    </tr>\n    <tr>\n      <th>5899</th>\n      <td>1311267</td>\n      <td>이승만</td>\n      <td>대한적십자사의 회비납부에 협조하라</td>\n      <td>1958.01.11</td>\n      <td>국내</td>\n      <td>성명/담화문</td>\n      <td>우리 적십자사가 작년 1년 동안에 해온 성적을 보면 그 전 해 보다 나아져서 많은 ...</td>\n    </tr>\n  </tbody>\n</table>\n<p>5900 rows × 7 columns</p>\n</div>"
     },
     "execution_count": 3,
     "metadata": {},
     "output_type": "execute_result"
    }
   ],
   "source": [
    "df"
   ],
   "metadata": {
    "collapsed": false,
    "ExecuteTime": {
     "end_time": "2023-09-05T11:53:49.792445Z",
     "start_time": "2023-09-05T11:53:49.782538Z"
    }
   },
   "id": "c11e579f53c4b0ac"
  },
  {
   "cell_type": "code",
   "execution_count": 6,
   "outputs": [
    {
     "data": {
      "text/plain": "           division_number  title  date  location  kind  speech_text\npresident                                                           \n김대중                    822    822   822       822   822          822\n김영삼                    728    728   728       728   728          728\n노무현                    780    780   780       780   780          780\n노태우                    501    501   501       501   501          501\n박정희                   1270   1270  1270      1270  1270         1270\n윤보선                      3      3     3         3     3            3\n이명박                    209    209   209       209   209          209\n이승만                    927    927   927       927   927          927\n전두환                    602    602   602       602   602          602\n최규하                     58     58    58        58    58           58",
      "text/html": "<div>\n<style scoped>\n    .dataframe tbody tr th:only-of-type {\n        vertical-align: middle;\n    }\n\n    .dataframe tbody tr th {\n        vertical-align: top;\n    }\n\n    .dataframe thead th {\n        text-align: right;\n    }\n</style>\n<table border=\"1\" class=\"dataframe\">\n  <thead>\n    <tr style=\"text-align: right;\">\n      <th></th>\n      <th>division_number</th>\n      <th>title</th>\n      <th>date</th>\n      <th>location</th>\n      <th>kind</th>\n      <th>speech_text</th>\n    </tr>\n    <tr>\n      <th>president</th>\n      <th></th>\n      <th></th>\n      <th></th>\n      <th></th>\n      <th></th>\n      <th></th>\n    </tr>\n  </thead>\n  <tbody>\n    <tr>\n      <th>김대중</th>\n      <td>822</td>\n      <td>822</td>\n      <td>822</td>\n      <td>822</td>\n      <td>822</td>\n      <td>822</td>\n    </tr>\n    <tr>\n      <th>김영삼</th>\n      <td>728</td>\n      <td>728</td>\n      <td>728</td>\n      <td>728</td>\n      <td>728</td>\n      <td>728</td>\n    </tr>\n    <tr>\n      <th>노무현</th>\n      <td>780</td>\n      <td>780</td>\n      <td>780</td>\n      <td>780</td>\n      <td>780</td>\n      <td>780</td>\n    </tr>\n    <tr>\n      <th>노태우</th>\n      <td>501</td>\n      <td>501</td>\n      <td>501</td>\n      <td>501</td>\n      <td>501</td>\n      <td>501</td>\n    </tr>\n    <tr>\n      <th>박정희</th>\n      <td>1270</td>\n      <td>1270</td>\n      <td>1270</td>\n      <td>1270</td>\n      <td>1270</td>\n      <td>1270</td>\n    </tr>\n    <tr>\n      <th>윤보선</th>\n      <td>3</td>\n      <td>3</td>\n      <td>3</td>\n      <td>3</td>\n      <td>3</td>\n      <td>3</td>\n    </tr>\n    <tr>\n      <th>이명박</th>\n      <td>209</td>\n      <td>209</td>\n      <td>209</td>\n      <td>209</td>\n      <td>209</td>\n      <td>209</td>\n    </tr>\n    <tr>\n      <th>이승만</th>\n      <td>927</td>\n      <td>927</td>\n      <td>927</td>\n      <td>927</td>\n      <td>927</td>\n      <td>927</td>\n    </tr>\n    <tr>\n      <th>전두환</th>\n      <td>602</td>\n      <td>602</td>\n      <td>602</td>\n      <td>602</td>\n      <td>602</td>\n      <td>602</td>\n    </tr>\n    <tr>\n      <th>최규하</th>\n      <td>58</td>\n      <td>58</td>\n      <td>58</td>\n      <td>58</td>\n      <td>58</td>\n      <td>58</td>\n    </tr>\n  </tbody>\n</table>\n</div>"
     },
     "execution_count": 6,
     "metadata": {},
     "output_type": "execute_result"
    }
   ],
   "source": [
    "df.groupby(\"president\").count()"
   ],
   "metadata": {
    "collapsed": false,
    "ExecuteTime": {
     "end_time": "2023-09-05T11:55:25.568166Z",
     "start_time": "2023-09-05T11:55:25.560493Z"
    }
   },
   "id": "a48a626a7c315bae"
  },
  {
   "cell_type": "code",
   "execution_count": 8,
   "outputs": [
    {
     "data": {
      "text/plain": "                 division_number  title   date  location   kind  speech_text\npresident                                                                   \nAttributeError             87806  87806  87806     87806  87806        87806\nConnectionError               12     12     12        12     12           12\n김대중                          822    822    822       822    822          822\n김영삼                          728    728    728       728    728          728\n노무현                          780    780    780       780    780          780\n노태우                          601    601    601       601    601          601\n박근혜                          493    493    493       493    493          493\n박정희                         1270   1270   1270      1270   1270         1270\n윤보선                            3      3      3         3      3            3\n이명박                         1027   1027   1027      1027   1027         1027\n이승만                          998    998    998       998    998          998\n전두환                          602    602    602       602    602          602\n최규하                           58     58     58        58     58           58",
      "text/html": "<div>\n<style scoped>\n    .dataframe tbody tr th:only-of-type {\n        vertical-align: middle;\n    }\n\n    .dataframe tbody tr th {\n        vertical-align: top;\n    }\n\n    .dataframe thead th {\n        text-align: right;\n    }\n</style>\n<table border=\"1\" class=\"dataframe\">\n  <thead>\n    <tr style=\"text-align: right;\">\n      <th></th>\n      <th>division_number</th>\n      <th>title</th>\n      <th>date</th>\n      <th>location</th>\n      <th>kind</th>\n      <th>speech_text</th>\n    </tr>\n    <tr>\n      <th>president</th>\n      <th></th>\n      <th></th>\n      <th></th>\n      <th></th>\n      <th></th>\n      <th></th>\n    </tr>\n  </thead>\n  <tbody>\n    <tr>\n      <th>AttributeError</th>\n      <td>87806</td>\n      <td>87806</td>\n      <td>87806</td>\n      <td>87806</td>\n      <td>87806</td>\n      <td>87806</td>\n    </tr>\n    <tr>\n      <th>ConnectionError</th>\n      <td>12</td>\n      <td>12</td>\n      <td>12</td>\n      <td>12</td>\n      <td>12</td>\n      <td>12</td>\n    </tr>\n    <tr>\n      <th>김대중</th>\n      <td>822</td>\n      <td>822</td>\n      <td>822</td>\n      <td>822</td>\n      <td>822</td>\n      <td>822</td>\n    </tr>\n    <tr>\n      <th>김영삼</th>\n      <td>728</td>\n      <td>728</td>\n      <td>728</td>\n      <td>728</td>\n      <td>728</td>\n      <td>728</td>\n    </tr>\n    <tr>\n      <th>노무현</th>\n      <td>780</td>\n      <td>780</td>\n      <td>780</td>\n      <td>780</td>\n      <td>780</td>\n      <td>780</td>\n    </tr>\n    <tr>\n      <th>노태우</th>\n      <td>601</td>\n      <td>601</td>\n      <td>601</td>\n      <td>601</td>\n      <td>601</td>\n      <td>601</td>\n    </tr>\n    <tr>\n      <th>박근혜</th>\n      <td>493</td>\n      <td>493</td>\n      <td>493</td>\n      <td>493</td>\n      <td>493</td>\n      <td>493</td>\n    </tr>\n    <tr>\n      <th>박정희</th>\n      <td>1270</td>\n      <td>1270</td>\n      <td>1270</td>\n      <td>1270</td>\n      <td>1270</td>\n      <td>1270</td>\n    </tr>\n    <tr>\n      <th>윤보선</th>\n      <td>3</td>\n      <td>3</td>\n      <td>3</td>\n      <td>3</td>\n      <td>3</td>\n      <td>3</td>\n    </tr>\n    <tr>\n      <th>이명박</th>\n      <td>1027</td>\n      <td>1027</td>\n      <td>1027</td>\n      <td>1027</td>\n      <td>1027</td>\n      <td>1027</td>\n    </tr>\n    <tr>\n      <th>이승만</th>\n      <td>998</td>\n      <td>998</td>\n      <td>998</td>\n      <td>998</td>\n      <td>998</td>\n      <td>998</td>\n    </tr>\n    <tr>\n      <th>전두환</th>\n      <td>602</td>\n      <td>602</td>\n      <td>602</td>\n      <td>602</td>\n      <td>602</td>\n      <td>602</td>\n    </tr>\n    <tr>\n      <th>최규하</th>\n      <td>58</td>\n      <td>58</td>\n      <td>58</td>\n      <td>58</td>\n      <td>58</td>\n      <td>58</td>\n    </tr>\n  </tbody>\n</table>\n</div>"
     },
     "execution_count": 8,
     "metadata": {},
     "output_type": "execute_result"
    }
   ],
   "source": [
    "df.groupby(\"president\").count()"
   ],
   "metadata": {
    "collapsed": false,
    "ExecuteTime": {
     "end_time": "2023-09-05T23:00:23.545104Z",
     "start_time": "2023-09-05T23:00:23.520767Z"
    }
   },
   "id": "dcede3253ce456c0"
  },
  {
   "cell_type": "code",
   "execution_count": 9,
   "outputs": [
    {
     "data": {
      "text/plain": "president\nAttributeError     87806\nConnectionError       12\n김대중                  822\n김영삼                  728\n노무현                  780\n노태우                  601\n박근혜                  493\n박정희                 1270\n윤보선                    3\n이명박                 1027\n이승만                  998\n전두환                  602\n최규하                   58\nName: division_number, dtype: int64"
     },
     "execution_count": 9,
     "metadata": {},
     "output_type": "execute_result"
    }
   ],
   "source": [
    "df.groupby(\"president\")[\"division_number\"].nunique()"
   ],
   "metadata": {
    "collapsed": false,
    "ExecuteTime": {
     "end_time": "2023-09-05T23:05:14.831028Z",
     "start_time": "2023-09-05T23:05:14.818234Z"
    }
   },
   "id": "6ef441f91eca5ef0"
  },
  {
   "cell_type": "code",
   "execution_count": 10,
   "outputs": [
    {
     "data": {
      "text/plain": "                  size  nunique\npresident                      \nAttributeError   87806    87806\nConnectionError     12       12\n김대중                822      822\n김영삼                728      728\n노무현                780      780\n노태우                601      601\n박근혜                493      493\n박정희               1270     1270\n윤보선                  3        3\n이명박               1027     1027\n이승만                998      998\n전두환                602      602\n최규하                 58       58",
      "text/html": "<div>\n<style scoped>\n    .dataframe tbody tr th:only-of-type {\n        vertical-align: middle;\n    }\n\n    .dataframe tbody tr th {\n        vertical-align: top;\n    }\n\n    .dataframe thead th {\n        text-align: right;\n    }\n</style>\n<table border=\"1\" class=\"dataframe\">\n  <thead>\n    <tr style=\"text-align: right;\">\n      <th></th>\n      <th>size</th>\n      <th>nunique</th>\n    </tr>\n    <tr>\n      <th>president</th>\n      <th></th>\n      <th></th>\n    </tr>\n  </thead>\n  <tbody>\n    <tr>\n      <th>AttributeError</th>\n      <td>87806</td>\n      <td>87806</td>\n    </tr>\n    <tr>\n      <th>ConnectionError</th>\n      <td>12</td>\n      <td>12</td>\n    </tr>\n    <tr>\n      <th>김대중</th>\n      <td>822</td>\n      <td>822</td>\n    </tr>\n    <tr>\n      <th>김영삼</th>\n      <td>728</td>\n      <td>728</td>\n    </tr>\n    <tr>\n      <th>노무현</th>\n      <td>780</td>\n      <td>780</td>\n    </tr>\n    <tr>\n      <th>노태우</th>\n      <td>601</td>\n      <td>601</td>\n    </tr>\n    <tr>\n      <th>박근혜</th>\n      <td>493</td>\n      <td>493</td>\n    </tr>\n    <tr>\n      <th>박정희</th>\n      <td>1270</td>\n      <td>1270</td>\n    </tr>\n    <tr>\n      <th>윤보선</th>\n      <td>3</td>\n      <td>3</td>\n    </tr>\n    <tr>\n      <th>이명박</th>\n      <td>1027</td>\n      <td>1027</td>\n    </tr>\n    <tr>\n      <th>이승만</th>\n      <td>998</td>\n      <td>998</td>\n    </tr>\n    <tr>\n      <th>전두환</th>\n      <td>602</td>\n      <td>602</td>\n    </tr>\n    <tr>\n      <th>최규하</th>\n      <td>58</td>\n      <td>58</td>\n    </tr>\n  </tbody>\n</table>\n</div>"
     },
     "execution_count": 10,
     "metadata": {},
     "output_type": "execute_result"
    }
   ],
   "source": [
    "df.groupby(\"president\")[\"division_number\"].agg([\"size\", \"nunique\"])"
   ],
   "metadata": {
    "collapsed": false,
    "ExecuteTime": {
     "end_time": "2023-09-05T23:06:25.247014Z",
     "start_time": "2023-09-05T23:06:25.223396Z"
    }
   },
   "id": "43064ac49a8658a2"
  },
  {
   "cell_type": "code",
   "execution_count": 16,
   "outputs": [
    {
     "data": {
      "text/plain": "                       size  nunique\npresident                           \nAttributeError        87912    87838\nChunkedEncodingError      2        2\nConnectionError          12       12\n김대중                     822      822\n김영삼                     728      728\n노무현                     780      780\n노태우                     601      601\n문재인                    1099     1099\n박근혜                     986      493\n박정희                    1270     1270\n윤보선                       3        3\n이명박                    1027     1027\n이승만                     998      998\n전두환                     602      602\n최규하                      58       58",
      "text/html": "<div>\n<style scoped>\n    .dataframe tbody tr th:only-of-type {\n        vertical-align: middle;\n    }\n\n    .dataframe tbody tr th {\n        vertical-align: top;\n    }\n\n    .dataframe thead th {\n        text-align: right;\n    }\n</style>\n<table border=\"1\" class=\"dataframe\">\n  <thead>\n    <tr style=\"text-align: right;\">\n      <th></th>\n      <th>size</th>\n      <th>nunique</th>\n    </tr>\n    <tr>\n      <th>president</th>\n      <th></th>\n      <th></th>\n    </tr>\n  </thead>\n  <tbody>\n    <tr>\n      <th>AttributeError</th>\n      <td>87912</td>\n      <td>87838</td>\n    </tr>\n    <tr>\n      <th>ChunkedEncodingError</th>\n      <td>2</td>\n      <td>2</td>\n    </tr>\n    <tr>\n      <th>ConnectionError</th>\n      <td>12</td>\n      <td>12</td>\n    </tr>\n    <tr>\n      <th>김대중</th>\n      <td>822</td>\n      <td>822</td>\n    </tr>\n    <tr>\n      <th>김영삼</th>\n      <td>728</td>\n      <td>728</td>\n    </tr>\n    <tr>\n      <th>노무현</th>\n      <td>780</td>\n      <td>780</td>\n    </tr>\n    <tr>\n      <th>노태우</th>\n      <td>601</td>\n      <td>601</td>\n    </tr>\n    <tr>\n      <th>문재인</th>\n      <td>1099</td>\n      <td>1099</td>\n    </tr>\n    <tr>\n      <th>박근혜</th>\n      <td>986</td>\n      <td>493</td>\n    </tr>\n    <tr>\n      <th>박정희</th>\n      <td>1270</td>\n      <td>1270</td>\n    </tr>\n    <tr>\n      <th>윤보선</th>\n      <td>3</td>\n      <td>3</td>\n    </tr>\n    <tr>\n      <th>이명박</th>\n      <td>1027</td>\n      <td>1027</td>\n    </tr>\n    <tr>\n      <th>이승만</th>\n      <td>998</td>\n      <td>998</td>\n    </tr>\n    <tr>\n      <th>전두환</th>\n      <td>602</td>\n      <td>602</td>\n    </tr>\n    <tr>\n      <th>최규하</th>\n      <td>58</td>\n      <td>58</td>\n    </tr>\n  </tbody>\n</table>\n</div>"
     },
     "execution_count": 16,
     "metadata": {},
     "output_type": "execute_result"
    }
   ],
   "source": [
    "df.groupby(\"president\")[\"division_number\"].agg([\"size\", \"nunique\"]).head(20)\n"
   ],
   "metadata": {
    "collapsed": false,
    "ExecuteTime": {
     "end_time": "2023-09-05T23:09:26.918812Z",
     "start_time": "2023-09-05T23:09:26.908079Z"
    }
   },
   "id": "29d7c5eddcda5eaa"
  },
  {
   "cell_type": "code",
   "execution_count": 17,
   "outputs": [],
   "source": [
    "df_president = df[~df[\"president\"].isin([\"ConnectionError\", \"ChunkedEncodingError\", \"AttributeError\"])]"
   ],
   "metadata": {
    "collapsed": false,
    "ExecuteTime": {
     "end_time": "2023-09-05T23:19:42.454199Z",
     "start_time": "2023-09-05T23:19:42.424316Z"
    }
   },
   "id": "3daa4569d27ca150"
  },
  {
   "cell_type": "code",
   "execution_count": 18,
   "outputs": [
    {
     "data": {
      "text/plain": "           size  nunique\npresident               \n김대중         822      822\n김영삼         728      728\n노무현         780      780\n노태우         601      601\n문재인        1099     1099\n박근혜         986      493\n박정희        1270     1270\n윤보선           3        3\n이명박        1027     1027\n이승만         998      998\n전두환         602      602\n최규하          58       58",
      "text/html": "<div>\n<style scoped>\n    .dataframe tbody tr th:only-of-type {\n        vertical-align: middle;\n    }\n\n    .dataframe tbody tr th {\n        vertical-align: top;\n    }\n\n    .dataframe thead th {\n        text-align: right;\n    }\n</style>\n<table border=\"1\" class=\"dataframe\">\n  <thead>\n    <tr style=\"text-align: right;\">\n      <th></th>\n      <th>size</th>\n      <th>nunique</th>\n    </tr>\n    <tr>\n      <th>president</th>\n      <th></th>\n      <th></th>\n    </tr>\n  </thead>\n  <tbody>\n    <tr>\n      <th>김대중</th>\n      <td>822</td>\n      <td>822</td>\n    </tr>\n    <tr>\n      <th>김영삼</th>\n      <td>728</td>\n      <td>728</td>\n    </tr>\n    <tr>\n      <th>노무현</th>\n      <td>780</td>\n      <td>780</td>\n    </tr>\n    <tr>\n      <th>노태우</th>\n      <td>601</td>\n      <td>601</td>\n    </tr>\n    <tr>\n      <th>문재인</th>\n      <td>1099</td>\n      <td>1099</td>\n    </tr>\n    <tr>\n      <th>박근혜</th>\n      <td>986</td>\n      <td>493</td>\n    </tr>\n    <tr>\n      <th>박정희</th>\n      <td>1270</td>\n      <td>1270</td>\n    </tr>\n    <tr>\n      <th>윤보선</th>\n      <td>3</td>\n      <td>3</td>\n    </tr>\n    <tr>\n      <th>이명박</th>\n      <td>1027</td>\n      <td>1027</td>\n    </tr>\n    <tr>\n      <th>이승만</th>\n      <td>998</td>\n      <td>998</td>\n    </tr>\n    <tr>\n      <th>전두환</th>\n      <td>602</td>\n      <td>602</td>\n    </tr>\n    <tr>\n      <th>최규하</th>\n      <td>58</td>\n      <td>58</td>\n    </tr>\n  </tbody>\n</table>\n</div>"
     },
     "execution_count": 18,
     "metadata": {},
     "output_type": "execute_result"
    }
   ],
   "source": [
    "df_president.groupby(\"president\")[\"division_number\"].agg([\"size\", \"nunique\"])"
   ],
   "metadata": {
    "collapsed": false,
    "ExecuteTime": {
     "end_time": "2023-09-05T23:19:58.356901Z",
     "start_time": "2023-09-05T23:19:58.340445Z"
    }
   },
   "id": "898c2cc4b84c284e"
  },
  {
   "cell_type": "code",
   "execution_count": 19,
   "outputs": [
    {
     "data": {
      "text/plain": "           size  nunique      max      min          std\npresident                                              \n박정희        1270     1270  1310436  1305368   405.083473\n최규하          58       58  1306693  1306636    16.886879\n전두환         602      602  1307295  1306694   173.926709\n노태우         601      601  1314573  1307296  2604.175564\n김영삼         728      728  1308524  1307797   210.299786\n김대중         822      822  1309346  1308525   237.435254\n노무현         780      780  1310126  1309347   225.310896\n이명박        1027     1027  1330674  1310127  8071.852992\n이승만         998      998  1311338  1310337   288.863301\n윤보선           3        3  1310439  1310437     1.000000\n박근혜         986      493  1400493  1400001   142.388772\n문재인        1099     1099  1401700  1400600   317.822226",
      "text/html": "<div>\n<style scoped>\n    .dataframe tbody tr th:only-of-type {\n        vertical-align: middle;\n    }\n\n    .dataframe tbody tr th {\n        vertical-align: top;\n    }\n\n    .dataframe thead th {\n        text-align: right;\n    }\n</style>\n<table border=\"1\" class=\"dataframe\">\n  <thead>\n    <tr style=\"text-align: right;\">\n      <th></th>\n      <th>size</th>\n      <th>nunique</th>\n      <th>max</th>\n      <th>min</th>\n      <th>std</th>\n    </tr>\n    <tr>\n      <th>president</th>\n      <th></th>\n      <th></th>\n      <th></th>\n      <th></th>\n      <th></th>\n    </tr>\n  </thead>\n  <tbody>\n    <tr>\n      <th>박정희</th>\n      <td>1270</td>\n      <td>1270</td>\n      <td>1310436</td>\n      <td>1305368</td>\n      <td>405.083473</td>\n    </tr>\n    <tr>\n      <th>최규하</th>\n      <td>58</td>\n      <td>58</td>\n      <td>1306693</td>\n      <td>1306636</td>\n      <td>16.886879</td>\n    </tr>\n    <tr>\n      <th>전두환</th>\n      <td>602</td>\n      <td>602</td>\n      <td>1307295</td>\n      <td>1306694</td>\n      <td>173.926709</td>\n    </tr>\n    <tr>\n      <th>노태우</th>\n      <td>601</td>\n      <td>601</td>\n      <td>1314573</td>\n      <td>1307296</td>\n      <td>2604.175564</td>\n    </tr>\n    <tr>\n      <th>김영삼</th>\n      <td>728</td>\n      <td>728</td>\n      <td>1308524</td>\n      <td>1307797</td>\n      <td>210.299786</td>\n    </tr>\n    <tr>\n      <th>김대중</th>\n      <td>822</td>\n      <td>822</td>\n      <td>1309346</td>\n      <td>1308525</td>\n      <td>237.435254</td>\n    </tr>\n    <tr>\n      <th>노무현</th>\n      <td>780</td>\n      <td>780</td>\n      <td>1310126</td>\n      <td>1309347</td>\n      <td>225.310896</td>\n    </tr>\n    <tr>\n      <th>이명박</th>\n      <td>1027</td>\n      <td>1027</td>\n      <td>1330674</td>\n      <td>1310127</td>\n      <td>8071.852992</td>\n    </tr>\n    <tr>\n      <th>이승만</th>\n      <td>998</td>\n      <td>998</td>\n      <td>1311338</td>\n      <td>1310337</td>\n      <td>288.863301</td>\n    </tr>\n    <tr>\n      <th>윤보선</th>\n      <td>3</td>\n      <td>3</td>\n      <td>1310439</td>\n      <td>1310437</td>\n      <td>1.000000</td>\n    </tr>\n    <tr>\n      <th>박근혜</th>\n      <td>986</td>\n      <td>493</td>\n      <td>1400493</td>\n      <td>1400001</td>\n      <td>142.388772</td>\n    </tr>\n    <tr>\n      <th>문재인</th>\n      <td>1099</td>\n      <td>1099</td>\n      <td>1401700</td>\n      <td>1400600</td>\n      <td>317.822226</td>\n    </tr>\n  </tbody>\n</table>\n</div>"
     },
     "execution_count": 19,
     "metadata": {},
     "output_type": "execute_result"
    }
   ],
   "source": [
    "df_president.groupby(\"president\")[\"division_number\"].agg([\"size\", \"nunique\", \"max\", \"min\", \"std\"]).sort_values(\"min\", ascending=True)"
   ],
   "metadata": {
    "collapsed": false,
    "ExecuteTime": {
     "end_time": "2023-09-05T23:23:32.319312Z",
     "start_time": "2023-09-05T23:23:32.302289Z"
    }
   },
   "id": "8f4af1a5fec596e1"
  },
  {
   "cell_type": "code",
   "execution_count": 21,
   "outputs": [],
   "source": [
    "df_president = df[~df[\"president\"].isin([\"ConnectionError\", \"ChunkedEncodingError\", \"AttributeError\"])]"
   ],
   "metadata": {
    "collapsed": false,
    "ExecuteTime": {
     "end_time": "2023-09-06T03:44:51.362180Z",
     "start_time": "2023-09-06T03:44:51.349365Z"
    }
   },
   "id": "39e09791cbfc9bb"
  },
  {
   "cell_type": "code",
   "execution_count": 22,
   "outputs": [
    {
     "data": {
      "text/plain": "           size  nunique      max      min          std\npresident                                              \n박정희        1302     1270  1310436  1305368   411.615685\n최규하          58       58  1306693  1306636    16.886879\n전두환         602      602  1307295  1306694   173.926709\n노태우         601      601  1314573  1307296  2604.175564\n김영삼         728      728  1308524  1307797   210.299786\n김대중         822      822  1309346  1308525   237.435254\n노무현         780      780  1310126  1309347   225.310896\n이명박        1027     1027  1330674  1310127  8071.852992\n이승만         998      998  1311338  1310337   288.863301\n윤보선           3        3  1310439  1310437     1.000000\n박근혜         986      493  1400493  1400001   142.388772\n문재인        1390     1389  1401991  1400600   401.919242",
      "text/html": "<div>\n<style scoped>\n    .dataframe tbody tr th:only-of-type {\n        vertical-align: middle;\n    }\n\n    .dataframe tbody tr th {\n        vertical-align: top;\n    }\n\n    .dataframe thead th {\n        text-align: right;\n    }\n</style>\n<table border=\"1\" class=\"dataframe\">\n  <thead>\n    <tr style=\"text-align: right;\">\n      <th></th>\n      <th>size</th>\n      <th>nunique</th>\n      <th>max</th>\n      <th>min</th>\n      <th>std</th>\n    </tr>\n    <tr>\n      <th>president</th>\n      <th></th>\n      <th></th>\n      <th></th>\n      <th></th>\n      <th></th>\n    </tr>\n  </thead>\n  <tbody>\n    <tr>\n      <th>박정희</th>\n      <td>1302</td>\n      <td>1270</td>\n      <td>1310436</td>\n      <td>1305368</td>\n      <td>411.615685</td>\n    </tr>\n    <tr>\n      <th>최규하</th>\n      <td>58</td>\n      <td>58</td>\n      <td>1306693</td>\n      <td>1306636</td>\n      <td>16.886879</td>\n    </tr>\n    <tr>\n      <th>전두환</th>\n      <td>602</td>\n      <td>602</td>\n      <td>1307295</td>\n      <td>1306694</td>\n      <td>173.926709</td>\n    </tr>\n    <tr>\n      <th>노태우</th>\n      <td>601</td>\n      <td>601</td>\n      <td>1314573</td>\n      <td>1307296</td>\n      <td>2604.175564</td>\n    </tr>\n    <tr>\n      <th>김영삼</th>\n      <td>728</td>\n      <td>728</td>\n      <td>1308524</td>\n      <td>1307797</td>\n      <td>210.299786</td>\n    </tr>\n    <tr>\n      <th>김대중</th>\n      <td>822</td>\n      <td>822</td>\n      <td>1309346</td>\n      <td>1308525</td>\n      <td>237.435254</td>\n    </tr>\n    <tr>\n      <th>노무현</th>\n      <td>780</td>\n      <td>780</td>\n      <td>1310126</td>\n      <td>1309347</td>\n      <td>225.310896</td>\n    </tr>\n    <tr>\n      <th>이명박</th>\n      <td>1027</td>\n      <td>1027</td>\n      <td>1330674</td>\n      <td>1310127</td>\n      <td>8071.852992</td>\n    </tr>\n    <tr>\n      <th>이승만</th>\n      <td>998</td>\n      <td>998</td>\n      <td>1311338</td>\n      <td>1310337</td>\n      <td>288.863301</td>\n    </tr>\n    <tr>\n      <th>윤보선</th>\n      <td>3</td>\n      <td>3</td>\n      <td>1310439</td>\n      <td>1310437</td>\n      <td>1.000000</td>\n    </tr>\n    <tr>\n      <th>박근혜</th>\n      <td>986</td>\n      <td>493</td>\n      <td>1400493</td>\n      <td>1400001</td>\n      <td>142.388772</td>\n    </tr>\n    <tr>\n      <th>문재인</th>\n      <td>1390</td>\n      <td>1389</td>\n      <td>1401991</td>\n      <td>1400600</td>\n      <td>401.919242</td>\n    </tr>\n  </tbody>\n</table>\n</div>"
     },
     "execution_count": 22,
     "metadata": {},
     "output_type": "execute_result"
    }
   ],
   "source": [
    "df_president.groupby(\"president\")[\"division_number\"].agg([\"size\", \"nunique\", \"max\", \"min\", \"std\"]).sort_values(\"min\", ascending=True)"
   ],
   "metadata": {
    "collapsed": false,
    "ExecuteTime": {
     "end_time": "2023-09-06T03:44:52.824998Z",
     "start_time": "2023-09-06T03:44:52.808457Z"
    }
   },
   "id": "7d657540f6830ba4"
  },
  {
   "cell_type": "code",
   "execution_count": 23,
   "outputs": [],
   "source": [
    "df_president_drop_dup = df_president.drop_duplicates()"
   ],
   "metadata": {
    "collapsed": false,
    "ExecuteTime": {
     "end_time": "2023-09-06T03:46:32.938347Z",
     "start_time": "2023-09-06T03:46:32.720206Z"
    }
   },
   "id": "94f7983e1a89b173"
  },
  {
   "cell_type": "code",
   "execution_count": 24,
   "outputs": [
    {
     "data": {
      "text/plain": "           size  nunique      max      min          std\npresident                                              \n박정희        1270     1270  1310436  1305368   405.083473\n최규하          58       58  1306693  1306636    16.886879\n전두환         602      602  1307295  1306694   173.926709\n노태우         601      601  1314573  1307296  2604.175564\n김영삼         728      728  1308524  1307797   210.299786\n김대중         822      822  1309346  1308525   237.435254\n노무현         780      780  1310126  1309347   225.310896\n이명박        1027     1027  1330674  1310127  8071.852992\n이승만         998      998  1311338  1310337   288.863301\n윤보선           3        3  1310439  1310437     1.000000\n박근혜         493      493  1400493  1400001   142.461106\n문재인        1389     1389  1401991  1400600   401.917153",
      "text/html": "<div>\n<style scoped>\n    .dataframe tbody tr th:only-of-type {\n        vertical-align: middle;\n    }\n\n    .dataframe tbody tr th {\n        vertical-align: top;\n    }\n\n    .dataframe thead th {\n        text-align: right;\n    }\n</style>\n<table border=\"1\" class=\"dataframe\">\n  <thead>\n    <tr style=\"text-align: right;\">\n      <th></th>\n      <th>size</th>\n      <th>nunique</th>\n      <th>max</th>\n      <th>min</th>\n      <th>std</th>\n    </tr>\n    <tr>\n      <th>president</th>\n      <th></th>\n      <th></th>\n      <th></th>\n      <th></th>\n      <th></th>\n    </tr>\n  </thead>\n  <tbody>\n    <tr>\n      <th>박정희</th>\n      <td>1270</td>\n      <td>1270</td>\n      <td>1310436</td>\n      <td>1305368</td>\n      <td>405.083473</td>\n    </tr>\n    <tr>\n      <th>최규하</th>\n      <td>58</td>\n      <td>58</td>\n      <td>1306693</td>\n      <td>1306636</td>\n      <td>16.886879</td>\n    </tr>\n    <tr>\n      <th>전두환</th>\n      <td>602</td>\n      <td>602</td>\n      <td>1307295</td>\n      <td>1306694</td>\n      <td>173.926709</td>\n    </tr>\n    <tr>\n      <th>노태우</th>\n      <td>601</td>\n      <td>601</td>\n      <td>1314573</td>\n      <td>1307296</td>\n      <td>2604.175564</td>\n    </tr>\n    <tr>\n      <th>김영삼</th>\n      <td>728</td>\n      <td>728</td>\n      <td>1308524</td>\n      <td>1307797</td>\n      <td>210.299786</td>\n    </tr>\n    <tr>\n      <th>김대중</th>\n      <td>822</td>\n      <td>822</td>\n      <td>1309346</td>\n      <td>1308525</td>\n      <td>237.435254</td>\n    </tr>\n    <tr>\n      <th>노무현</th>\n      <td>780</td>\n      <td>780</td>\n      <td>1310126</td>\n      <td>1309347</td>\n      <td>225.310896</td>\n    </tr>\n    <tr>\n      <th>이명박</th>\n      <td>1027</td>\n      <td>1027</td>\n      <td>1330674</td>\n      <td>1310127</td>\n      <td>8071.852992</td>\n    </tr>\n    <tr>\n      <th>이승만</th>\n      <td>998</td>\n      <td>998</td>\n      <td>1311338</td>\n      <td>1310337</td>\n      <td>288.863301</td>\n    </tr>\n    <tr>\n      <th>윤보선</th>\n      <td>3</td>\n      <td>3</td>\n      <td>1310439</td>\n      <td>1310437</td>\n      <td>1.000000</td>\n    </tr>\n    <tr>\n      <th>박근혜</th>\n      <td>493</td>\n      <td>493</td>\n      <td>1400493</td>\n      <td>1400001</td>\n      <td>142.461106</td>\n    </tr>\n    <tr>\n      <th>문재인</th>\n      <td>1389</td>\n      <td>1389</td>\n      <td>1401991</td>\n      <td>1400600</td>\n      <td>401.917153</td>\n    </tr>\n  </tbody>\n</table>\n</div>"
     },
     "execution_count": 24,
     "metadata": {},
     "output_type": "execute_result"
    }
   ],
   "source": [
    "df_president_drop_dup.groupby(\"president\")[\"division_number\"].agg([\"size\", \"nunique\", \"max\", \"min\", \"std\"]).sort_values(\"min\", ascending=True)"
   ],
   "metadata": {
    "collapsed": false,
    "ExecuteTime": {
     "end_time": "2023-09-06T03:46:44.570867Z",
     "start_time": "2023-09-06T03:46:44.549972Z"
    }
   },
   "id": "1049007d8444588"
  },
  {
   "cell_type": "code",
   "execution_count": 25,
   "outputs": [],
   "source": [
    "df_president_drop_dup.to_parquet(\"../src/president_speech/db/parquet/president_speech_ko.parquet\")"
   ],
   "metadata": {
    "collapsed": false,
    "ExecuteTime": {
     "end_time": "2023-09-06T03:51:13.729405Z",
     "start_time": "2023-09-06T03:51:13.516890Z"
    }
   },
   "id": "f93f3d0fb63489fc"
  },
  {
   "cell_type": "code",
   "execution_count": 26,
   "outputs": [],
   "source": [
    "df = pd.read_parquet(\"../src/president_speech/db/parquet/president_speech_ko.parquet\")"
   ],
   "metadata": {
    "collapsed": false,
    "ExecuteTime": {
     "end_time": "2023-09-06T03:51:33.205577Z",
     "start_time": "2023-09-06T03:51:33.026642Z"
    }
   },
   "id": "e0de57e2e05c616"
  },
  {
   "cell_type": "code",
   "execution_count": 27,
   "outputs": [
    {
     "data": {
      "text/plain": "        division_number president                title        date location  \\\n5368            1305368       박정희  제5대 대통령 취임식 대통령 취임사  1963.12.17       국내   \n5369            1305369       박정희            국회 개회식 치사  1963.12.17       국내   \n5370            1305370       박정희               신년 메시지  1964.01.01       국내   \n5371            1305371       박정희      신년 시무식에 즈음한 담화문        1964       국내   \n5372            1305372       박정희       고급공무원에게 보내는 서신  1964.01.04       국내   \n...                 ...       ...                  ...         ...      ...   \n102587          1401987       문재인             수석·보좌관회의  2021.04.05       국내   \n102588          1401988       문재인            제16회 국무회의  2021.04.13       국내   \n102589          1401989       문재인             수석·보좌관회의  2021.04.19       국내   \n102590          1401990       문재인             수석·보좌관회의  2021.04.26       국내   \n102591          1401991       문재인            제18회 국무회의  2021.04.27       국내   \n\n          kind                                        speech_text  \n5368       취임사  \\n\\n\\n단군성조가 천혜의 이 강토 위에 국기를 닦으신지 반만년, 연면히 이어온 ...  \n5369       기념사   존경하는 국회의장, 의원제위 그리고 내외귀빈 여러분! 오늘 이 뜻깊은 제3공화국의...  \n5370       신년사   친애하는 국내외의 동포 여러분! 혁명의 고된 시련을 겪고 민정이양으로 매듭을 지은...  \n5371    성명/담화문  친애하는 전국의 공무원 여러분! 민족 역사 위에 격동과 시련의 해로 길이 기록될 계...  \n5372       기념사  청 감갑진년의 새아침을 맞이하여 귀하와 귀하의 가정에 만복이 깃들기를 빌며, 새해에...  \n...        ...                                                ...  \n102587      회의  우리가 코로나19 이전으로 얼마나 빨리 돌아갈 수 있는지 여부는 오로지 방역과 백신...  \n102588      회의  정부는 국민께 무한책임을 진다는 자세로 흔들림 없이 국정에 임해야 합니다.방역도, ...  \n102589      회의  우리 정부 임기 마지막 날까지 흔들림 없이 국민과 역사가 부여한 책무를 다하자는 다...  \n102590      회의  코로나19와 같은 감염병의 세계적 대유행은 어느 한 나라가 자국의 문제를 해결한다고...  \n102591      회의  오늘 한국은행이 발표한 1분기 GDP 속보치에 따르면 우리 경제는 올해 1분기에 이...  \n\n[8771 rows x 7 columns]",
      "text/html": "<div>\n<style scoped>\n    .dataframe tbody tr th:only-of-type {\n        vertical-align: middle;\n    }\n\n    .dataframe tbody tr th {\n        vertical-align: top;\n    }\n\n    .dataframe thead th {\n        text-align: right;\n    }\n</style>\n<table border=\"1\" class=\"dataframe\">\n  <thead>\n    <tr style=\"text-align: right;\">\n      <th></th>\n      <th>division_number</th>\n      <th>president</th>\n      <th>title</th>\n      <th>date</th>\n      <th>location</th>\n      <th>kind</th>\n      <th>speech_text</th>\n    </tr>\n  </thead>\n  <tbody>\n    <tr>\n      <th>5368</th>\n      <td>1305368</td>\n      <td>박정희</td>\n      <td>제5대 대통령 취임식 대통령 취임사</td>\n      <td>1963.12.17</td>\n      <td>국내</td>\n      <td>취임사</td>\n      <td>\\n\\n\\n단군성조가 천혜의 이 강토 위에 국기를 닦으신지 반만년, 연면히 이어온 ...</td>\n    </tr>\n    <tr>\n      <th>5369</th>\n      <td>1305369</td>\n      <td>박정희</td>\n      <td>국회 개회식 치사</td>\n      <td>1963.12.17</td>\n      <td>국내</td>\n      <td>기념사</td>\n      <td>존경하는 국회의장, 의원제위 그리고 내외귀빈 여러분! 오늘 이 뜻깊은 제3공화국의...</td>\n    </tr>\n    <tr>\n      <th>5370</th>\n      <td>1305370</td>\n      <td>박정희</td>\n      <td>신년 메시지</td>\n      <td>1964.01.01</td>\n      <td>국내</td>\n      <td>신년사</td>\n      <td>친애하는 국내외의 동포 여러분! 혁명의 고된 시련을 겪고 민정이양으로 매듭을 지은...</td>\n    </tr>\n    <tr>\n      <th>5371</th>\n      <td>1305371</td>\n      <td>박정희</td>\n      <td>신년 시무식에 즈음한 담화문</td>\n      <td>1964</td>\n      <td>국내</td>\n      <td>성명/담화문</td>\n      <td>친애하는 전국의 공무원 여러분! 민족 역사 위에 격동과 시련의 해로 길이 기록될 계...</td>\n    </tr>\n    <tr>\n      <th>5372</th>\n      <td>1305372</td>\n      <td>박정희</td>\n      <td>고급공무원에게 보내는 서신</td>\n      <td>1964.01.04</td>\n      <td>국내</td>\n      <td>기념사</td>\n      <td>청 감갑진년의 새아침을 맞이하여 귀하와 귀하의 가정에 만복이 깃들기를 빌며, 새해에...</td>\n    </tr>\n    <tr>\n      <th>...</th>\n      <td>...</td>\n      <td>...</td>\n      <td>...</td>\n      <td>...</td>\n      <td>...</td>\n      <td>...</td>\n      <td>...</td>\n    </tr>\n    <tr>\n      <th>102587</th>\n      <td>1401987</td>\n      <td>문재인</td>\n      <td>수석·보좌관회의</td>\n      <td>2021.04.05</td>\n      <td>국내</td>\n      <td>회의</td>\n      <td>우리가 코로나19 이전으로 얼마나 빨리 돌아갈 수 있는지 여부는 오로지 방역과 백신...</td>\n    </tr>\n    <tr>\n      <th>102588</th>\n      <td>1401988</td>\n      <td>문재인</td>\n      <td>제16회 국무회의</td>\n      <td>2021.04.13</td>\n      <td>국내</td>\n      <td>회의</td>\n      <td>정부는 국민께 무한책임을 진다는 자세로 흔들림 없이 국정에 임해야 합니다.방역도, ...</td>\n    </tr>\n    <tr>\n      <th>102589</th>\n      <td>1401989</td>\n      <td>문재인</td>\n      <td>수석·보좌관회의</td>\n      <td>2021.04.19</td>\n      <td>국내</td>\n      <td>회의</td>\n      <td>우리 정부 임기 마지막 날까지 흔들림 없이 국민과 역사가 부여한 책무를 다하자는 다...</td>\n    </tr>\n    <tr>\n      <th>102590</th>\n      <td>1401990</td>\n      <td>문재인</td>\n      <td>수석·보좌관회의</td>\n      <td>2021.04.26</td>\n      <td>국내</td>\n      <td>회의</td>\n      <td>코로나19와 같은 감염병의 세계적 대유행은 어느 한 나라가 자국의 문제를 해결한다고...</td>\n    </tr>\n    <tr>\n      <th>102591</th>\n      <td>1401991</td>\n      <td>문재인</td>\n      <td>제18회 국무회의</td>\n      <td>2021.04.27</td>\n      <td>국내</td>\n      <td>회의</td>\n      <td>오늘 한국은행이 발표한 1분기 GDP 속보치에 따르면 우리 경제는 올해 1분기에 이...</td>\n    </tr>\n  </tbody>\n</table>\n<p>8771 rows × 7 columns</p>\n</div>"
     },
     "execution_count": 27,
     "metadata": {},
     "output_type": "execute_result"
    }
   ],
   "source": [
    "df"
   ],
   "metadata": {
    "collapsed": false,
    "ExecuteTime": {
     "end_time": "2023-09-06T03:51:34.389792Z",
     "start_time": "2023-09-06T03:51:34.378555Z"
    }
   },
   "id": "b0ae6d960392b7be"
  },
  {
   "cell_type": "code",
   "execution_count": null,
   "outputs": [],
   "source": [],
   "metadata": {
    "collapsed": false
   },
   "id": "cadfa968c56c98ed"
  }
 ],
 "metadata": {
  "kernelspec": {
   "display_name": "Python 3",
   "language": "python",
   "name": "python3"
  },
  "language_info": {
   "codemirror_mode": {
    "name": "ipython",
    "version": 2
   },
   "file_extension": ".py",
   "mimetype": "text/x-python",
   "name": "python",
   "nbconvert_exporter": "python",
   "pygments_lexer": "ipython2",
   "version": "2.7.6"
  }
 },
 "nbformat": 4,
 "nbformat_minor": 5
}
