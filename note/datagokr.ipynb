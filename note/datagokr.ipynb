{
 "cells": [
  {
   "cell_type": "code",
   "execution_count": 1,
   "id": "initial_id",
   "metadata": {
    "collapsed": true,
    "ExecuteTime": {
     "end_time": "2023-09-04T02:30:00.068218Z",
     "start_time": "2023-09-04T02:29:59.954623Z"
    }
   },
   "outputs": [],
   "source": [
    "import requests\n",
    "\n",
    "headers = {\n",
    "    'accept': '*/*',\n",
    "}\n",
    "\n",
    "params = {\n",
    "    'page': '1',\n",
    "    'perPage': '10',\n",
    "    'serviceKey': 'ruy8A/v/syRNrte7Dyj7znYCM1HtSahtkKc7ZHTQUu+9dzLXkgdmTkbKhSwUqNwY2ksAHgrKPg/eV2SGtl1N6A==',\n",
    "}\n",
    "\n",
    "response = requests.get(\n",
    "    'https://api.odcloud.kr/api/15084167/v1/uddi:1c8b5454-bd4e-45db-98f7-fe94d71f271b',\n",
    "    params=params,\n",
    "    headers=headers,\n",
    ")"
   ]
  },
  {
   "cell_type": "code",
   "execution_count": 2,
   "outputs": [
    {
     "data": {
      "text/plain": "<Response [200]>"
     },
     "execution_count": 2,
     "metadata": {},
     "output_type": "execute_result"
    }
   ],
   "source": [
    "response"
   ],
   "metadata": {
    "collapsed": false,
    "ExecuteTime": {
     "end_time": "2023-09-04T02:30:05.032368Z",
     "start_time": "2023-09-04T02:30:05.024344Z"
    }
   },
   "id": "2c0fdf3d160b4e6c"
  },
  {
   "cell_type": "code",
   "execution_count": 4,
   "outputs": [
    {
     "data": {
      "text/plain": "{'currentCount': 10,\n 'data': [{'구분번호': 1310440,\n   '글제목': '대통령 취임사(大統領就任辭)',\n   '대통령': '이승만',\n   '연설일자': '1948-07-24',\n   '연설장소': '국내',\n   '원문보기': 'http://dams.pa.go.kr:8888/dams/DOCUMENT/2009/11/26/DOC/SRC/0104200911263997500039975011942.PDF'},\n  {'구분번호': 1310441,\n   '글제목': '민족이 원하는 길을 따를 결심, 국무총리 인준 부결에 대하여',\n   '대통령': '이승만',\n   '연설일자': '1948-07-29',\n   '연설장소': '국내',\n   '원문보기': 'http://dams.pa.go.kr:8888/dams/DOCUMENT/2009/11/26/DOC/SRC/0104200911263997600039976011943.PDF'},\n  {'구분번호': 1310442,\n   '글제목': '미급점(未及點) 육성하라',\n   '대통령': '이승만',\n   '연설일자': '1948-08-09',\n   '연설장소': '국내',\n   '원문보기': 'http://dams.pa.go.kr:8888/dams/DOCUMENT/2009/11/26/DOC/SRC/0104200911263997700039977011944.PDF'},\n  {'구분번호': 1310443,\n   '글제목': '전민족에게 충고함',\n   '대통령': '이승만',\n   '연설일자': '1948-08-12',\n   '연설장소': '국내',\n   '원문보기': 'http://dams.pa.go.kr:8888/dams/DOCUMENT/2009/11/26/DOC/SRC/0104200911263997800039978011945.PDF'},\n  {'구분번호': 1310445,\n   '글제목': '함께 뭉쳐서 자강전진(自疆前進) 외모(外侮)막자 (해방 3주년 기념사)',\n   '대통령': '이승만',\n   '연설일자': '1948-08-15',\n   '연설장소': '국내',\n   '원문보기': 'http://dams.pa.go.kr:8888/dams/DOCUMENT/2009/11/26/DOC/SRC/0104200911263998000039980011947.PDF'},\n  {'구분번호': 1310444,\n   '글제목': '대한민국 정부수립과 우리의 각오',\n   '대통령': '이승만',\n   '연설일자': '1948-08-15',\n   '연설장소': '국내',\n   '원문보기': 'http://dams.pa.go.kr:8888/dams/DOCUMENT/2009/11/26/DOC/SRC/0104200911263997900039979011946.PDF'},\n  {'구분번호': 1310446,\n   '글제목': '정권 이양문제에 대하여',\n   '대통령': '이승만',\n   '연설일자': '1948-09-04',\n   '연설장소': '국내',\n   '원문보기': 'http://dams.pa.go.kr:8888/dams/DOCUMENT/2009/11/26/DOC/SRC/0104200911263998100039981011948.PDF'},\n  {'구분번호': 1310447,\n   '글제목': '북한정권(北韓政權)에 대하여',\n   '대통령': '이승만',\n   '연설일자': '1948-09-05',\n   '연설장소': '국내',\n   '원문보기': 'http://dams.pa.go.kr:8888/dams/DOCUMENT/2009/11/26/DOC/SRC/0104200911263998200039982011949.PDF'},\n  {'구분번호': 1310448,\n   '글제목': '미소(美蘇) 양군 철퇴문제에 대하여',\n   '대통령': '이승만',\n   '연설일자': '1948-09-22',\n   '연설장소': '국내',\n   '원문보기': 'http://dams.pa.go.kr:8888/dams/DOCUMENT/2009/11/26/DOC/SRC/0104200911263998300039983011950.PDF'},\n  {'구분번호': 1310449,\n   '글제목': '반민자(反民者) 처단(處斷)은 민의(民意), 법운영은 보복보다 개과천선(改過遷善)토록 하라',\n   '대통령': '이승만',\n   '연설일자': '1948-09-24',\n   '연설장소': '국내',\n   '원문보기': 'http://dams.pa.go.kr:8888/dams/DOCUMENT/2009/11/26/DOC/SRC/0104200911263998400039984011951.PDF'}],\n 'matchCount': 7173,\n 'page': 1,\n 'perPage': 10,\n 'totalCount': 7173}"
     },
     "execution_count": 4,
     "metadata": {},
     "output_type": "execute_result"
    }
   ],
   "source": [
    "response.json()"
   ],
   "metadata": {
    "collapsed": false,
    "ExecuteTime": {
     "end_time": "2023-09-04T02:30:17.151007Z",
     "start_time": "2023-09-04T02:30:17.148312Z"
    }
   },
   "id": "c6d89ef441b9907f"
  },
  {
   "cell_type": "code",
   "execution_count": 5,
   "outputs": [],
   "source": [
    "# https://stackoverflow.com/questions/45470964/python-extracting-text-from-webpage-pdf"
   ],
   "metadata": {
    "collapsed": false,
    "ExecuteTime": {
     "end_time": "2023-09-04T02:41:28.982466Z",
     "start_time": "2023-09-04T02:41:28.975520Z"
    }
   },
   "id": "f96e1257296d90b9"
  },
  {
   "cell_type": "code",
   "execution_count": 60,
   "outputs": [],
   "source": [
    "import pandas as pd\n",
    "\n",
    "# csv 파일 열기\n",
    "df = pd.read_csv(\"president_speeches_sample100.csv\")"
   ],
   "metadata": {
    "collapsed": false,
    "ExecuteTime": {
     "end_time": "2023-09-04T06:18:13.537420Z",
     "start_time": "2023-09-04T06:18:13.526228Z"
    }
   },
   "id": "2afdf51d8644e594"
  },
  {
   "cell_type": "code",
   "execution_count": 61,
   "outputs": [
    {
     "data": {
      "text/plain": "       구분번호  대통령                                       글제목        연설일자  \\\n0   1310440  이승만                          대통령 취임사(大統領就任辭)   1948-07-24   \n1   1310441  이승만        민족이 원하는 길을 따를 결심, 국무총리 인준 부결에 대하여   1948-07-29   \n2   1310442  이승만                            미급점(未及點) 육성하라   1948-08-09   \n3   1310443  이승만                                전민족에게 충고함   1948-08-12   \n4   1310445  이승만  함께 뭉쳐서 자강전진(自疆前進) 외모(外侮)막자 (해방 3주년 기념사)   1948-08-15   \n..      ...  ...                                       ...         ...   \n95  1310536  이승만                                 토탄을 사용하라   1949-09-30   \n96  1310537  이승만                   공산당과 협의 불가, 인권보증에 결사투쟁   1949-10-07   \n97  1310538  이승만                                한글사용에 관하여   1949-10-12   \n98  1310539  이승만                 대한 적십자사 재조직 중앙대회에 전하는 훈사   1949-10-25   \n99  1310540  이승만                           비료는 농회(農會)서 배급   1949-11-01   \n\n                                                 원문보기 연설장소  \n0   http://dams.pa.go.kr:8888/dams/DOCUMENT/2009/1...   국내  \n1   http://dams.pa.go.kr:8888/dams/DOCUMENT/2009/1...   국내  \n2   http://dams.pa.go.kr:8888/dams/DOCUMENT/2009/1...   국내  \n3   http://dams.pa.go.kr:8888/dams/DOCUMENT/2009/1...   국내  \n4   http://dams.pa.go.kr:8888/dams/DOCUMENT/2009/1...   국내  \n..                                                ...  ...  \n95  http://dams.pa.go.kr:8888/dams/DOCUMENT/2009/1...   국내  \n96  http://dams.pa.go.kr:8888/dams/DOCUMENT/2009/1...   국내  \n97  http://dams.pa.go.kr:8888/dams/DOCUMENT/2009/1...   국내  \n98  http://dams.pa.go.kr:8888/dams/DOCUMENT/2009/1...   국내  \n99  http://dams.pa.go.kr:8888/dams/DOCUMENT/2009/1...   국내  \n\n[100 rows x 6 columns]",
      "text/html": "<div>\n<style scoped>\n    .dataframe tbody tr th:only-of-type {\n        vertical-align: middle;\n    }\n\n    .dataframe tbody tr th {\n        vertical-align: top;\n    }\n\n    .dataframe thead th {\n        text-align: right;\n    }\n</style>\n<table border=\"1\" class=\"dataframe\">\n  <thead>\n    <tr style=\"text-align: right;\">\n      <th></th>\n      <th>구분번호</th>\n      <th>대통령</th>\n      <th>글제목</th>\n      <th>연설일자</th>\n      <th>원문보기</th>\n      <th>연설장소</th>\n    </tr>\n  </thead>\n  <tbody>\n    <tr>\n      <th>0</th>\n      <td>1310440</td>\n      <td>이승만</td>\n      <td>대통령 취임사(大統領就任辭)</td>\n      <td>1948-07-24</td>\n      <td>http://dams.pa.go.kr:8888/dams/DOCUMENT/2009/1...</td>\n      <td>국내</td>\n    </tr>\n    <tr>\n      <th>1</th>\n      <td>1310441</td>\n      <td>이승만</td>\n      <td>민족이 원하는 길을 따를 결심, 국무총리 인준 부결에 대하여</td>\n      <td>1948-07-29</td>\n      <td>http://dams.pa.go.kr:8888/dams/DOCUMENT/2009/1...</td>\n      <td>국내</td>\n    </tr>\n    <tr>\n      <th>2</th>\n      <td>1310442</td>\n      <td>이승만</td>\n      <td>미급점(未及點) 육성하라</td>\n      <td>1948-08-09</td>\n      <td>http://dams.pa.go.kr:8888/dams/DOCUMENT/2009/1...</td>\n      <td>국내</td>\n    </tr>\n    <tr>\n      <th>3</th>\n      <td>1310443</td>\n      <td>이승만</td>\n      <td>전민족에게 충고함</td>\n      <td>1948-08-12</td>\n      <td>http://dams.pa.go.kr:8888/dams/DOCUMENT/2009/1...</td>\n      <td>국내</td>\n    </tr>\n    <tr>\n      <th>4</th>\n      <td>1310445</td>\n      <td>이승만</td>\n      <td>함께 뭉쳐서 자강전진(自疆前進) 외모(外侮)막자 (해방 3주년 기념사)</td>\n      <td>1948-08-15</td>\n      <td>http://dams.pa.go.kr:8888/dams/DOCUMENT/2009/1...</td>\n      <td>국내</td>\n    </tr>\n    <tr>\n      <th>...</th>\n      <td>...</td>\n      <td>...</td>\n      <td>...</td>\n      <td>...</td>\n      <td>...</td>\n      <td>...</td>\n    </tr>\n    <tr>\n      <th>95</th>\n      <td>1310536</td>\n      <td>이승만</td>\n      <td>토탄을 사용하라</td>\n      <td>1949-09-30</td>\n      <td>http://dams.pa.go.kr:8888/dams/DOCUMENT/2009/1...</td>\n      <td>국내</td>\n    </tr>\n    <tr>\n      <th>96</th>\n      <td>1310537</td>\n      <td>이승만</td>\n      <td>공산당과 협의 불가, 인권보증에 결사투쟁</td>\n      <td>1949-10-07</td>\n      <td>http://dams.pa.go.kr:8888/dams/DOCUMENT/2009/1...</td>\n      <td>국내</td>\n    </tr>\n    <tr>\n      <th>97</th>\n      <td>1310538</td>\n      <td>이승만</td>\n      <td>한글사용에 관하여</td>\n      <td>1949-10-12</td>\n      <td>http://dams.pa.go.kr:8888/dams/DOCUMENT/2009/1...</td>\n      <td>국내</td>\n    </tr>\n    <tr>\n      <th>98</th>\n      <td>1310539</td>\n      <td>이승만</td>\n      <td>대한 적십자사 재조직 중앙대회에 전하는 훈사</td>\n      <td>1949-10-25</td>\n      <td>http://dams.pa.go.kr:8888/dams/DOCUMENT/2009/1...</td>\n      <td>국내</td>\n    </tr>\n    <tr>\n      <th>99</th>\n      <td>1310540</td>\n      <td>이승만</td>\n      <td>비료는 농회(農會)서 배급</td>\n      <td>1949-11-01</td>\n      <td>http://dams.pa.go.kr:8888/dams/DOCUMENT/2009/1...</td>\n      <td>국내</td>\n    </tr>\n  </tbody>\n</table>\n<p>100 rows × 6 columns</p>\n</div>"
     },
     "execution_count": 61,
     "metadata": {},
     "output_type": "execute_result"
    }
   ],
   "source": [
    "df"
   ],
   "metadata": {
    "collapsed": false,
    "ExecuteTime": {
     "end_time": "2023-09-04T06:18:14.875909Z",
     "start_time": "2023-09-04T06:18:14.867487Z"
    }
   },
   "id": "605f59345a70c74f"
  },
  {
   "cell_type": "code",
   "execution_count": 63,
   "outputs": [
    {
     "name": "stdout",
     "output_type": "stream",
     "text": [
      "구분번호                                              1310440\n",
      "대통령                                                   이승만\n",
      "글제목                                      대통령 취임사(大統領就任辭) \n",
      "연설일자                                           1948-07-24\n",
      "원문보기    http://dams.pa.go.kr:8888/dams/DOCUMENT/2009/1...\n",
      "연설장소                                                   국내\n",
      "Name: 0, dtype: object\n",
      "구분번호                                              1310441\n",
      "대통령                                                   이승만\n",
      "글제목                    민족이 원하는 길을 따를 결심, 국무총리 인준 부결에 대하여 \n",
      "연설일자                                           1948-07-29\n",
      "원문보기    http://dams.pa.go.kr:8888/dams/DOCUMENT/2009/1...\n",
      "연설장소                                                   국내\n",
      "Name: 1, dtype: object\n",
      "구분번호                                              1310442\n",
      "대통령                                                   이승만\n",
      "글제목                                        미급점(未及點) 육성하라 \n",
      "연설일자                                           1948-08-09\n",
      "원문보기    http://dams.pa.go.kr:8888/dams/DOCUMENT/2009/1...\n",
      "연설장소                                                   국내\n",
      "Name: 2, dtype: object\n",
      "구분번호                                              1310443\n",
      "대통령                                                   이승만\n",
      "글제목                                            전민족에게 충고함 \n",
      "연설일자                                           1948-08-12\n",
      "원문보기    http://dams.pa.go.kr:8888/dams/DOCUMENT/2009/1...\n",
      "연설장소                                                   국내\n",
      "Name: 3, dtype: object\n",
      "구분번호                                              1310445\n",
      "대통령                                                   이승만\n",
      "글제목              함께 뭉쳐서 자강전진(自疆前進) 외모(外侮)막자 (해방 3주년 기념사) \n",
      "연설일자                                           1948-08-15\n",
      "원문보기    http://dams.pa.go.kr:8888/dams/DOCUMENT/2009/1...\n",
      "연설장소                                                   국내\n",
      "Name: 4, dtype: object\n",
      "구분번호                                              1310444\n",
      "대통령                                                   이승만\n",
      "글제목                                    대한민국 정부수립과 우리의 각오 \n",
      "연설일자                                           1948-08-15\n",
      "원문보기    http://dams.pa.go.kr:8888/dams/DOCUMENT/2009/1...\n",
      "연설장소                                                   국내\n",
      "Name: 5, dtype: object\n",
      "구분번호                                              1310446\n",
      "대통령                                                   이승만\n",
      "글제목                                         정권 이양문제에 대하여 \n",
      "연설일자                                           1948-09-04\n",
      "원문보기    http://dams.pa.go.kr:8888/dams/DOCUMENT/2009/1...\n",
      "연설장소                                                   국내\n",
      "Name: 6, dtype: object\n",
      "구분번호                                              1310447\n",
      "대통령                                                   이승만\n",
      "글제목                                      북한정권(北韓政權)에 대하여 \n",
      "연설일자                                           1948-09-05\n",
      "원문보기    http://dams.pa.go.kr:8888/dams/DOCUMENT/2009/1...\n",
      "연설장소                                                   국내\n",
      "Name: 7, dtype: object\n",
      "구분번호                                              1310448\n",
      "대통령                                                   이승만\n",
      "글제목                                  미소(美蘇) 양군 철퇴문제에 대하여 \n",
      "연설일자                                           1948-09-22\n",
      "원문보기    http://dams.pa.go.kr:8888/dams/DOCUMENT/2009/1...\n",
      "연설장소                                                   국내\n",
      "Name: 8, dtype: object\n",
      "구분번호                                              1310449\n",
      "대통령                                                   이승만\n",
      "글제목     반민자(反民者) 처단(處斷)은 민의(民意), 법운영은 보복보다 개과천선(改過遷善)토...\n",
      "연설일자                                           1948-09-24\n",
      "원문보기    http://dams.pa.go.kr:8888/dams/DOCUMENT/2009/1...\n",
      "연설장소                                                   국내\n",
      "Name: 9, dtype: object\n",
      "구분번호                                              1310450\n",
      "대통령                                                   이승만\n",
      "글제목                                           미곡 수집에 대하여 \n",
      "연설일자                                           1948-09-30\n",
      "원문보기    http://dams.pa.go.kr:8888/dams/DOCUMENT/2009/1...\n",
      "연설장소                                                   국내\n",
      "Name: 10, dtype: object\n",
      "구분번호                                              1310451\n",
      "대통령                                                   이승만\n",
      "글제목                           맥 원수(元帥) 한국(韓國) 보위(保衛)에 언급 \n",
      "연설일자                                           1948-10-09\n",
      "원문보기    http://dams.pa.go.kr:8888/dams/DOCUMENT/2009/1...\n",
      "연설장소                                                   국내\n",
      "Name: 11, dtype: object\n",
      "구분번호                                              1310452\n",
      "대통령                                                   이승만\n",
      "글제목                                             한글날을 맞이하여\n",
      "연설일자                                           1948-10-09\n",
      "원문보기    http://dams.pa.go.kr:8888/dams/DOCUMENT/2009/1...\n",
      "연설장소                                                   국내\n",
      "Name: 12, dtype: object\n",
      "구분번호                                              1310453\n",
      "대통령                                                   이승만\n",
      "글제목                                  미국민(美國民)과 이해증진을 희망함 \n",
      "연설일자                                           1948-10-21\n",
      "원문보기    http://dams.pa.go.kr:8888/dams/DOCUMENT/2009/1...\n",
      "연설장소                                                   국내\n",
      "Name: 13, dtype: object\n",
      "구분번호                                              1310454\n",
      "대통령                                                   이승만\n",
      "글제목                                            한일통상에 대하여 \n",
      "연설일자                                           1948-10-22\n",
      "원문보기    http://dams.pa.go.kr:8888/dams/DOCUMENT/2009/1...\n",
      "연설장소                                                   국내\n",
      "Name: 14, dtype: object\n",
      "구분번호                                              1310455\n",
      "대통령                                                   이승만\n",
      "글제목                   반도(叛徒)는 진퇴유곡(進退維谷) 후환(後患) 방어책에 전력하라\n",
      "연설일자                                           1948-10-24\n",
      "원문보기    http://dams.pa.go.kr:8888/dams/DOCUMENT/2009/1...\n",
      "연설장소                                                   국내\n",
      "Name: 15, dtype: object\n",
      "구분번호                                              1310456\n",
      "대통령                                                   이승만\n",
      "글제목                      적자(賊子)의 선동을 경계하고 충의로 치안유지에 협력하라 \n",
      "연설일자                                           1948-10-29\n",
      "원문보기    http://dams.pa.go.kr:8888/dams/DOCUMENT/2009/1...\n",
      "연설장소                                                   국내\n",
      "Name: 16, dtype: object\n",
      "구분번호                                              1310457\n",
      "대통령                                                   이승만\n",
      "글제목                         불순배(不純輩)를 철저히 제거 반역사상방지법령 준비 \n",
      "연설일자                                           1948-11-05\n",
      "원문보기    http://dams.pa.go.kr:8888/dams/DOCUMENT/2009/1...\n",
      "연설장소                                                   국내\n",
      "Name: 17, dtype: object\n",
      "구분번호                                              1310458\n",
      "대통령                                                   이승만\n",
      "글제목                                   트루만 미국 대통령 당선에 대하여 \n",
      "연설일자                                           1948-11-05\n",
      "원문보기    http://dams.pa.go.kr:8888/dams/DOCUMENT/2009/1...\n",
      "연설장소                                                   국내\n",
      "Name: 18, dtype: object\n",
      "구분번호                                              1310459\n",
      "대통령                                                   이승만\n",
      "글제목                                          안전보장은 관민일치로 \n",
      "연설일자                                           1948-11-07\n",
      "원문보기    http://dams.pa.go.kr:8888/dams/DOCUMENT/2009/1...\n",
      "연설장소                                                   국내\n",
      "Name: 19, dtype: object\n",
      "구분번호                                              1310460\n",
      "대통령                                                   이승만\n",
      "글제목               공산분자의 반란 정부가 책임질 수 없다, 국회의 내각 개조요구는 유감 \n",
      "연설일자                                           1948-11-09\n",
      "원문보기    http://dams.pa.go.kr:8888/dams/DOCUMENT/2009/1...\n",
      "연설장소                                                   국내\n",
      "Name: 20, dtype: object\n",
      "구분번호                                              1310461\n",
      "대통령                                                   이승만\n",
      "글제목                   양곡 매상 불여의(不如意) 시(時)는 특별 조처(措處)를 강구 \n",
      "연설일자                                           1948-11-17\n",
      "원문보기    http://dams.pa.go.kr:8888/dams/DOCUMENT/2009/1...\n",
      "연설장소                                                   국내\n",
      "Name: 21, dtype: object\n",
      "구분번호                                              1310462\n",
      "대통령                                                   이승만\n",
      "글제목                                              국회와는 화해 \n",
      "연설일자                                           1948-11-19\n",
      "원문보기    http://dams.pa.go.kr:8888/dams/DOCUMENT/2009/1...\n",
      "연설장소                                                   국내\n",
      "Name: 22, dtype: object\n",
      "구분번호                                              1310463\n",
      "대통령                                                   이승만\n",
      "글제목                                     건설적인 비평과 파괴적인 비평 \n",
      "연설일자                                           1948-11-19\n",
      "원문보기    http://dams.pa.go.kr:8888/dams/DOCUMENT/2009/1...\n",
      "연설장소                                                   국내\n",
      "Name: 23, dtype: object\n",
      "구분번호                                              1310464\n",
      "대통령                                                   이승만\n",
      "글제목                                          미곡 수집에 협력하라 \n",
      "연설일자                                           1948-11-23\n",
      "원문보기    http://dams.pa.go.kr:8888/dams/DOCUMENT/2009/1...\n",
      "연설장소                                                   국내\n",
      "Name: 24, dtype: object\n",
      "구분번호                                              1310465\n",
      "대통령                                                   이승만\n",
      "글제목                                  청년들은 궐기하여 반역분자 타도하라 \n",
      "연설일자                                           1948-11-29\n",
      "원문보기    http://dams.pa.go.kr:8888/dams/DOCUMENT/2009/1...\n",
      "연설장소                                                   국내\n",
      "Name: 25, dtype: object\n",
      "구분번호                                              1310466\n",
      "대통령                                                   이승만\n",
      "글제목                                             정부를 옹호하자 \n",
      "연설일자                                           1948-11-01\n",
      "원문보기    http://dams.pa.go.kr:8888/dams/DOCUMENT/2009/1...\n",
      "연설장소                                                   국내\n",
      "Name: 26, dtype: object\n",
      "구분번호                                              1310467\n",
      "대통령                                                   이승만\n",
      "글제목                                 UN총회의 한국문제 토의 연기는 부당 \n",
      "연설일자                                           1948-12-04\n",
      "원문보기    http://dams.pa.go.kr:8888/dams/DOCUMENT/2009/1...\n",
      "연설장소                                                   국내\n",
      "Name: 27, dtype: object\n",
      "구분번호                                              1310468\n",
      "대통령                                                   이승만\n",
      "글제목                                   이 강토는 한족(韓族)이 주인이다 \n",
      "연설일자                                           1948-12-07\n",
      "원문보기    http://dams.pa.go.kr:8888/dams/DOCUMENT/2009/1...\n",
      "연설장소                                                   국내\n",
      "Name: 28, dtype: object\n",
      "구분번호                                              1310470\n",
      "대통령                                                   이승만\n",
      "글제목                       민주와 공산은 상반된 이념, 중국적화는 용납할 수 없다 \n",
      "연설일자                                           1948-12-19\n",
      "원문보기    http://dams.pa.go.kr:8888/dams/DOCUMENT/2009/1...\n",
      "연설장소                                                   국내\n",
      "Name: 29, dtype: object\n",
      "구분번호                                              1310469\n",
      "대통령                                                   이승만\n",
      "글제목                                             통일에 협력요망 \n",
      "연설일자                                           1948-12-19\n",
      "원문보기    http://dams.pa.go.kr:8888/dams/DOCUMENT/2009/1...\n",
      "연설장소                                                   국내\n",
      "Name: 30, dtype: object\n",
      "구분번호                                              1310471\n",
      "대통령                                                   이승만\n",
      "글제목                                    UN 정치위원회의 결의에 대하여 \n",
      "연설일자                                           1948-12-21\n",
      "원문보기    http://dams.pa.go.kr:8888/dams/DOCUMENT/2009/1...\n",
      "연설장소                                                   국내\n",
      "Name: 31, dtype: object\n",
      "구분번호                                              1310472\n",
      "대통령                                                   이승만\n",
      "글제목                                             신국면에 대하여 \n",
      "연설일자                                           1948-12-25\n",
      "원문보기    http://dams.pa.go.kr:8888/dams/DOCUMENT/2009/1...\n",
      "연설장소                                                   국내\n",
      "Name: 32, dtype: object\n",
      "구분번호                                              1310473\n",
      "대통령                                                   이승만\n",
      "글제목                                            석탄채굴에 힘쓰자 \n",
      "연설일자                                           1948-12-29\n",
      "원문보기    http://dams.pa.go.kr:8888/dams/DOCUMENT/2009/1...\n",
      "연설장소                                                   국내\n",
      "Name: 33, dtype: object\n",
      "구분번호                                              1310474\n",
      "대통령                                                   이승만\n",
      "글제목                                       이북동포와 인민군에게 보냄 \n",
      "연설일자                                           1948-12-01\n",
      "원문보기    http://dams.pa.go.kr:8888/dams/DOCUMENT/2009/1...\n",
      "연설장소                                                   국내\n",
      "Name: 34, dtype: object\n",
      "구분번호                                              1310476\n",
      "대통령                                                   이승만\n",
      "글제목                                          새해를 마지하는 마음 \n",
      "연설일자                                           1949-01-01\n",
      "원문보기    http://dams.pa.go.kr:8888/dams/DOCUMENT/2009/1...\n",
      "연설장소                                                   국내\n",
      "Name: 35, dtype: object\n",
      "구분번호                                              1310477\n",
      "대통령                                                   이승만\n",
      "글제목                                            평생에 기쁜 소식 \n",
      "연설일자                                           1949-01-04\n",
      "원문보기    http://dams.pa.go.kr:8888/dams/DOCUMENT/2009/1...\n",
      "연설장소                                                   국내\n",
      "Name: 36, dtype: object\n",
      "구분번호                                              1310478\n",
      "대통령                                                   이승만\n",
      "글제목                                   전국 청년단체 합동과 청년의 사명 \n",
      "연설일자                                           1949-01-06\n",
      "원문보기    http://dams.pa.go.kr:8888/dams/DOCUMENT/2009/1...\n",
      "연설장소                                                   국내\n",
      "Name: 37, dtype: object\n",
      "구분번호                                              1310479\n",
      "대통령                                                   이승만\n",
      "글제목                              개각설은 무근(無根), 국민은 현혹치 마라 \n",
      "연설일자                                           1949-01-08\n",
      "원문보기    http://dams.pa.go.kr:8888/dams/DOCUMENT/2009/1...\n",
      "연설장소                                                   국내\n",
      "Name: 38, dtype: object\n",
      "구분번호                                              1310480\n",
      "대통령                                                   이승만\n",
      "글제목                       쌀 암매장치(闇買藏置)는 부당, 호농지주의 협력이 긴요 \n",
      "연설일자                                           1949-01-14\n",
      "원문보기    http://dams.pa.go.kr:8888/dams/DOCUMENT/2009/1...\n",
      "연설장소                                                   국내\n",
      "Name: 39, dtype: object\n",
      "구분번호                                              1310481\n",
      "대통령                                                   이승만\n",
      "글제목                                          민생과 국방에 최중점 \n",
      "연설일자                                           1949-01-25\n",
      "원문보기    http://dams.pa.go.kr:8888/dams/DOCUMENT/2009/1...\n",
      "연설장소                                                   국내\n",
      "Name: 40, dtype: object\n",
      "구분번호                                              1310482\n",
      "대통령                                                   이승만\n",
      "글제목                                      화부(華府)에 대사관 설치함 \n",
      "연설일자                                           1949-02-01\n",
      "원문보기    http://dams.pa.go.kr:8888/dams/DOCUMENT/2009/1...\n",
      "연설장소                                                   국내\n",
      "Name: 41, dtype: object\n",
      "구분번호                                              1310483\n",
      "대통령                                                   이승만\n",
      "글제목                                불법 소장 양곡은 몰수 또는 강제 매입 \n",
      "연설일자                                           1949-02-03\n",
      "원문보기    http://dams.pa.go.kr:8888/dams/DOCUMENT/2009/1...\n",
      "연설장소                                                   국내\n",
      "Name: 42, dtype: object\n",
      "구분번호                                              1310484\n",
      "대통령                                                   이승만\n",
      "글제목                        사무분담 명백히 하라, 반민법(反民法) 실시에 대하여 \n",
      "연설일자                                           1949-02-04\n",
      "원문보기    http://dams.pa.go.kr:8888/dams/DOCUMENT/2009/1...\n",
      "연설장소                                                   국내\n",
      "Name: 43, dtype: object\n",
      "구분번호                                              1310485\n",
      "대통령                                                   이승만\n",
      "글제목                                          매곡 완수에 노력하라 \n",
      "연설일자                                           1949-02-06\n",
      "원문보기    http://dams.pa.go.kr:8888/dams/DOCUMENT/2009/1...\n",
      "연설장소                                                   국내\n",
      "Name: 44, dtype: object\n",
      "구분번호                                              1310486\n",
      "대통령                                                   이승만\n",
      "글제목                          통일은 한위(韓委)와 협의, 철병 운운은 시기상조 \n",
      "연설일자                                           1949-02-08\n",
      "원문보기    http://dams.pa.go.kr:8888/dams/DOCUMENT/2009/1...\n",
      "연설장소                                                   국내\n",
      "Name: 45, dtype: object\n",
      "구분번호                                              1310487\n",
      "대통령                                                   이승만\n",
      "글제목                          대 민간 작폐를 엄금, 건설 사업에 적극 매진하라 \n",
      "연설일자                                           1949-02-10\n",
      "원문보기    http://dams.pa.go.kr:8888/dams/DOCUMENT/2009/1...\n",
      "연설장소                                                   국내\n",
      "Name: 46, dtype: object\n",
      "구분번호                                              1310488\n",
      "대통령                                                   이승만\n",
      "글제목                                         애국공채 발행에 대하야 \n",
      "연설일자                                           1949-02-14\n",
      "원문보기    http://dams.pa.go.kr:8888/dams/DOCUMENT/2009/1...\n",
      "연설장소                                                   국내\n",
      "Name: 47, dtype: object\n",
      "구분번호                                              1310489\n",
      "대통령                                                   이승만\n",
      "글제목                            특경대(特警隊)는 폐지하라, 특위 체포 못한다 \n",
      "연설일자                                           1949-02-16\n",
      "원문보기    http://dams.pa.go.kr:8888/dams/DOCUMENT/2009/1...\n",
      "연설장소                                                   국내\n",
      "Name: 48, dtype: object\n",
      "구분번호                                              1310490\n",
      "대통령                                                   이승만\n",
      "글제목                                           정당한 공론이 필요 \n",
      "연설일자                                           1949-02-22\n",
      "원문보기    http://dams.pa.go.kr:8888/dams/DOCUMENT/2009/1...\n",
      "연설장소                                                   국내\n",
      "Name: 49, dtype: object\n",
      "구분번호                                              1310491\n",
      "대통령                                                   이승만\n",
      "글제목                                   국토방위에 분골쇄신(粉骨碎身)하자 \n",
      "연설일자                                           1949-02-24\n",
      "원문보기    http://dams.pa.go.kr:8888/dams/DOCUMENT/2009/1...\n",
      "연설장소                                                   국내\n",
      "Name: 50, dtype: object\n",
      "구분번호                                              1310492\n",
      "대통령                                                   이승만\n",
      "글제목                                   일본 재무장설(再武裝說)에 대하여 \n",
      "연설일자                                           1949-02-26\n",
      "원문보기    http://dams.pa.go.kr:8888/dams/DOCUMENT/2009/1...\n",
      "연설장소                                                   국내\n",
      "Name: 51, dtype: object\n",
      "구분번호                                              1310494\n",
      "대통령                                                   이승만\n",
      "글제목                                          국가 민족을 수호하라 \n",
      "연설일자                                           1949-03-01\n",
      "원문보기    http://dams.pa.go.kr:8888/dams/DOCUMENT/2009/1...\n",
      "연설장소                                                   국내\n",
      "Name: 52, dtype: object\n",
      "구분번호                                              1310493\n",
      "대통령                                                   이승만\n",
      "글제목                                            기미독립운동 정신 \n",
      "연설일자                                           1949-03-01\n",
      "원문보기    http://dams.pa.go.kr:8888/dams/DOCUMENT/2009/1...\n",
      "연설장소                                                   국내\n",
      "Name: 53, dtype: object\n",
      "구분번호                                              1310495\n",
      "대통령                                                   이승만\n",
      "글제목                                               납세와 국민 \n",
      "연설일자                                           1949-03-07\n",
      "원문보기    http://dams.pa.go.kr:8888/dams/DOCUMENT/2009/1...\n",
      "연설장소                                                   국내\n",
      "Name: 54, dtype: object\n",
      "구분번호                                              1310496\n",
      "대통령                                                   이승만\n",
      "글제목                                    대서양동맹(大西洋同盟)에 기대함 \n",
      "연설일자                                           1949-03-23\n",
      "원문보기    http://dams.pa.go.kr:8888/dams/DOCUMENT/2009/1...\n",
      "연설장소                                                   국내\n",
      "Name: 55, dtype: object\n",
      "구분번호                                              1310497\n",
      "대통령                                                   이승만\n",
      "글제목                                                 태평양동맹\n",
      "연설일자                                           1949-03-24\n",
      "원문보기    http://dams.pa.go.kr:8888/dams/DOCUMENT/2009/1...\n",
      "연설장소                                                   국내\n",
      "Name: 56, dtype: object\n",
      "구분번호                                              1310498\n",
      "대통령                                                   이승만\n",
      "글제목                                          새와 짐승을 사랑하자 \n",
      "연설일자                                           1949-03-28\n",
      "원문보기    http://dams.pa.go.kr:8888/dams/DOCUMENT/2009/1...\n",
      "연설장소                                                   국내\n",
      "Name: 57, dtype: object\n",
      "구분번호                                              1310499\n",
      "대통령                                                   이승만\n",
      "글제목                                         나무를 심그고 사랑하자 \n",
      "연설일자                                           1949-04-05\n",
      "원문보기    http://dams.pa.go.kr:8888/dams/DOCUMENT/2009/1...\n",
      "연설장소                                                   국내\n",
      "Name: 58, dtype: object\n",
      "구분번호                                              1310500\n",
      "대통령                                                   이승만\n",
      "글제목                                    애국애족정신으로 나무를 애호하자 \n",
      "연설일자                                           1949-04-06\n",
      "원문보기    http://dams.pa.go.kr:8888/dams/DOCUMENT/2009/1...\n",
      "연설장소                                                   국내\n",
      "Name: 59, dtype: object\n",
      "구분번호                                              1310501\n",
      "대통령                                                   이승만\n",
      "글제목                        관민합력으로 경제개량, 신년도 예산안을 국회에 회부코 \n",
      "연설일자                                           1949-04-13\n",
      "원문보기    http://dams.pa.go.kr:8888/dams/DOCUMENT/2009/1...\n",
      "연설장소                                                   국내\n",
      "Name: 60, dtype: object\n",
      "구분번호                                              1310503\n",
      "대통령                                                   이승만\n",
      "글제목                                       반민(反民) 특경대는 해산 \n",
      "연설일자                                           1949-04-16\n",
      "원문보기    http://dams.pa.go.kr:8888/dams/DOCUMENT/2009/1...\n",
      "연설장소                                                   국내\n",
      "Name: 61, dtype: object\n",
      "구분번호                                              1310502\n",
      "대통령                                                   이승만\n",
      "글제목                     감위(監委)의 직제개정(職制改正), 파면권(罷免權)은 정지 \n",
      "연설일자                                           1949-04-16\n",
      "원문보기    http://dams.pa.go.kr:8888/dams/DOCUMENT/2009/1...\n",
      "연설장소                                                   국내\n",
      "Name: 62, dtype: object\n",
      "구분번호                                              1310504\n",
      "대통령                                                   이승만\n",
      "글제목                                         미군의 철퇴를 토의 중 \n",
      "연설일자                                           1949-04-19\n",
      "원문보기    http://dams.pa.go.kr:8888/dams/DOCUMENT/2009/1...\n",
      "연설장소                                                   국내\n",
      "Name: 63, dtype: object\n",
      "구분번호                                              1310505\n",
      "대통령                                                   이승만\n",
      "글제목                         북벌 아닌 통일달성, 중국 사태에 우려 무용(無用) \n",
      "연설일자                                           1949-04-28\n",
      "원문보기    http://dams.pa.go.kr:8888/dams/DOCUMENT/2009/1...\n",
      "연설장소                                                   국내\n",
      "Name: 64, dtype: object\n",
      "구분번호                                              1310506\n",
      "대통령                                                   이승만\n",
      "글제목                                            어린이날에 대하여 \n",
      "연설일자                                           1949-05-01\n",
      "원문보기    http://dams.pa.go.kr:8888/dams/DOCUMENT/2009/1...\n",
      "연설장소                                                   국내\n",
      "Name: 65, dtype: object\n",
      "구분번호                                              1310507\n",
      "대통령                                                   이승만\n",
      "글제목                               국회 제1회 정기회의 폐회식 치사(致辭) \n",
      "연설일자                                           1949-05-03\n",
      "원문보기    http://dams.pa.go.kr:8888/dams/DOCUMENT/2009/1...\n",
      "연설장소                                                   국내\n",
      "Name: 66, dtype: object\n",
      "구분번호                                              1310508\n",
      "대통령                                                   이승만\n",
      "글제목                                          38선 사태에 대하여 \n",
      "연설일자                                           1949-05-06\n",
      "원문보기    http://dams.pa.go.kr:8888/dams/DOCUMENT/2009/1...\n",
      "연설장소                                                   국내\n",
      "Name: 67, dtype: object\n",
      "구분번호                                              1310509\n",
      "대통령                                                   이승만\n",
      "글제목                                     5·10선거 제1주년을 맞이하여\n",
      "연설일자                                           1949-05-10\n",
      "원문보기    http://dams.pa.go.kr:8888/dams/DOCUMENT/2009/1...\n",
      "연설장소                                                   국내\n",
      "Name: 68, dtype: object\n",
      "구분번호                                              1310510\n",
      "대통령                                                   이승만\n",
      "글제목                             역사적 의의 깊은 민족의 날! 5.10 선거 \n",
      "연설일자                                           1949-05-11\n",
      "원문보기    http://dams.pa.go.kr:8888/dams/DOCUMENT/2009/1...\n",
      "연설장소                                                   국내\n",
      "Name: 69, dtype: object\n",
      "구분번호                                              1310511\n",
      "대통령                                                   이승만\n",
      "글제목                          목포(木浦) 중유발전소(重油發電所) 준공식에 치사 \n",
      "연설일자                                           1949-06-04\n",
      "원문보기    http://dams.pa.go.kr:8888/dams/DOCUMENT/2009/1...\n",
      "연설장소                                                   국내\n",
      "Name: 70, dtype: object\n",
      "구분번호                                              1310512\n",
      "대통령                                                   이승만\n",
      "글제목                                      미국 온정에 영원히 감사하자 \n",
      "연설일자                                           1949-06-09\n",
      "원문보기    http://dams.pa.go.kr:8888/dams/DOCUMENT/2009/1...\n",
      "연설장소                                                   국내\n",
      "Name: 71, dtype: object\n",
      "구분번호                                              1310513\n",
      "대통령                                                   이승만\n",
      "글제목                               입법, 행정부 대립은 부당, 상호협조하자 \n",
      "연설일자                                           1949-06-14\n",
      "원문보기    http://dams.pa.go.kr:8888/dams/DOCUMENT/2009/1...\n",
      "연설장소                                                   국내\n",
      "Name: 72, dtype: object\n",
      "구분번호                                              1310514\n",
      "대통령                                                   이승만\n",
      "글제목                                           애국자 윤병구 목사 \n",
      "연설일자                                           1949-06-24\n",
      "원문보기    http://dams.pa.go.kr:8888/dams/DOCUMENT/2009/1...\n",
      "연설장소                                                   국내\n",
      "Name: 73, dtype: object\n",
      "구분번호                                              1310515\n",
      "대통령                                                   이승만\n",
      "글제목                                       김구 선생 급서에 통탄불금 \n",
      "연설일자                                           1949-06-28\n",
      "원문보기    http://dams.pa.go.kr:8888/dams/DOCUMENT/2009/1...\n",
      "연설장소                                                   국내\n",
      "Name: 74, dtype: object\n",
      "구분번호                                              1310516\n",
      "대통령                                                   이승만\n",
      "글제목                                           최근 사건에 관하여 \n",
      "연설일자                                           1949-07-02\n",
      "원문보기    http://dams.pa.go.kr:8888/dams/DOCUMENT/2009/1...\n",
      "연설장소                                                   국내\n",
      "Name: 75, dtype: object\n",
      "구분번호                                              1310517\n",
      "대통령                                                   이승만\n",
      "글제목                        임시제도로 성안(成案), 자치법 공포(公布)에 대하여 \n",
      "연설일자                                           1949-07-04\n",
      "원문보기    http://dams.pa.go.kr:8888/dams/DOCUMENT/2009/1...\n",
      "연설장소                                                   국내\n",
      "Name: 76, dtype: object\n",
      "구분번호                                              1310518\n",
      "대통령                                                   이승만\n",
      "글제목                               선거는 UN 감시로, 북한 제안에 대하여 \n",
      "연설일자                                           1949-07-10\n",
      "원문보기    http://dams.pa.go.kr:8888/dams/DOCUMENT/2009/1...\n",
      "연설장소                                                   국내\n",
      "Name: 77, dtype: object\n",
      "구분번호                                              1310519\n",
      "대통령                                                   이승만\n",
      "글제목                                          바귀오 회담에 대하여 \n",
      "연설일자                                           1949-07-12\n",
      "원문보기    http://dams.pa.go.kr:8888/dams/DOCUMENT/2009/1...\n",
      "연설장소                                                   국내\n",
      "Name: 78, dtype: object\n",
      "구분번호                                              1310520\n",
      "대통령                                                   이승만\n",
      "글제목                                      명예박사 학위수여식에 임하여 \n",
      "연설일자                                           1949-07-15\n",
      "원문보기    http://dams.pa.go.kr:8888/dams/DOCUMENT/2009/1...\n",
      "연설장소                                                   국내\n",
      "Name: 79, dtype: object\n",
      "구분번호                                              1310521\n",
      "대통령                                                   이승만\n",
      "글제목                                  장(蔣) 총통의 방한은 단결을 증명 \n",
      "연설일자                                           1949-07-28\n",
      "원문보기    http://dams.pa.go.kr:8888/dams/DOCUMENT/2009/1...\n",
      "연설장소                                                   국내\n",
      "Name: 80, dtype: object\n",
      "구분번호                                              1310522\n",
      "대통령                                                   이승만\n",
      "글제목                           만민공락(萬民共樂)의 국초(國礎)를 전정(奠定),\n",
      "연설일자                                           1949-07-01\n",
      "원문보기    http://dams.pa.go.kr:8888/dams/DOCUMENT/2009/1...\n",
      "연설장소                                                   국내\n",
      "Name: 81, dtype: object\n",
      "구분번호                                              1310523\n",
      "대통령                                                   이승만\n",
      "글제목                                       우방과 함께 부강 전진하자 \n",
      "연설일자                                           1949-08-04\n",
      "원문보기    http://dams.pa.go.kr:8888/dams/DOCUMENT/2009/1...\n",
      "연설장소                                                   국내\n",
      "Name: 82, dtype: object\n",
      "구분번호                                              1310524\n",
      "대통령                                                   이승만\n",
      "글제목                                      장개석 총통의 방한을 환영함 \n",
      "연설일자                                           1949-08-08\n",
      "원문보기    http://dams.pa.go.kr:8888/dams/DOCUMENT/2009/1...\n",
      "연설장소                                                   국내\n",
      "Name: 83, dtype: object\n",
      "구분번호                                              1310525\n",
      "대통령                                                   이승만\n",
      "글제목                                            쇄국주의를 배제함 \n",
      "연설일자                                           1949-08-10\n",
      "원문보기    http://dams.pa.go.kr:8888/dams/DOCUMENT/2009/1...\n",
      "연설장소                                                   국내\n",
      "Name: 84, dtype: object\n",
      "구분번호                                              1310526\n",
      "대통령                                                   이승만\n",
      "글제목                                            고(故) 헐벝박사 \n",
      "연설일자                                           1949-08-11\n",
      "원문보기    http://dams.pa.go.kr:8888/dams/DOCUMENT/2009/1...\n",
      "연설장소                                                   국내\n",
      "Name: 85, dtype: object\n",
      "구분번호                                              1310527\n",
      "대통령                                                   이승만\n",
      "글제목                                           태평양동맹에 대하여 \n",
      "연설일자                                           1949-08-13\n",
      "원문보기    http://dams.pa.go.kr:8888/dams/DOCUMENT/2009/1...\n",
      "연설장소                                                   국내\n",
      "Name: 86, dtype: object\n",
      "구분번호                                              1310528\n",
      "대통령                                                   이승만\n",
      "글제목                                         정부수립 일주년 기념사 \n",
      "연설일자                                           1949-08-15\n",
      "원문보기    http://dams.pa.go.kr:8888/dams/DOCUMENT/2009/1...\n",
      "연설장소                                                   국내\n",
      "Name: 87, dtype: object\n",
      "구분번호                                              1310529\n",
      "대통령                                                   이승만\n",
      "글제목                                       다시 한번 경성(警醒)하라 \n",
      "연설일자                                           1949-08-20\n",
      "원문보기    http://dams.pa.go.kr:8888/dams/DOCUMENT/2009/1...\n",
      "연설장소                                                   국내\n",
      "Name: 88, dtype: object\n",
      "구분번호                                              1310530\n",
      "대통령                                                   이승만\n",
      "글제목                                           해군 관함식을 보고 \n",
      "연설일자                                           1949-08-21\n",
      "원문보기    http://dams.pa.go.kr:8888/dams/DOCUMENT/2009/1...\n",
      "연설장소                                                   국내\n",
      "Name: 89, dtype: object\n",
      "구분번호                                              1310531\n",
      "대통령                                                   이승만\n",
      "글제목                                     상권 확장에 능력 발휘를 요망 \n",
      "연설일자                                           1949-09-07\n",
      "원문보기    http://dams.pa.go.kr:8888/dams/DOCUMENT/2009/1...\n",
      "연설장소                                                   국내\n",
      "Name: 90, dtype: object\n",
      "구분번호                                              1310532\n",
      "대통령                                                   이승만\n",
      "글제목                                 귀속재산을 급속 처리할 수 있게 하라 \n",
      "연설일자                                           1949-09-18\n",
      "원문보기    http://dams.pa.go.kr:8888/dams/DOCUMENT/2009/1...\n",
      "연설장소                                                   국내\n",
      "Name: 91, dtype: object\n",
      "구분번호                                              1310533\n",
      "대통령                                                   이승만\n",
      "글제목                                            한일 협상에 대하여\n",
      "연설일자                                           1949-09-20\n",
      "원문보기    http://dams.pa.go.kr:8888/dams/DOCUMENT/2009/1...\n",
      "연설장소                                                   국내\n",
      "Name: 92, dtype: object\n",
      "구분번호                                              1310534\n",
      "대통령                                                   이승만\n",
      "글제목                                 대한 적십자사 지방대회에 전하는 훈사 \n",
      "연설일자                                           1949-09-24\n",
      "원문보기    http://dams.pa.go.kr:8888/dams/DOCUMENT/2009/1...\n",
      "연설장소                                                   국내\n",
      "Name: 93, dtype: object\n",
      "구분번호                                              1310535\n",
      "대통령                                                   이승만\n",
      "글제목                                      홍삼(紅蔘) 발매권에 대하여 \n",
      "연설일자                                           1949-09-25\n",
      "원문보기    http://dams.pa.go.kr:8888/dams/DOCUMENT/2009/1...\n",
      "연설장소                                                   국내\n",
      "Name: 94, dtype: object\n",
      "구분번호                                              1310536\n",
      "대통령                                                   이승만\n",
      "글제목                                             토탄을 사용하라 \n",
      "연설일자                                           1949-09-30\n",
      "원문보기    http://dams.pa.go.kr:8888/dams/DOCUMENT/2009/1...\n",
      "연설장소                                                   국내\n",
      "Name: 95, dtype: object\n",
      "구분번호                                              1310537\n",
      "대통령                                                   이승만\n",
      "글제목                               공산당과 협의 불가, 인권보증에 결사투쟁 \n",
      "연설일자                                           1949-10-07\n",
      "원문보기    http://dams.pa.go.kr:8888/dams/DOCUMENT/2009/1...\n",
      "연설장소                                                   국내\n",
      "Name: 96, dtype: object\n",
      "구분번호                                              1310538\n",
      "대통령                                                   이승만\n",
      "글제목                                            한글사용에 관하여 \n",
      "연설일자                                           1949-10-12\n",
      "원문보기    http://dams.pa.go.kr:8888/dams/DOCUMENT/2009/1...\n",
      "연설장소                                                   국내\n",
      "Name: 97, dtype: object\n",
      "구분번호                                              1310539\n",
      "대통령                                                   이승만\n",
      "글제목                             대한 적십자사 재조직 중앙대회에 전하는 훈사 \n",
      "연설일자                                           1949-10-25\n",
      "원문보기    http://dams.pa.go.kr:8888/dams/DOCUMENT/2009/1...\n",
      "연설장소                                                   국내\n",
      "Name: 98, dtype: object\n",
      "구분번호                                              1310540\n",
      "대통령                                                   이승만\n",
      "글제목                                       비료는 농회(農會)서 배급 \n",
      "연설일자                                           1949-11-01\n",
      "원문보기    http://dams.pa.go.kr:8888/dams/DOCUMENT/2009/1...\n",
      "연설장소                                                   국내\n",
      "Name: 99, dtype: object\n"
     ]
    }
   ],
   "source": [
    "import sqlite3\n",
    "from pypdf import PdfReader\n",
    "import requests\n",
    "import io\n",
    "\n",
    "connection = sqlite3.connect(\"president_speeches.db\")\n",
    "cursor = connection.cursor()\n",
    "cursor.execute(\"\"\"\n",
    "CREATE TABLE IF NOT EXISTS president_speeches (\n",
    "division_number INT,\n",
    "president       TEXT,\n",
    "title           TEXT,\n",
    "date            TEXT,\n",
    "pdf_url         TEXT,\n",
    "location        TEXT,\n",
    "speech_text     TEXT);\n",
    "\"\"\")\n",
    "\n",
    "connection.commit()\n",
    "\n",
    "# csv 파일의 각 행을 순서대로 읽어 옴\n",
    "for idx, row in df.iterrows():\n",
    "\n",
    "    # 구분번호, 대통령, 글제목, 연설일자, 원문보기, 연설장소 를 변수에 저장\n",
    "    print(row)\n",
    "    division_number = row['구분번호']\n",
    "    president = row['대통령']\n",
    "    title = row['글제목']\n",
    "    date = row['연설일자']\n",
    "    pdf_url = row['원문보기']\n",
    "    location = row['연설장소']\n",
    "    \n",
    "    r = requests.get(pdf_url)\n",
    "    f = io.BytesIO(r.content)\n",
    "    \n",
    "    reader = PdfReader(f)\n",
    "    page = reader.pages[0]\n",
    "    # 연설원문을 변수에 저장\n",
    "    speech_text = page.extract_text().replace(\"\\n\", \"\")\n",
    "\n",
    "    # 데이터베이스에 저장\n",
    "    cursor.execute(\"\"\"INSERT INTO president_speeches (\n",
    "    division_number, \n",
    "    president, \n",
    "    title, \n",
    "    date, \n",
    "    pdf_url, \n",
    "    location, \n",
    "    speech_text) VALUES (?, ?, ?, ?, ?, ?, ?);\"\"\", \n",
    "                   (division_number, president, title, date, pdf_url, location, speech_text))\n",
    "    connection.commit()\n",
    "\n",
    "# 데이터베이스 연결 종료\n",
    "connection.close()\n"
   ],
   "metadata": {
    "collapsed": false,
    "ExecuteTime": {
     "end_time": "2023-09-04T06:21:45.453940Z",
     "start_time": "2023-09-04T06:21:28.526031Z"
    }
   },
   "id": "3b08436c73022d4d"
  },
  {
   "cell_type": "code",
   "execution_count": 1,
   "outputs": [],
   "source": [
    "# 1330137,이명박,한·아세안 특별정상회의(제2session) 인사말,2009-06-02,http://dams.pa.go.kr:8888/dams/DOCUMENT/2013/11/12/DOC/SRC/0104201311128517100085171018979.PDF,국내\n",
    "# 1330138,이명박,한·아세안 특별정상회의(제2session)모두 발언,2009-06-02,http://dams.pa.go.kr:8888/dams/DOCUMENT/2013/11/12/DOC/SRC/0104201311128517200085172018980.PDF,국내"
   ],
   "metadata": {
    "collapsed": false,
    "ExecuteTime": {
     "end_time": "2023-09-05T05:40:17.393783Z",
     "start_time": "2023-09-05T05:40:17.381606Z"
    }
   },
   "id": "2575a334bbc5fff9"
  },
  {
   "cell_type": "code",
   "execution_count": 2,
   "outputs": [],
   "source": [
    "import sqlite3\n",
    "from pypdf import PdfReader\n",
    "import requests\n",
    "import io"
   ],
   "metadata": {
    "collapsed": false,
    "ExecuteTime": {
     "end_time": "2023-09-05T05:40:52.497326Z",
     "start_time": "2023-09-05T05:40:52.434190Z"
    }
   },
   "id": "81c2a71661f2d28f"
  },
  {
   "cell_type": "code",
   "execution_count": 13,
   "outputs": [],
   "source": [
    "pdf_url = \"http://dams.pa.go.kr:8888/dams/DOCUMENT/2013/11/12/DOC/SRC/0104201311128517100085171018979.PDF\"\n",
    "pdf_url = \"http://dams.pa.go.kr:8888/dams/DOCUMENT/2013/11/12/DOC/SRC/0104201311128517000085170018978.PDF\""
   ],
   "metadata": {
    "collapsed": false,
    "ExecuteTime": {
     "end_time": "2023-09-05T05:44:54.205023Z",
     "start_time": "2023-09-05T05:44:54.196904Z"
    }
   },
   "id": "428be9b7abdbb9ab"
  },
  {
   "cell_type": "code",
   "execution_count": 14,
   "outputs": [],
   "source": [
    "r = requests.get(pdf_url)\n",
    "f = io.BytesIO(r.content)\n"
   ],
   "metadata": {
    "collapsed": false,
    "ExecuteTime": {
     "end_time": "2023-09-05T05:44:54.912364Z",
     "start_time": "2023-09-05T05:44:54.683902Z"
    }
   },
   "id": "59e5261d7468a16"
  },
  {
   "cell_type": "code",
   "execution_count": 15,
   "outputs": [],
   "source": [
    "reader = PdfReader(f)\n",
    "page = reader.pages[0]\n",
    "# 연설원문을 변수에 저장\n",
    "speech_text = page.extract_text().replace(\"\\n\", \"\")"
   ],
   "metadata": {
    "collapsed": false,
    "ExecuteTime": {
     "end_time": "2023-09-05T05:44:55.619498Z",
     "start_time": "2023-09-05T05:44:55.616633Z"
    }
   },
   "id": "13077d3d58f73f4a"
  },
  {
   "cell_type": "code",
   "execution_count": 16,
   "outputs": [
    {
     "data": {
      "text/plain": "''"
     },
     "execution_count": 16,
     "metadata": {},
     "output_type": "execute_result"
    }
   ],
   "source": [
    "speech_text"
   ],
   "metadata": {
    "collapsed": false,
    "ExecuteTime": {
     "end_time": "2023-09-05T05:44:56.659012Z",
     "start_time": "2023-09-05T05:44:56.655957Z"
    }
   },
   "id": "a7933e3755f7d6db"
  },
  {
   "cell_type": "code",
   "execution_count": 17,
   "outputs": [
    {
     "data": {
      "text/plain": "0"
     },
     "execution_count": 17,
     "metadata": {},
     "output_type": "execute_result"
    }
   ],
   "source": [
    "len(speech_text)"
   ],
   "metadata": {
    "collapsed": false,
    "ExecuteTime": {
     "end_time": "2023-09-05T05:45:26.621488Z",
     "start_time": "2023-09-05T05:45:26.614591Z"
    }
   },
   "id": "24ab73b78f676635"
  },
  {
   "cell_type": "code",
   "execution_count": 18,
   "outputs": [],
   "source": [
    "# https://www.pa.go.kr/research/contents/speech/index.jsp?spMode=view&catid=c_pa02062&artid=1401643\n",
    "# https://www.pa.go.kr/research/contents/speech/index.jsp?spMode=view&catid=c_pa02062&artid=1400011\n",
    "# https://www.pa.go.kr/research/contents/speech/index.jsp?spMode=view&catid=c_pa02062&artid=1310352"
   ],
   "metadata": {
    "collapsed": false,
    "ExecuteTime": {
     "end_time": "2023-09-05T05:51:06.172756Z",
     "start_time": "2023-09-05T05:51:06.165930Z"
    }
   },
   "id": "2a80fd332ec16a13"
  },
  {
   "cell_type": "code",
   "execution_count": 22,
   "outputs": [
    {
     "name": "stderr",
     "output_type": "stream",
     "text": [
      "/Users/m2/code/edu/president-speech/.venv/lib/python3.9/site-packages/urllib3/connectionpool.py:1095: InsecureRequestWarning: Unverified HTTPS request is being made to host 'www.pa.go.kr'. Adding certificate verification is strongly advised. See: https://urllib3.readthedocs.io/en/latest/advanced-usage.html#tls-warnings\n",
      "  warnings.warn(\n"
     ]
    },
    {
     "ename": "AttributeError",
     "evalue": "'NoneType' object has no attribute 'text'",
     "output_type": "error",
     "traceback": [
      "\u001B[0;31m---------------------------------------------------------------------------\u001B[0m",
      "\u001B[0;31mAttributeError\u001B[0m                            Traceback (most recent call last)",
      "Cell \u001B[0;32mIn[22], line 15\u001B[0m\n\u001B[1;32m     10\u001B[0m     text \u001B[38;5;241m=\u001B[39m soup\u001B[38;5;241m.\u001B[39mselect_one(\u001B[38;5;124m\"\u001B[39m\u001B[38;5;124m.article-content\u001B[39m\u001B[38;5;124m\"\u001B[39m)\u001B[38;5;241m.\u001B[39mtext\n\u001B[1;32m     12\u001B[0m     \u001B[38;5;28;01mreturn\u001B[39;00m title, text\n\u001B[0;32m---> 15\u001B[0m title, text \u001B[38;5;241m=\u001B[39m \u001B[43mcrawl_document\u001B[49m\u001B[43m(\u001B[49m\u001B[38;5;124;43m\"\u001B[39;49m\u001B[38;5;124;43mhttps://www.pa.go.kr/research/contents/speech/index.jsp?spMode=view&catid=c_pa02062&artid=1310352\u001B[39;49m\u001B[38;5;124;43m\"\u001B[39;49m\u001B[43m)\u001B[49m\n\u001B[1;32m     17\u001B[0m \u001B[38;5;28mprint\u001B[39m(title)\n\u001B[1;32m     18\u001B[0m \u001B[38;5;28mprint\u001B[39m(text)\n",
      "Cell \u001B[0;32mIn[22], line 9\u001B[0m, in \u001B[0;36mcrawl_document\u001B[0;34m(url)\u001B[0m\n\u001B[1;32m      6\u001B[0m html \u001B[38;5;241m=\u001B[39m response\u001B[38;5;241m.\u001B[39mtext\n\u001B[1;32m      7\u001B[0m soup \u001B[38;5;241m=\u001B[39m bs4\u001B[38;5;241m.\u001B[39mBeautifulSoup(html, \u001B[38;5;124m\"\u001B[39m\u001B[38;5;124mhtml.parser\u001B[39m\u001B[38;5;124m\"\u001B[39m)\n\u001B[0;32m----> 9\u001B[0m title \u001B[38;5;241m=\u001B[39m \u001B[43msoup\u001B[49m\u001B[38;5;241;43m.\u001B[39;49m\u001B[43mselect_one\u001B[49m\u001B[43m(\u001B[49m\u001B[38;5;124;43m\"\u001B[39;49m\u001B[38;5;124;43m.article-header h1\u001B[39;49m\u001B[38;5;124;43m\"\u001B[39;49m\u001B[43m)\u001B[49m\u001B[38;5;241;43m.\u001B[39;49m\u001B[43mtext\u001B[49m\n\u001B[1;32m     10\u001B[0m text \u001B[38;5;241m=\u001B[39m soup\u001B[38;5;241m.\u001B[39mselect_one(\u001B[38;5;124m\"\u001B[39m\u001B[38;5;124m.article-content\u001B[39m\u001B[38;5;124m\"\u001B[39m)\u001B[38;5;241m.\u001B[39mtext\n\u001B[1;32m     12\u001B[0m \u001B[38;5;28;01mreturn\u001B[39;00m title, text\n",
      "\u001B[0;31mAttributeError\u001B[0m: 'NoneType' object has no attribute 'text'"
     ]
    }
   ],
   "source": [
    "import requests\n",
    "import bs4\n",
    "\n",
    "def crawl_document(url):\n",
    "    response = requests.get(url, verify=False)\n",
    "    html = response.text\n",
    "    soup = bs4.BeautifulSoup(html, \"html.parser\")\n",
    "\n",
    "    title = soup.select_one(\".article-header h1\").text\n",
    "    text = soup.select_one(\".article-content\").text\n",
    "\n",
    "    return title, text\n",
    "\n",
    "\n",
    "title, text = crawl_document(\"https://www.pa.go.kr/research/contents/speech/index.jsp?spMode=view&catid=c_pa02062&artid=1310352\")\n",
    "\n",
    "print(title)\n",
    "print(text)"
   ],
   "metadata": {
    "collapsed": false,
    "ExecuteTime": {
     "end_time": "2023-09-05T05:53:31.083932Z",
     "start_time": "2023-09-05T05:53:30.876699Z"
    }
   },
   "id": "d852c0d7ebaa7361"
  },
  {
   "cell_type": "code",
   "execution_count": 53,
   "outputs": [
    {
     "name": "stderr",
     "output_type": "stream",
     "text": [
      "/Users/m2/code/edu/president-speech/.venv/lib/python3.9/site-packages/urllib3/connectionpool.py:1095: InsecureRequestWarning: Unverified HTTPS request is being made to host 'www.pa.go.kr'. Adding certificate verification is strongly advised. See: https://urllib3.readthedocs.io/en/latest/advanced-usage.html#tls-warnings\n",
      "  warnings.warn(\n"
     ]
    }
   ],
   "source": [
    "import requests\n",
    "import bs4\n",
    "\n",
    "url = \"https://www.pa.go.kr/research/contents/speech/index.jsp?spMode=view&catid=c_pa02062&artid=1310352\"\n",
    "\n",
    "# url = \"https://www.pa.go.kr/research/contents/speech/index.jsp?spMode=view&catid=c_pa02062&artid=14016412\"\n",
    "response = requests.get(url, verify=False)\n",
    "html = response.text\n",
    "soup = bs4.BeautifulSoup(html, \"html.parser\")"
   ],
   "metadata": {
    "collapsed": false,
    "ExecuteTime": {
     "end_time": "2023-09-05T07:25:18.859470Z",
     "start_time": "2023-09-05T07:25:18.669920Z"
    }
   },
   "id": "69b33560a94adb53"
  },
  {
   "cell_type": "code",
   "execution_count": 24,
   "outputs": [],
   "source": [
    "# title = soup.select_one(\".article-header h1\").text\n",
    "# text = soup.select_one(\".article-content\").text\n",
    "# \n",
    "# return title, text\n",
    "# \n",
    "# \n",
    "# title, text = crawl_document(\"https://www.pa.go.kr/research/contents/speech/index.jsp?spMode=view&catid=c_pa02062&artid=1310352\")\n",
    "# \n",
    "# print(title)\n",
    "# print(text)"
   ],
   "metadata": {
    "collapsed": false,
    "ExecuteTime": {
     "end_time": "2023-09-05T06:05:55.716426Z",
     "start_time": "2023-09-05T06:05:55.708806Z"
    }
   },
   "id": "52da1f27d7693843"
  },
  {
   "cell_type": "code",
   "execution_count": 54,
   "outputs": [],
   "source": [
    "subject = soup.select(\"td.subject\")\n",
    "contents = soup.select(\"td.content\")"
   ],
   "metadata": {
    "collapsed": false,
    "ExecuteTime": {
     "end_time": "2023-09-05T07:25:23.660622Z",
     "start_time": "2023-09-05T07:25:23.655441Z"
    }
   },
   "id": "3f6bd0db8532eaf8"
  },
  {
   "cell_type": "code",
   "execution_count": 65,
   "outputs": [
    {
     "data": {
      "text/plain": "'정부환도 평양탈환 경축 유엔군환영 국민대회 대통령치사 속기록'"
     },
     "execution_count": 65,
     "metadata": {},
     "output_type": "execute_result"
    }
   ],
   "source": [
    "subject[0].text"
   ],
   "metadata": {
    "collapsed": false,
    "ExecuteTime": {
     "end_time": "2023-09-05T07:28:19.941205Z",
     "start_time": "2023-09-05T07:28:19.926483Z"
    }
   },
   "id": "3548b649a7303f1"
  },
  {
   "cell_type": "code",
   "execution_count": 68,
   "outputs": [
    {
     "ename": "AttributeError",
     "evalue": "'str' object has no attribute 'text'",
     "output_type": "error",
     "traceback": [
      "\u001B[0;31m---------------------------------------------------------------------------\u001B[0m",
      "\u001B[0;31mAttributeError\u001B[0m                            Traceback (most recent call last)",
      "Cell \u001B[0;32mIn[68], line 1\u001B[0m\n\u001B[0;32m----> 1\u001B[0m \u001B[43mcontents\u001B[49m\u001B[43m[\u001B[49m\u001B[38;5;241;43m0\u001B[39;49m\u001B[43m]\u001B[49m\u001B[38;5;241;43m.\u001B[39;49m\u001B[43mtext\u001B[49m\n",
      "\u001B[0;31mAttributeError\u001B[0m: 'str' object has no attribute 'text'"
     ]
    }
   ],
   "source": [
    "contents[0].text"
   ],
   "metadata": {
    "collapsed": false,
    "ExecuteTime": {
     "end_time": "2023-09-05T07:30:25.602499Z",
     "start_time": "2023-09-05T07:30:25.597658Z"
    }
   },
   "id": "7e0df9b29789503e"
  },
  {
   "cell_type": "code",
   "execution_count": 108,
   "outputs": [],
   "source": [
    "table = soup.find(\"tbody\")\n",
    "tr = table.find_all(\"tr\")"
   ],
   "metadata": {
    "collapsed": false,
    "ExecuteTime": {
     "end_time": "2023-09-05T07:41:06.953328Z",
     "start_time": "2023-09-05T07:41:06.935227Z"
    }
   },
   "id": "eb9c8e09c336d9c3"
  },
  {
   "cell_type": "code",
   "execution_count": 28,
   "outputs": [
    {
     "data": {
      "text/plain": "<tbody>\n<tr>\n<td class=\"subject\" colspan=\"6\">정부환도 평양탈환 경축 유엔군환영 국민대회 대통령치사 속기록</td>\n</tr>\n<tr>\n<th scope=\"row\">연설일자</th>\n<td>1950.10.27</td>\n<th scope=\"row\">대통령</th>\n<td>이승만</td>\n<th scope=\"row\">연설장소</th>\n<td>국내</td>\n</tr>\n<tr>\n<th scope=\"row\">유형</th>\n<td>기념사</td>\n<th scope=\"row\">출처</th>\n<td colspan=\"3\">\n                            -\n                            \n\t                            <span class=\"mo-hidden\" style=\"float: right; margin-left: 5px;\">\n<a class=\"button size2 color1 invert\" href=\"javascript:void(0);\" onclick=\"getMobileView('https://dams.pa.go.kr/dams/DOCUMENT/2020/10/30/DOC/SRC/0104202010301014268891004013998.pdf');return false;\" title=\"새창열림\">\n\t                                    원문보기\n\t                                    <i aria-hidden=\"true\" class=\"icon-board-more2 lt\"></i>\n</a>\n</span>\n</td>\n</tr>\n<tr>\n<td class=\"content\" colspan=\"6\">議長, 유엔代表團여러분, 各國外交使節團 여러분 一般同胞兄弟姉妹여러분 內亂을지난뒤 이자리에서 여러同胞를 이렇게 만나게되는 나로서는 마음에 넘치는 感想을 무엇이라고 이야기하기어렵습니다. 모르고 모르되 모든 同胞 여기 모이신 同胞가 다 나와같은 感想을 갖었을줄압니다. 나는 요새 하는일없이 奔走한가운데 오늘 이자리에 準備한 말이없고 다만 簡單하게 祝辭로 두어마디 할 뿐입니다. 感想을 말하려면 말도 많이 있겠고 기맥힌 일도 많이 있고 또 좋은 希望도 많은 것입니다. 그러나 이자리의 順序가 또 기니만치 길게 말할수 없느니 만치 이다음에 하기로 할 簡單히 두어마디 하겠읍니다.\n\n\n나 알기에는 오늘 유엔代表團과 유엔軍人들이 우리나라를 救濟해준 그 功效와 그 思功을 表示하기 爲해서 여기 民衆이 自發的으로 모여서 말한마디라도 感謝의 뜻을 表하려고 한다는 말을듣고 나는 大端히 기쁜뜻으로나온것입니다. 그런데 意外에 여기다가 記念品을 贈呈해준다는것은 오히려 과만한생각이나는것입니다. 유엔 유나이티트 네이숀이 여러분에게 對해서 한일을 무엇이라고 致賀할는지 모르겠읍니다. 우리가 準備가없어가지고 準備있는사람들이 들어오는데 우리가 다 어찌할줄 모르는 境遇에있었읍니다. 그때에 萬一 共産軍들이 서울을 占領하고 南쪽까지 내려올 地境에일것같으면 우리準備없는사람들이 어떻게 할 수가없었을것입니다. 그러던것이 여기서 所聞이 나가고 또 우리 電報가 가자 美國大統領이 마음에 閣員을 모아가지고 이야기하고 그어려운 決心을 作定했읍니다. 그래가지고 各聯合國에펴저 나가는 結果로서 二十四時間안에 世界가 動하였는것입니다. 作定이되면서 戰爭準備를 하지않었든 나라와 平和를 主張하는 美國全國에서 軍士가 나오고 武器가 터저나오는데 배를가지고 六千「마일」 五千「마일」을 건너오려면 많은 時間이 걸릴테니까 飛行機를 가지고와서 短促한 時間內에 軍人이 들어오고 軍物 軍資가 들어와서 畢竟에는 大邱, 釜山을 占領치못하고 유엔軍士의 數爻가 늘고 軍機, 軍物이 날로 들어오게되어서 그때부터는 戰爭의 波濤가 돌아서게 되었든것입니다. 이러한 일은 東西間을 莫論하고 前古에 없었든것이고 世界가 지금 다 動해서 우리나라를 救濟하기를 自己나라를 救濟하는것같이 해가지고 外國軍人들이 여러千名이 목숨을 빼끼고 또 負傷한사람의 數爻가 헤아릴수없는 形便입니다. 우리가 서울을 다回復하고 平壤을回復해가지고 또 우리國軍이 鴨綠江까지 들어가게된것을 생각할때에 우리軍人들이 熱烈한 武力과 膽力과 그決心을 世上사람들이 다 稱讚하는것이요 그러는同時에 우리로는 우리가 다 잘해서 그렇게 되었다고 하는것보다도 우리 友邦들이 우리를 도와서 우리가 敗亡에이른것을 다시뒤집어 돌려가지고 結局은 以北을 다 通하며 統一을 해가지고 여러世界 모든나라에서 우리에게 食糧을 보내고 救濟品을 보내며 軍機軍物이 들어오며 破碇한 都市와 家屋과 建物들을 再建設하기 爲해서 지금 유엔 에서 날마다 討議하고있는中에있고 또 모든나라에서 物資와 燃料가 들어오는것이 以前 歷史에는 없는일로 記憶됩니다. 그럼으로 여기 對해서는 우리가 韓人된사람 여기 모인 男女同胞가 나부터라도 유엔에 對해서 또 美國에 對해서 感謝하는생각을 이자리에다 說明하기 어렵고 以后에도 永久히 잊어버리기 어려울것입니다. 그러므고 해서 오늘 여러同胞들이 여기 이와같이 많이 모여서 決定的으로 유엔代表團에 感謝를 表하고 유엔의 멤버되는 모든나라代表들과 그나라政府와 그百姓에게 感謝를 表하는것이 또 따라서 더욱히 美國大統領과 美國政府 모든 代表들과 또 美國大使 무쵸大使와 그外 모든 美國同胞들 美國國民들에게 對해서 우리는 滿腔의 熱情으로 感謝를 表할수밖에 없는것입니다. 外國軍人들이 아모準備도없고 생각도없고 또 韓國이라는것이 어떤나라라고 하는것을 모르고 지내는 사람들이 이번戰爭에 여기와서 별안간 所聞도 없이 별안간 부뜰려 나온사람들이 많은것이요 飛行機로 五千「마일」, 六千「마일」나와서 별안간 땅도 모르고 사람도 모르는데 갖다노니까 무슨까닭으로 여기서 싸움하는지 모르는 사람들이 많었든것입니다. 次次 이사람들이 알고보니까 韓國사람들이 저의 獨立과 저의 自由를 爲하야 共産黨과 對立이 되어가지고 蘇聯이 밀려내려오는데도 우리는 걱정없이 싸워나가겠다는 決心과 勇敢心을 보고서 感動하는 생각으로 우리가 이사람들을 救濟하는것이 우리나라를 救濟하는것이라는 생각으로 熱烈하게 해 나왔든것입니다. 지금 우리 親舊되는 나라들이 우리를 이와같이 도와줄적에 우리가 무엇을 생각해야 되는고하니 남들이 우리를 도와줄적에 그사람들 생각에 무엇이았을가를 생각해봐야됩니다. 그사람들생각에 이 韓人이라는사람들을 爲해서 목숨을 버리고 피를 흘리고 物資를 갖다가 도와주는것이 價値가 있느냐없느냐하는것을 누구나 생각하는것입니다. 내가 우리同胞에게 말하는것은 우리가 堂堂한 價値가 있어서 外國 모든 友邦들이 도와주는것이 아니라, 우리가 어느나라사람들 模樣으로 共産黨이 밀려들어오면 共産黨 旗를 들고 物資를 가지고 나가서 歡迎하는 것을 表하고 또 聯合軍이 들어오면 돌아서서 聯合軍旗를 가지고 나서서 歡迎을하는等 이리도하고 저리도해서 精神 못차리는 사람같으면 世界 어느나라든지 우리를 도와줄 理致도없는것이고 우리를爲해서 싸움해줄理致도 없는것입니다. 그러나 우리는 이때까지 熱烈하게 처음부터 우리獨立과 우리自由를爲해서 죽을때까지 屈하지않고 싸워나가겠다는것을 지금까지 지켜가지고 나온結果로 世上사람들이 다 알기를 韓人들은 주때가있고 決心이 있어서 民主政治와 自由라는것만을 爲해서 목숨을 내버리고 싸우는 사람이라는것이 表徵이된까닭으로 이분들이 이와같이 도와준것입니다.\n\n\n지금부터는 우리가 이 일을爲해서 모든 男女老少되는 사람들이 決心과精神을 단단히해가지고 유엔이 도와주든지 안도와주든지 世界가 모두 다 나와서 우리를 멸視하려고 할지로되 우리는 조곰도 겁낼것도없고 두려울것도없이 끝까지 싸워나간다는 決心을 지나간 석달동안에보인 그決心만치 지켜가지고나간다면 世上에 두려운것도 없고 또 누구나 우리를 侵犯할사람도 없을것입니다. 또 내가 믿기를 우리同胞가 그렇게 나갈수있다는것을… 變하지않는다는것을 다 아는것이고 또 世上 모든 親友들이 그와같은 感想을 가지고 나오는것입니다.\n\n\n그러므로해서 여러同胞들에게 길게 더 이야기하지않고 다만 한가지만 이야기하려고하는데 얼마전에 鍾路로… 모든男女들이 나와서 길을다치고 모두 破壞된것을 淸掃해가며 여러가지일을 한다고그래요. 맛당히 그리해야될것이요. 어느 나라사람이든지 戰爭이 되어서 破壞된뒤에는 나중에 그 모든사람들이 다 일어서서 하나도 흔적없게 만들자는 決心을가지고서 淸掃해나간단말이야요. 그러니 우리사람들도 그런決心을 가지고 男女老少가 다 뭍여서길까에서淸掃한다고 그래서 내가 求景兼慰勞兼 나간것입니다. 나가서 여러사람들이 洞內이쪽저쪽에 놓여서 하는것을보니까 좋은 感想이 들어요. 그래 내가 이분들을 慰勞하려고하니까 여기저기 일하는사람들이 暫時間에 ㎰㈋ 그이들이 나를보고서 어떤이는 나를부짭고 목을놓고 엉엉 운단말에요 그러지않을수없는것입니다.\n\n\n나도 눈물을 금키 어려워요. 그래 내가 그분들더러 묻기를 집도 물건도 모도 가지고있는것이 불에타서 다 없어지고 했다니 이에서 더 뮌봉舅潔愎鳴?慰勞의 말을 했습니다. 그랬드니 울든분들이 아니요 그것은 우리는 생각도없는것이라고해요. 도모지 근심할것이없다고하며 물건은있다가도없고 없다가도 있는것이니까 사면 괜찮어요 유엔軍이와서 우리목숨을 救해내서 우리가 살었으니까 그것이 感謝한것이라고 그렇게말해요\n\n\n우리는 그精神을 가저야됩니다. 언제든지 웃는 얼굴로 해나가야됩니다. 그래야 든든한 百姓 價値있는 百姓이 될줄 압니다. 우리가 그精神을가지고 모든것이 다 결단나뜨라도 우리獨立을 保護하고 우리 自由權利를 保護하고 우리生命만가지고있으면 다 만들수있는 것이란말이에요. 그 決心들을가지고 한덩어리가되어서 누구를 莫論하고 다 이러나서 어데로 가든지 男女들이 길까에 서서 아무일도 하는것없이 그냥서있거나 그런것을 보거들랑 그냥 잡어다가서 일을시켜요. 남보기에 길가에 아무것도 아니하고 일없는사람들이 죽 늘어서고 있는것을 보며는 이사람들은 게흘른사람들이라고 그래요. 할일없거들랑은 들어가서 門닫고 들어앉어서 잠을자든지 무엇을할지라도 길에죽나와서 아무일없이 서있거나 앉어있거나 하지말고 그런사람들이있거든 잡어다가 모도 일을시켜야될것이요. 그래서 남의나라사람들이 모든 物資를 가지고와서 우리를도와줄려고 機械라든지 모-든것을 드려오면 우리가 나가서 일해서 新世界를 만들어놓고 新生活을 해야되겠다는 決心을 가지고 일어나서 일들을해야될텐데 萬一 그렇지않고 남들이 救濟하고도와주는데 우리는 가마니앉어서먹기나하고 않주느니못주느니 적으니 많으니 이런소리나한다면 그사람들이 여기드러오는 物件들을 또다른데로 가져갈 念慮가 없지않는것입니다. 그러므로해서 우리軍人도싸우고 警察도싸우고 靑年들도싸움하는中에 우리뒤에있는 젊으이 늙으이들은 부지런히 집을淸潔하고 길을淸潔해서날마다 일해서 얼마안에 이 破壞된것을 다 깨끗이 치어놓고 자보아라하는듯이 해놓아야 될것입니다. 「유엔」이 여기 처음들어 왔을적에 「째널맥아더」將軍이 우리 서울을 奪還했으니까 ？身들이받이가시로하는 付託을할적에 「째날 맥아더」그분이 나더러말하는말이, 우리가 할수있는대로 다 建設할터니걱정마시오 短促한 時間안에 새世上처럼만드러놓겠다는것을 내게말했읍니다. 여기㎱決텃陵碩湧?밖에 나가서 모든同胞들에게 이말을傳해서 南北을莫論하고 함게이러나서 우리나라를 새나라를 만들어 가지고 살자는 그 決心을 가지고 일들하시고 그것이오늘여기모여서 「유엔」代表團에게 感謝하며 또 「유엔」軍들에게 感謝하는 뜻을 表하는 永久한 表示가 될것입니다. 부디한덩어리를만드시오. 共産黨들이와서 지나간 다섯해동안 以北을 占領해가지고서 韓人들을 韓人끼리 人心이 ??되어서 쌈하고 紛爭하는것을 만드노라고 所謂思想敎育이라는것을만들어가지고 벨소리다했든것입니다.\n\n그사람들 해가는 일들은 뭔고하니 어느나라든지 들어가서 그나라 百姓끼리 싸움하게 만드는 것입니다. 百姓들은 政府를 反對하고 政府와 싸우게 하고 百姓은 저이끼리 싸움하게 만드는 이것이 그사람들이 밤낯 해서 만드는 것입니다. 以北同胞들에게對해서도 以南同胞들에게 對한 어떤 感想과 惡感을 많이 가지게 만들었을것입니다.\n\n그러나 우리나라는 檀君 箕子 扶餘族屬以後로 한피, 같은 族屬입니다. 늘 紛爭없이 함께 한나라로되었든나라이고 以後에도 永永 한나라 한百姓으로지낼사람들이므로해서 어떤사람이든지 어떤團體든지 個人個人이고간에 分裂의생각은 가지지말고 무슨 南이니 北이니해가지고서 또 거기다가 무슨 離間을 各隔≠側?이렇게하는사람이 있거들랑 모든同胞가 한마음 한듯이되어가지고 그사람들은 같이 못살사람들이라는걸생각해서 나라에 妨害를 부치는 사람이요 團體로 認定해야될것입니다. 그래가지고서 우리는 南도 없고 北도 없고 다만 永永한 한 家族이요 한 집안 한 덩어리가 되어가지고 좋으나 나뿌나 죽으나 사나 다같이 함께 살자는게 目的입니다. 그러므로해서 할수있는대로 이제는 같은同胞가 집을 불태놓고서 갈때없어 얼어죽게 되는사람들에 對해서는 當身들 집있는 사람들은 房 한間이나 어디있을자리를 어데 비어놓고서 불러드리시요. 내 자랑하는 얘기는 아니지만 景武台 넓다란 집에 있어 가지고서는 나부터 이래가지고 안되겠다는 생각이 들어서 그옆의 조그만 집하나를 지금 벼놓고 그리 옴겨앉어 가지고 나 있는데는 政府閣員들이 들어가지고 살도록 우리부터 이렇게 하고 있습니다. 그와같은 精神들을 여러분들이 다 가지시요. 그 精神들은 우리가 다 가집시다. 그리고 우리가 新生活을 지금부터 해서 都市도 새都市를 만들고 우리 집안도 새 집안을 만들어 가지고 얼마안에는 世界에 對해서 이것봐라 하는드시 자랑을하고살며 이것이 유엔과 美國이 와서 우리를 도와주어서 이렇게 만들어논 거라는것을 表하는것이며 同時에 유엔軍과 유엔代表團에게 感謝한 뜻을 永久히 表示해서 우리 後世子孫까지라도 다 이福利를 누릴만큼 만들기를 오늘 여기 ㎱?여러同胞들은 決心하고서 지금 나가면서부터는 부지런이 일해서 우리새世上새나라를 만들기에 많은 貢獻들을 하기를 내가 바랍니다.\n</td>\n</tr>\n</tbody>"
     },
     "execution_count": 28,
     "metadata": {},
     "output_type": "execute_result"
    }
   ],
   "source": [
    "table"
   ],
   "metadata": {
    "collapsed": false,
    "ExecuteTime": {
     "end_time": "2023-09-05T06:16:37.398094Z",
     "start_time": "2023-09-05T06:16:37.390045Z"
    }
   },
   "id": "f8d1f8661fc8b3f0"
  },
  {
   "cell_type": "code",
   "execution_count": 32,
   "outputs": [],
   "source": [
    "tr = table.find_all(\"tr\")"
   ],
   "metadata": {
    "collapsed": false,
    "ExecuteTime": {
     "end_time": "2023-09-05T06:17:46.365283Z",
     "start_time": "2023-09-05T06:17:46.350339Z"
    }
   },
   "id": "e212e84967a4dadd"
  },
  {
   "cell_type": "code",
   "execution_count": 33,
   "outputs": [
    {
     "data": {
      "text/plain": "<tr>\n<td class=\"subject\" colspan=\"6\">정부환도 평양탈환 경축 유엔군환영 국민대회 대통령치사 속기록</td>\n</tr>"
     },
     "execution_count": 33,
     "metadata": {},
     "output_type": "execute_result"
    }
   ],
   "source": [
    "tr[0]"
   ],
   "metadata": {
    "collapsed": false,
    "ExecuteTime": {
     "end_time": "2023-09-05T06:17:55.037097Z",
     "start_time": "2023-09-05T06:17:55.027368Z"
    }
   },
   "id": "3dae1b76ea2bb461"
  },
  {
   "cell_type": "code",
   "execution_count": 35,
   "outputs": [
    {
     "data": {
      "text/plain": "<tr>\n<th scope=\"row\">연설일자</th>\n<td>1950.10.27</td>\n<th scope=\"row\">대통령</th>\n<td>이승만</td>\n<th scope=\"row\">연설장소</th>\n<td>국내</td>\n</tr>"
     },
     "execution_count": 35,
     "metadata": {},
     "output_type": "execute_result"
    }
   ],
   "source": [
    "tr[1]"
   ],
   "metadata": {
    "collapsed": false,
    "ExecuteTime": {
     "end_time": "2023-09-05T06:18:08.375908Z",
     "start_time": "2023-09-05T06:18:08.360980Z"
    }
   },
   "id": "a9d627888fce9e20"
  },
  {
   "cell_type": "code",
   "execution_count": 36,
   "outputs": [],
   "source": [
    "tds = tr[1].find_all('td')"
   ],
   "metadata": {
    "collapsed": false,
    "ExecuteTime": {
     "end_time": "2023-09-05T06:19:01.921950Z",
     "start_time": "2023-09-05T06:19:01.910792Z"
    }
   },
   "id": "ae1b5d6fa41209fe"
  },
  {
   "cell_type": "code",
   "execution_count": 38,
   "outputs": [
    {
     "data": {
      "text/plain": "'1950.10.27'"
     },
     "execution_count": 38,
     "metadata": {},
     "output_type": "execute_result"
    }
   ],
   "source": [
    "tds[0].text"
   ],
   "metadata": {
    "collapsed": false,
    "ExecuteTime": {
     "end_time": "2023-09-05T06:19:16.500994Z",
     "start_time": "2023-09-05T06:19:16.491615Z"
    }
   },
   "id": "f7552423c535bc43"
  },
  {
   "cell_type": "code",
   "execution_count": 39,
   "outputs": [
    {
     "data": {
      "text/plain": "'이승만'"
     },
     "execution_count": 39,
     "metadata": {},
     "output_type": "execute_result"
    }
   ],
   "source": [
    "tds[1].text"
   ],
   "metadata": {
    "collapsed": false,
    "ExecuteTime": {
     "end_time": "2023-09-05T06:19:23.198642Z",
     "start_time": "2023-09-05T06:19:23.178234Z"
    }
   },
   "id": "6b00a44846ab8208"
  },
  {
   "cell_type": "code",
   "execution_count": 40,
   "outputs": [
    {
     "data": {
      "text/plain": "'국내'"
     },
     "execution_count": 40,
     "metadata": {},
     "output_type": "execute_result"
    }
   ],
   "source": [
    "tds[2].text"
   ],
   "metadata": {
    "collapsed": false,
    "ExecuteTime": {
     "end_time": "2023-09-05T06:19:31.297987Z",
     "start_time": "2023-09-05T06:19:31.278730Z"
    }
   },
   "id": "ec62753c63baa0af"
  },
  {
   "cell_type": "code",
   "execution_count": 41,
   "outputs": [
    {
     "data": {
      "text/plain": "<td>기념사</td>"
     },
     "execution_count": 41,
     "metadata": {},
     "output_type": "execute_result"
    }
   ],
   "source": [
    "tr[2].find_all('td')[0]"
   ],
   "metadata": {
    "collapsed": false,
    "ExecuteTime": {
     "end_time": "2023-09-05T06:20:07.071976Z",
     "start_time": "2023-09-05T06:20:07.060499Z"
    }
   },
   "id": "6ed63e0a20008f04"
  },
  {
   "cell_type": "code",
   "execution_count": 42,
   "outputs": [
    {
     "data": {
      "text/plain": "<td colspan=\"3\">\n                            -\n                            \n\t                            <span class=\"mo-hidden\" style=\"float: right; margin-left: 5px;\">\n<a class=\"button size2 color1 invert\" href=\"javascript:void(0);\" onclick=\"getMobileView('https://dams.pa.go.kr/dams/DOCUMENT/2020/10/30/DOC/SRC/0104202010301014268891004013998.pdf');return false;\" title=\"새창열림\">\n\t                                    원문보기\n\t                                    <i aria-hidden=\"true\" class=\"icon-board-more2 lt\"></i>\n</a>\n</span>\n</td>"
     },
     "execution_count": 42,
     "metadata": {},
     "output_type": "execute_result"
    }
   ],
   "source": [
    "tr[2].find_all('td')[1]"
   ],
   "metadata": {
    "collapsed": false,
    "ExecuteTime": {
     "end_time": "2023-09-05T06:26:06.438735Z",
     "start_time": "2023-09-05T06:26:06.426419Z"
    }
   },
   "id": "c751cb0dad8cef8b"
  },
  {
   "cell_type": "code",
   "execution_count": 46,
   "outputs": [],
   "source": [
    "# https://www.pa.go.kr/research/contents/speech/index.jsp?spMode=view&catid=c_pa02062&artid=1401691   2017.05.10\n",
    "# https://www.pa.go.kr/research/contents/speech/index.jsp?spMode=view&catid=c_pa02062&artid=1401692   2017.05.12\n",
    "# \n",
    "# https://www.pa.go.kr/research/contents/speech/index.jsp?spMode=view&catid=c_pa02062&artid=1401641   22.03.30\n",
    "# \n",
    "# https://www.pa.go.kr/research/contents/speech/index.jsp?spMode=view&catid=c_pa02062&artid=1401691\n",
    "# \n",
    "# https://www.pa.go.kr/research/contents/speech/index.jsp?spMode=view&catid=c_pa02062&artid=1401639\n",
    "# https://www.pa.go.kr/research/contents/speech/index.jsp?spMode=view&catid=c_pa02062&artid=1401640\n",
    "# https://www.pa.go.kr/research/contents/speech/index.jsp?spMode=view&catid=c_pa02062&artid=1401641\n"
   ],
   "metadata": {
    "collapsed": false,
    "ExecuteTime": {
     "end_time": "2023-09-05T06:31:49.533708Z",
     "start_time": "2023-09-05T06:31:49.512361Z"
    }
   },
   "id": "ba3ed17d739ae96"
  },
  {
   "cell_type": "code",
   "execution_count": null,
   "outputs": [],
   "source": [
    "# https://www.pa.go.kr/research/contents/speech/index.jsp?spMode=view&catid=c_pa02062&artid=1310440 이승만\n",
    "# https://www.pa.go.kr/research/contents/speech/index.jsp?spMode=view&catid=c_pa02062&artid=1310437 윤보선\n",
    "# https://www.pa.go.kr/research/contents/speech/index.jsp?spMode=view&catid=c_pa02062&artid=1305369 박정희\n",
    "# https://www.pa.go.kr/research/contents/speech/index.jsp?spMode=view&catid=c_pa02062&artid=1306636 최규하\n",
    "# https://www.pa.go.kr/research/contents/speech/index.jsp?spMode=view&catid=c_pa02062&artid=1306788 전두환\n",
    "# https://www.pa.go.kr/research/contents/speech/index.jsp?spMode=view&catid=c_pa02062&artid=1307296 노태우\n",
    "# https://www.pa.go.kr/research/contents/speech/index.jsp?spMode=view&catid=c_pa02062&artid=1307905 김영삼\n",
    "# https://www.pa.go.kr/research/contents/speech/index.jsp?spMode=view&catid=c_pa02062&artid=1308526 김대중\n",
    "# https://www.pa.go.kr/research/contents/speech/index.jsp?spMode=view&catid=c_pa02062&artid=1309348 노무현\n",
    "# https://www.pa.go.kr/research/contents/speech/index.jsp?spMode=view&catid=c_pa02062&artid=1310127 이명박\n",
    "# https://www.pa.go.kr/research/contents/speech/index.jsp?spMode=view&catid=c_pa02062&artid=1400001 박근혜\n",
    "# https://www.pa.go.kr/research/contents/speech/index.jsp?spMode=view&catid=c_pa02062&artid=1401691 문제인\n",
    "# https://www.pa.go.kr/research/contents/speech/index.jsp?spMode=view&catid=c_pa02062&artid=1401641\n",
    "https://www.pa.go.kr/research/contents/speech/index.jsp?spMode=view&catid=c_pa02062&artid=1401543\n",
    "https://www.pa.go.kr/research/contents/speech/index.jsp?spMode=view&catid=c_pa02062&artid=1401629\n",
    "https://www.pa.go.kr/research/contents/speech/index.jsp?spMode=view&catid=c_pa02062&artid=1401630\n",
    "https://www.pa.go.kr/research/contents/speech/index.jsp?spMode=view&catid=c_pa02062&artid=1401637\n",
    "https://www.pa.go.kr/research/contents/speech/index.jsp?spMode=view&catid=c_pa02062&artid=1401640\n",
    "https://www.pa.go.kr/research/contents/speech/index.jsp?spMode=view&catid=c_pa02062&artid=1401473\n",
    "# \n",
    "\n"
   ],
   "metadata": {
    "collapsed": false
   },
   "id": "d05ce69ea07a81ca"
  },
  {
   "cell_type": "code",
   "execution_count": 117,
   "outputs": [
    {
     "name": "stderr",
     "output_type": "stream",
     "text": [
      "/Users/m2/code/edu/president-speech/.venv/lib/python3.9/site-packages/urllib3/connectionpool.py:1095: InsecureRequestWarning: Unverified HTTPS request is being made to host 'www.pa.go.kr'. Adding certificate verification is strongly advised. See: https://urllib3.readthedocs.io/en/latest/advanced-usage.html#tls-warnings\n",
      "  warnings.warn(\n",
      "/Users/m2/code/edu/president-speech/.venv/lib/python3.9/site-packages/urllib3/connectionpool.py:1095: InsecureRequestWarning: Unverified HTTPS request is being made to host 'www.pa.go.kr'. Adding certificate verification is strongly advised. See: https://urllib3.readthedocs.io/en/latest/advanced-usage.html#tls-warnings\n",
      "  warnings.warn(\n",
      "/Users/m2/code/edu/president-speech/.venv/lib/python3.9/site-packages/urllib3/connectionpool.py:1095: InsecureRequestWarning: Unverified HTTPS request is being made to host 'www.pa.go.kr'. Adding certificate verification is strongly advised. See: https://urllib3.readthedocs.io/en/latest/advanced-usage.html#tls-warnings\n",
      "  warnings.warn(\n",
      "/Users/m2/code/edu/president-speech/.venv/lib/python3.9/site-packages/urllib3/connectionpool.py:1095: InsecureRequestWarning: Unverified HTTPS request is being made to host 'www.pa.go.kr'. Adding certificate verification is strongly advised. See: https://urllib3.readthedocs.io/en/latest/advanced-usage.html#tls-warnings\n",
      "  warnings.warn(\n",
      "/Users/m2/code/edu/president-speech/.venv/lib/python3.9/site-packages/urllib3/connectionpool.py:1095: InsecureRequestWarning: Unverified HTTPS request is being made to host 'www.pa.go.kr'. Adding certificate verification is strongly advised. See: https://urllib3.readthedocs.io/en/latest/advanced-usage.html#tls-warnings\n",
      "  warnings.warn(\n",
      "/Users/m2/code/edu/president-speech/.venv/lib/python3.9/site-packages/urllib3/connectionpool.py:1095: InsecureRequestWarning: Unverified HTTPS request is being made to host 'www.pa.go.kr'. Adding certificate verification is strongly advised. See: https://urllib3.readthedocs.io/en/latest/advanced-usage.html#tls-warnings\n",
      "  warnings.warn(\n",
      "/Users/m2/code/edu/president-speech/.venv/lib/python3.9/site-packages/urllib3/connectionpool.py:1095: InsecureRequestWarning: Unverified HTTPS request is being made to host 'www.pa.go.kr'. Adding certificate verification is strongly advised. See: https://urllib3.readthedocs.io/en/latest/advanced-usage.html#tls-warnings\n",
      "  warnings.warn(\n",
      "/Users/m2/code/edu/president-speech/.venv/lib/python3.9/site-packages/urllib3/connectionpool.py:1095: InsecureRequestWarning: Unverified HTTPS request is being made to host 'www.pa.go.kr'. Adding certificate verification is strongly advised. See: https://urllib3.readthedocs.io/en/latest/advanced-usage.html#tls-warnings\n",
      "  warnings.warn(\n",
      "/Users/m2/code/edu/president-speech/.venv/lib/python3.9/site-packages/urllib3/connectionpool.py:1095: InsecureRequestWarning: Unverified HTTPS request is being made to host 'www.pa.go.kr'. Adding certificate verification is strongly advised. See: https://urllib3.readthedocs.io/en/latest/advanced-usage.html#tls-warnings\n",
      "  warnings.warn(\n",
      "/Users/m2/code/edu/president-speech/.venv/lib/python3.9/site-packages/urllib3/connectionpool.py:1095: InsecureRequestWarning: Unverified HTTPS request is being made to host 'www.pa.go.kr'. Adding certificate verification is strongly advised. See: https://urllib3.readthedocs.io/en/latest/advanced-usage.html#tls-warnings\n",
      "  warnings.warn(\n",
      "/Users/m2/code/edu/president-speech/.venv/lib/python3.9/site-packages/urllib3/connectionpool.py:1095: InsecureRequestWarning: Unverified HTTPS request is being made to host 'www.pa.go.kr'. Adding certificate verification is strongly advised. See: https://urllib3.readthedocs.io/en/latest/advanced-usage.html#tls-warnings\n",
      "  warnings.warn(\n",
      "/Users/m2/code/edu/president-speech/.venv/lib/python3.9/site-packages/urllib3/connectionpool.py:1095: InsecureRequestWarning: Unverified HTTPS request is being made to host 'www.pa.go.kr'. Adding certificate verification is strongly advised. See: https://urllib3.readthedocs.io/en/latest/advanced-usage.html#tls-warnings\n",
      "  warnings.warn(\n",
      "/Users/m2/code/edu/president-speech/.venv/lib/python3.9/site-packages/urllib3/connectionpool.py:1095: InsecureRequestWarning: Unverified HTTPS request is being made to host 'www.pa.go.kr'. Adding certificate verification is strongly advised. See: https://urllib3.readthedocs.io/en/latest/advanced-usage.html#tls-warnings\n",
      "  warnings.warn(\n",
      "/Users/m2/code/edu/president-speech/.venv/lib/python3.9/site-packages/urllib3/connectionpool.py:1095: InsecureRequestWarning: Unverified HTTPS request is being made to host 'www.pa.go.kr'. Adding certificate verification is strongly advised. See: https://urllib3.readthedocs.io/en/latest/advanced-usage.html#tls-warnings\n",
      "  warnings.warn(\n",
      "/Users/m2/code/edu/president-speech/.venv/lib/python3.9/site-packages/urllib3/connectionpool.py:1095: InsecureRequestWarning: Unverified HTTPS request is being made to host 'www.pa.go.kr'. Adding certificate verification is strongly advised. See: https://urllib3.readthedocs.io/en/latest/advanced-usage.html#tls-warnings\n",
      "  warnings.warn(\n",
      "/Users/m2/code/edu/president-speech/.venv/lib/python3.9/site-packages/urllib3/connectionpool.py:1095: InsecureRequestWarning: Unverified HTTPS request is being made to host 'www.pa.go.kr'. Adding certificate verification is strongly advised. See: https://urllib3.readthedocs.io/en/latest/advanced-usage.html#tls-warnings\n",
      "  warnings.warn(\n",
      "/Users/m2/code/edu/president-speech/.venv/lib/python3.9/site-packages/urllib3/connectionpool.py:1095: InsecureRequestWarning: Unverified HTTPS request is being made to host 'www.pa.go.kr'. Adding certificate verification is strongly advised. See: https://urllib3.readthedocs.io/en/latest/advanced-usage.html#tls-warnings\n",
      "  warnings.warn(\n",
      "/Users/m2/code/edu/president-speech/.venv/lib/python3.9/site-packages/urllib3/connectionpool.py:1095: InsecureRequestWarning: Unverified HTTPS request is being made to host 'www.pa.go.kr'. Adding certificate verification is strongly advised. See: https://urllib3.readthedocs.io/en/latest/advanced-usage.html#tls-warnings\n",
      "  warnings.warn(\n",
      "/Users/m2/code/edu/president-speech/.venv/lib/python3.9/site-packages/urllib3/connectionpool.py:1095: InsecureRequestWarning: Unverified HTTPS request is being made to host 'www.pa.go.kr'. Adding certificate verification is strongly advised. See: https://urllib3.readthedocs.io/en/latest/advanced-usage.html#tls-warnings\n",
      "  warnings.warn(\n",
      "/Users/m2/code/edu/president-speech/.venv/lib/python3.9/site-packages/urllib3/connectionpool.py:1095: InsecureRequestWarning: Unverified HTTPS request is being made to host 'www.pa.go.kr'. Adding certificate verification is strongly advised. See: https://urllib3.readthedocs.io/en/latest/advanced-usage.html#tls-warnings\n",
      "  warnings.warn(\n",
      "/Users/m2/code/edu/president-speech/.venv/lib/python3.9/site-packages/urllib3/connectionpool.py:1095: InsecureRequestWarning: Unverified HTTPS request is being made to host 'www.pa.go.kr'. Adding certificate verification is strongly advised. See: https://urllib3.readthedocs.io/en/latest/advanced-usage.html#tls-warnings\n",
      "  warnings.warn(\n",
      "/Users/m2/code/edu/president-speech/.venv/lib/python3.9/site-packages/urllib3/connectionpool.py:1095: InsecureRequestWarning: Unverified HTTPS request is being made to host 'www.pa.go.kr'. Adding certificate verification is strongly advised. See: https://urllib3.readthedocs.io/en/latest/advanced-usage.html#tls-warnings\n",
      "  warnings.warn(\n",
      "/Users/m2/code/edu/president-speech/.venv/lib/python3.9/site-packages/urllib3/connectionpool.py:1095: InsecureRequestWarning: Unverified HTTPS request is being made to host 'www.pa.go.kr'. Adding certificate verification is strongly advised. See: https://urllib3.readthedocs.io/en/latest/advanced-usage.html#tls-warnings\n",
      "  warnings.warn(\n",
      "/Users/m2/code/edu/president-speech/.venv/lib/python3.9/site-packages/urllib3/connectionpool.py:1095: InsecureRequestWarning: Unverified HTTPS request is being made to host 'www.pa.go.kr'. Adding certificate verification is strongly advised. See: https://urllib3.readthedocs.io/en/latest/advanced-usage.html#tls-warnings\n",
      "  warnings.warn(\n",
      "/Users/m2/code/edu/president-speech/.venv/lib/python3.9/site-packages/urllib3/connectionpool.py:1095: InsecureRequestWarning: Unverified HTTPS request is being made to host 'www.pa.go.kr'. Adding certificate verification is strongly advised. See: https://urllib3.readthedocs.io/en/latest/advanced-usage.html#tls-warnings\n",
      "  warnings.warn(\n",
      "/Users/m2/code/edu/president-speech/.venv/lib/python3.9/site-packages/urllib3/connectionpool.py:1095: InsecureRequestWarning: Unverified HTTPS request is being made to host 'www.pa.go.kr'. Adding certificate verification is strongly advised. See: https://urllib3.readthedocs.io/en/latest/advanced-usage.html#tls-warnings\n",
      "  warnings.warn(\n",
      "/Users/m2/code/edu/president-speech/.venv/lib/python3.9/site-packages/urllib3/connectionpool.py:1095: InsecureRequestWarning: Unverified HTTPS request is being made to host 'www.pa.go.kr'. Adding certificate verification is strongly advised. See: https://urllib3.readthedocs.io/en/latest/advanced-usage.html#tls-warnings\n",
      "  warnings.warn(\n",
      "/Users/m2/code/edu/president-speech/.venv/lib/python3.9/site-packages/urllib3/connectionpool.py:1095: InsecureRequestWarning: Unverified HTTPS request is being made to host 'www.pa.go.kr'. Adding certificate verification is strongly advised. See: https://urllib3.readthedocs.io/en/latest/advanced-usage.html#tls-warnings\n",
      "  warnings.warn(\n",
      "/Users/m2/code/edu/president-speech/.venv/lib/python3.9/site-packages/urllib3/connectionpool.py:1095: InsecureRequestWarning: Unverified HTTPS request is being made to host 'www.pa.go.kr'. Adding certificate verification is strongly advised. See: https://urllib3.readthedocs.io/en/latest/advanced-usage.html#tls-warnings\n",
      "  warnings.warn(\n",
      "/Users/m2/code/edu/president-speech/.venv/lib/python3.9/site-packages/urllib3/connectionpool.py:1095: InsecureRequestWarning: Unverified HTTPS request is being made to host 'www.pa.go.kr'. Adding certificate verification is strongly advised. See: https://urllib3.readthedocs.io/en/latest/advanced-usage.html#tls-warnings\n",
      "  warnings.warn(\n",
      "/Users/m2/code/edu/president-speech/.venv/lib/python3.9/site-packages/urllib3/connectionpool.py:1095: InsecureRequestWarning: Unverified HTTPS request is being made to host 'www.pa.go.kr'. Adding certificate verification is strongly advised. See: https://urllib3.readthedocs.io/en/latest/advanced-usage.html#tls-warnings\n",
      "  warnings.warn(\n",
      "/Users/m2/code/edu/president-speech/.venv/lib/python3.9/site-packages/urllib3/connectionpool.py:1095: InsecureRequestWarning: Unverified HTTPS request is being made to host 'www.pa.go.kr'. Adding certificate verification is strongly advised. See: https://urllib3.readthedocs.io/en/latest/advanced-usage.html#tls-warnings\n",
      "  warnings.warn(\n",
      "/Users/m2/code/edu/president-speech/.venv/lib/python3.9/site-packages/urllib3/connectionpool.py:1095: InsecureRequestWarning: Unverified HTTPS request is being made to host 'www.pa.go.kr'. Adding certificate verification is strongly advised. See: https://urllib3.readthedocs.io/en/latest/advanced-usage.html#tls-warnings\n",
      "  warnings.warn(\n",
      "/Users/m2/code/edu/president-speech/.venv/lib/python3.9/site-packages/urllib3/connectionpool.py:1095: InsecureRequestWarning: Unverified HTTPS request is being made to host 'www.pa.go.kr'. Adding certificate verification is strongly advised. See: https://urllib3.readthedocs.io/en/latest/advanced-usage.html#tls-warnings\n",
      "  warnings.warn(\n",
      "/Users/m2/code/edu/president-speech/.venv/lib/python3.9/site-packages/urllib3/connectionpool.py:1095: InsecureRequestWarning: Unverified HTTPS request is being made to host 'www.pa.go.kr'. Adding certificate verification is strongly advised. See: https://urllib3.readthedocs.io/en/latest/advanced-usage.html#tls-warnings\n",
      "  warnings.warn(\n",
      "/Users/m2/code/edu/president-speech/.venv/lib/python3.9/site-packages/urllib3/connectionpool.py:1095: InsecureRequestWarning: Unverified HTTPS request is being made to host 'www.pa.go.kr'. Adding certificate verification is strongly advised. See: https://urllib3.readthedocs.io/en/latest/advanced-usage.html#tls-warnings\n",
      "  warnings.warn(\n",
      "/Users/m2/code/edu/president-speech/.venv/lib/python3.9/site-packages/urllib3/connectionpool.py:1095: InsecureRequestWarning: Unverified HTTPS request is being made to host 'www.pa.go.kr'. Adding certificate verification is strongly advised. See: https://urllib3.readthedocs.io/en/latest/advanced-usage.html#tls-warnings\n",
      "  warnings.warn(\n",
      "/Users/m2/code/edu/president-speech/.venv/lib/python3.9/site-packages/urllib3/connectionpool.py:1095: InsecureRequestWarning: Unverified HTTPS request is being made to host 'www.pa.go.kr'. Adding certificate verification is strongly advised. See: https://urllib3.readthedocs.io/en/latest/advanced-usage.html#tls-warnings\n",
      "  warnings.warn(\n",
      "/Users/m2/code/edu/president-speech/.venv/lib/python3.9/site-packages/urllib3/connectionpool.py:1095: InsecureRequestWarning: Unverified HTTPS request is being made to host 'www.pa.go.kr'. Adding certificate verification is strongly advised. See: https://urllib3.readthedocs.io/en/latest/advanced-usage.html#tls-warnings\n",
      "  warnings.warn(\n",
      "/Users/m2/code/edu/president-speech/.venv/lib/python3.9/site-packages/urllib3/connectionpool.py:1095: InsecureRequestWarning: Unverified HTTPS request is being made to host 'www.pa.go.kr'. Adding certificate verification is strongly advised. See: https://urllib3.readthedocs.io/en/latest/advanced-usage.html#tls-warnings\n",
      "  warnings.warn(\n",
      "/Users/m2/code/edu/president-speech/.venv/lib/python3.9/site-packages/urllib3/connectionpool.py:1095: InsecureRequestWarning: Unverified HTTPS request is being made to host 'www.pa.go.kr'. Adding certificate verification is strongly advised. See: https://urllib3.readthedocs.io/en/latest/advanced-usage.html#tls-warnings\n",
      "  warnings.warn(\n",
      "/Users/m2/code/edu/president-speech/.venv/lib/python3.9/site-packages/urllib3/connectionpool.py:1095: InsecureRequestWarning: Unverified HTTPS request is being made to host 'www.pa.go.kr'. Adding certificate verification is strongly advised. See: https://urllib3.readthedocs.io/en/latest/advanced-usage.html#tls-warnings\n",
      "  warnings.warn(\n",
      "/Users/m2/code/edu/president-speech/.venv/lib/python3.9/site-packages/urllib3/connectionpool.py:1095: InsecureRequestWarning: Unverified HTTPS request is being made to host 'www.pa.go.kr'. Adding certificate verification is strongly advised. See: https://urllib3.readthedocs.io/en/latest/advanced-usage.html#tls-warnings\n",
      "  warnings.warn(\n",
      "/Users/m2/code/edu/president-speech/.venv/lib/python3.9/site-packages/urllib3/connectionpool.py:1095: InsecureRequestWarning: Unverified HTTPS request is being made to host 'www.pa.go.kr'. Adding certificate verification is strongly advised. See: https://urllib3.readthedocs.io/en/latest/advanced-usage.html#tls-warnings\n",
      "  warnings.warn(\n",
      "/Users/m2/code/edu/president-speech/.venv/lib/python3.9/site-packages/urllib3/connectionpool.py:1095: InsecureRequestWarning: Unverified HTTPS request is being made to host 'www.pa.go.kr'. Adding certificate verification is strongly advised. See: https://urllib3.readthedocs.io/en/latest/advanced-usage.html#tls-warnings\n",
      "  warnings.warn(\n",
      "/Users/m2/code/edu/president-speech/.venv/lib/python3.9/site-packages/urllib3/connectionpool.py:1095: InsecureRequestWarning: Unverified HTTPS request is being made to host 'www.pa.go.kr'. Adding certificate verification is strongly advised. See: https://urllib3.readthedocs.io/en/latest/advanced-usage.html#tls-warnings\n",
      "  warnings.warn(\n",
      "/Users/m2/code/edu/president-speech/.venv/lib/python3.9/site-packages/urllib3/connectionpool.py:1095: InsecureRequestWarning: Unverified HTTPS request is being made to host 'www.pa.go.kr'. Adding certificate verification is strongly advised. See: https://urllib3.readthedocs.io/en/latest/advanced-usage.html#tls-warnings\n",
      "  warnings.warn(\n",
      "/Users/m2/code/edu/president-speech/.venv/lib/python3.9/site-packages/urllib3/connectionpool.py:1095: InsecureRequestWarning: Unverified HTTPS request is being made to host 'www.pa.go.kr'. Adding certificate verification is strongly advised. See: https://urllib3.readthedocs.io/en/latest/advanced-usage.html#tls-warnings\n",
      "  warnings.warn(\n",
      "/Users/m2/code/edu/president-speech/.venv/lib/python3.9/site-packages/urllib3/connectionpool.py:1095: InsecureRequestWarning: Unverified HTTPS request is being made to host 'www.pa.go.kr'. Adding certificate verification is strongly advised. See: https://urllib3.readthedocs.io/en/latest/advanced-usage.html#tls-warnings\n",
      "  warnings.warn(\n",
      "/Users/m2/code/edu/president-speech/.venv/lib/python3.9/site-packages/urllib3/connectionpool.py:1095: InsecureRequestWarning: Unverified HTTPS request is being made to host 'www.pa.go.kr'. Adding certificate verification is strongly advised. See: https://urllib3.readthedocs.io/en/latest/advanced-usage.html#tls-warnings\n",
      "  warnings.warn(\n",
      "/Users/m2/code/edu/president-speech/.venv/lib/python3.9/site-packages/urllib3/connectionpool.py:1095: InsecureRequestWarning: Unverified HTTPS request is being made to host 'www.pa.go.kr'. Adding certificate verification is strongly advised. See: https://urllib3.readthedocs.io/en/latest/advanced-usage.html#tls-warnings\n",
      "  warnings.warn(\n",
      "/Users/m2/code/edu/president-speech/.venv/lib/python3.9/site-packages/urllib3/connectionpool.py:1095: InsecureRequestWarning: Unverified HTTPS request is being made to host 'www.pa.go.kr'. Adding certificate verification is strongly advised. See: https://urllib3.readthedocs.io/en/latest/advanced-usage.html#tls-warnings\n",
      "  warnings.warn(\n",
      "/Users/m2/code/edu/president-speech/.venv/lib/python3.9/site-packages/urllib3/connectionpool.py:1095: InsecureRequestWarning: Unverified HTTPS request is being made to host 'www.pa.go.kr'. Adding certificate verification is strongly advised. See: https://urllib3.readthedocs.io/en/latest/advanced-usage.html#tls-warnings\n",
      "  warnings.warn(\n",
      "/Users/m2/code/edu/president-speech/.venv/lib/python3.9/site-packages/urllib3/connectionpool.py:1095: InsecureRequestWarning: Unverified HTTPS request is being made to host 'www.pa.go.kr'. Adding certificate verification is strongly advised. See: https://urllib3.readthedocs.io/en/latest/advanced-usage.html#tls-warnings\n",
      "  warnings.warn(\n",
      "/Users/m2/code/edu/president-speech/.venv/lib/python3.9/site-packages/urllib3/connectionpool.py:1095: InsecureRequestWarning: Unverified HTTPS request is being made to host 'www.pa.go.kr'. Adding certificate verification is strongly advised. See: https://urllib3.readthedocs.io/en/latest/advanced-usage.html#tls-warnings\n",
      "  warnings.warn(\n",
      "/Users/m2/code/edu/president-speech/.venv/lib/python3.9/site-packages/urllib3/connectionpool.py:1095: InsecureRequestWarning: Unverified HTTPS request is being made to host 'www.pa.go.kr'. Adding certificate verification is strongly advised. See: https://urllib3.readthedocs.io/en/latest/advanced-usage.html#tls-warnings\n",
      "  warnings.warn(\n",
      "/Users/m2/code/edu/president-speech/.venv/lib/python3.9/site-packages/urllib3/connectionpool.py:1095: InsecureRequestWarning: Unverified HTTPS request is being made to host 'www.pa.go.kr'. Adding certificate verification is strongly advised. See: https://urllib3.readthedocs.io/en/latest/advanced-usage.html#tls-warnings\n",
      "  warnings.warn(\n",
      "/Users/m2/code/edu/president-speech/.venv/lib/python3.9/site-packages/urllib3/connectionpool.py:1095: InsecureRequestWarning: Unverified HTTPS request is being made to host 'www.pa.go.kr'. Adding certificate verification is strongly advised. See: https://urllib3.readthedocs.io/en/latest/advanced-usage.html#tls-warnings\n",
      "  warnings.warn(\n",
      "/Users/m2/code/edu/president-speech/.venv/lib/python3.9/site-packages/urllib3/connectionpool.py:1095: InsecureRequestWarning: Unverified HTTPS request is being made to host 'www.pa.go.kr'. Adding certificate verification is strongly advised. See: https://urllib3.readthedocs.io/en/latest/advanced-usage.html#tls-warnings\n",
      "  warnings.warn(\n",
      "/Users/m2/code/edu/president-speech/.venv/lib/python3.9/site-packages/urllib3/connectionpool.py:1095: InsecureRequestWarning: Unverified HTTPS request is being made to host 'www.pa.go.kr'. Adding certificate verification is strongly advised. See: https://urllib3.readthedocs.io/en/latest/advanced-usage.html#tls-warnings\n",
      "  warnings.warn(\n",
      "/Users/m2/code/edu/president-speech/.venv/lib/python3.9/site-packages/urllib3/connectionpool.py:1095: InsecureRequestWarning: Unverified HTTPS request is being made to host 'www.pa.go.kr'. Adding certificate verification is strongly advised. See: https://urllib3.readthedocs.io/en/latest/advanced-usage.html#tls-warnings\n",
      "  warnings.warn(\n",
      "/Users/m2/code/edu/president-speech/.venv/lib/python3.9/site-packages/urllib3/connectionpool.py:1095: InsecureRequestWarning: Unverified HTTPS request is being made to host 'www.pa.go.kr'. Adding certificate verification is strongly advised. See: https://urllib3.readthedocs.io/en/latest/advanced-usage.html#tls-warnings\n",
      "  warnings.warn(\n",
      "/Users/m2/code/edu/president-speech/.venv/lib/python3.9/site-packages/urllib3/connectionpool.py:1095: InsecureRequestWarning: Unverified HTTPS request is being made to host 'www.pa.go.kr'. Adding certificate verification is strongly advised. See: https://urllib3.readthedocs.io/en/latest/advanced-usage.html#tls-warnings\n",
      "  warnings.warn(\n",
      "/Users/m2/code/edu/president-speech/.venv/lib/python3.9/site-packages/urllib3/connectionpool.py:1095: InsecureRequestWarning: Unverified HTTPS request is being made to host 'www.pa.go.kr'. Adding certificate verification is strongly advised. See: https://urllib3.readthedocs.io/en/latest/advanced-usage.html#tls-warnings\n",
      "  warnings.warn(\n",
      "/Users/m2/code/edu/president-speech/.venv/lib/python3.9/site-packages/urllib3/connectionpool.py:1095: InsecureRequestWarning: Unverified HTTPS request is being made to host 'www.pa.go.kr'. Adding certificate verification is strongly advised. See: https://urllib3.readthedocs.io/en/latest/advanced-usage.html#tls-warnings\n",
      "  warnings.warn(\n",
      "/Users/m2/code/edu/president-speech/.venv/lib/python3.9/site-packages/urllib3/connectionpool.py:1095: InsecureRequestWarning: Unverified HTTPS request is being made to host 'www.pa.go.kr'. Adding certificate verification is strongly advised. See: https://urllib3.readthedocs.io/en/latest/advanced-usage.html#tls-warnings\n",
      "  warnings.warn(\n",
      "/Users/m2/code/edu/president-speech/.venv/lib/python3.9/site-packages/urllib3/connectionpool.py:1095: InsecureRequestWarning: Unverified HTTPS request is being made to host 'www.pa.go.kr'. Adding certificate verification is strongly advised. See: https://urllib3.readthedocs.io/en/latest/advanced-usage.html#tls-warnings\n",
      "  warnings.warn(\n",
      "/Users/m2/code/edu/president-speech/.venv/lib/python3.9/site-packages/urllib3/connectionpool.py:1095: InsecureRequestWarning: Unverified HTTPS request is being made to host 'www.pa.go.kr'. Adding certificate verification is strongly advised. See: https://urllib3.readthedocs.io/en/latest/advanced-usage.html#tls-warnings\n",
      "  warnings.warn(\n",
      "/Users/m2/code/edu/president-speech/.venv/lib/python3.9/site-packages/urllib3/connectionpool.py:1095: InsecureRequestWarning: Unverified HTTPS request is being made to host 'www.pa.go.kr'. Adding certificate verification is strongly advised. See: https://urllib3.readthedocs.io/en/latest/advanced-usage.html#tls-warnings\n",
      "  warnings.warn(\n",
      "/Users/m2/code/edu/president-speech/.venv/lib/python3.9/site-packages/urllib3/connectionpool.py:1095: InsecureRequestWarning: Unverified HTTPS request is being made to host 'www.pa.go.kr'. Adding certificate verification is strongly advised. See: https://urllib3.readthedocs.io/en/latest/advanced-usage.html#tls-warnings\n",
      "  warnings.warn(\n",
      "/Users/m2/code/edu/president-speech/.venv/lib/python3.9/site-packages/urllib3/connectionpool.py:1095: InsecureRequestWarning: Unverified HTTPS request is being made to host 'www.pa.go.kr'. Adding certificate verification is strongly advised. See: https://urllib3.readthedocs.io/en/latest/advanced-usage.html#tls-warnings\n",
      "  warnings.warn(\n",
      "/Users/m2/code/edu/president-speech/.venv/lib/python3.9/site-packages/urllib3/connectionpool.py:1095: InsecureRequestWarning: Unverified HTTPS request is being made to host 'www.pa.go.kr'. Adding certificate verification is strongly advised. See: https://urllib3.readthedocs.io/en/latest/advanced-usage.html#tls-warnings\n",
      "  warnings.warn(\n",
      "/Users/m2/code/edu/president-speech/.venv/lib/python3.9/site-packages/urllib3/connectionpool.py:1095: InsecureRequestWarning: Unverified HTTPS request is being made to host 'www.pa.go.kr'. Adding certificate verification is strongly advised. See: https://urllib3.readthedocs.io/en/latest/advanced-usage.html#tls-warnings\n",
      "  warnings.warn(\n",
      "/Users/m2/code/edu/president-speech/.venv/lib/python3.9/site-packages/urllib3/connectionpool.py:1095: InsecureRequestWarning: Unverified HTTPS request is being made to host 'www.pa.go.kr'. Adding certificate verification is strongly advised. See: https://urllib3.readthedocs.io/en/latest/advanced-usage.html#tls-warnings\n",
      "  warnings.warn(\n",
      "/Users/m2/code/edu/president-speech/.venv/lib/python3.9/site-packages/urllib3/connectionpool.py:1095: InsecureRequestWarning: Unverified HTTPS request is being made to host 'www.pa.go.kr'. Adding certificate verification is strongly advised. See: https://urllib3.readthedocs.io/en/latest/advanced-usage.html#tls-warnings\n",
      "  warnings.warn(\n",
      "/Users/m2/code/edu/president-speech/.venv/lib/python3.9/site-packages/urllib3/connectionpool.py:1095: InsecureRequestWarning: Unverified HTTPS request is being made to host 'www.pa.go.kr'. Adding certificate verification is strongly advised. See: https://urllib3.readthedocs.io/en/latest/advanced-usage.html#tls-warnings\n",
      "  warnings.warn(\n",
      "/Users/m2/code/edu/president-speech/.venv/lib/python3.9/site-packages/urllib3/connectionpool.py:1095: InsecureRequestWarning: Unverified HTTPS request is being made to host 'www.pa.go.kr'. Adding certificate verification is strongly advised. See: https://urllib3.readthedocs.io/en/latest/advanced-usage.html#tls-warnings\n",
      "  warnings.warn(\n",
      "/Users/m2/code/edu/president-speech/.venv/lib/python3.9/site-packages/urllib3/connectionpool.py:1095: InsecureRequestWarning: Unverified HTTPS request is being made to host 'www.pa.go.kr'. Adding certificate verification is strongly advised. See: https://urllib3.readthedocs.io/en/latest/advanced-usage.html#tls-warnings\n",
      "  warnings.warn(\n",
      "/Users/m2/code/edu/president-speech/.venv/lib/python3.9/site-packages/urllib3/connectionpool.py:1095: InsecureRequestWarning: Unverified HTTPS request is being made to host 'www.pa.go.kr'. Adding certificate verification is strongly advised. See: https://urllib3.readthedocs.io/en/latest/advanced-usage.html#tls-warnings\n",
      "  warnings.warn(\n",
      "/Users/m2/code/edu/president-speech/.venv/lib/python3.9/site-packages/urllib3/connectionpool.py:1095: InsecureRequestWarning: Unverified HTTPS request is being made to host 'www.pa.go.kr'. Adding certificate verification is strongly advised. See: https://urllib3.readthedocs.io/en/latest/advanced-usage.html#tls-warnings\n",
      "  warnings.warn(\n",
      "/Users/m2/code/edu/president-speech/.venv/lib/python3.9/site-packages/urllib3/connectionpool.py:1095: InsecureRequestWarning: Unverified HTTPS request is being made to host 'www.pa.go.kr'. Adding certificate verification is strongly advised. See: https://urllib3.readthedocs.io/en/latest/advanced-usage.html#tls-warnings\n",
      "  warnings.warn(\n",
      "/Users/m2/code/edu/president-speech/.venv/lib/python3.9/site-packages/urllib3/connectionpool.py:1095: InsecureRequestWarning: Unverified HTTPS request is being made to host 'www.pa.go.kr'. Adding certificate verification is strongly advised. See: https://urllib3.readthedocs.io/en/latest/advanced-usage.html#tls-warnings\n",
      "  warnings.warn(\n",
      "/Users/m2/code/edu/president-speech/.venv/lib/python3.9/site-packages/urllib3/connectionpool.py:1095: InsecureRequestWarning: Unverified HTTPS request is being made to host 'www.pa.go.kr'. Adding certificate verification is strongly advised. See: https://urllib3.readthedocs.io/en/latest/advanced-usage.html#tls-warnings\n",
      "  warnings.warn(\n",
      "/Users/m2/code/edu/president-speech/.venv/lib/python3.9/site-packages/urllib3/connectionpool.py:1095: InsecureRequestWarning: Unverified HTTPS request is being made to host 'www.pa.go.kr'. Adding certificate verification is strongly advised. See: https://urllib3.readthedocs.io/en/latest/advanced-usage.html#tls-warnings\n",
      "  warnings.warn(\n",
      "/Users/m2/code/edu/president-speech/.venv/lib/python3.9/site-packages/urllib3/connectionpool.py:1095: InsecureRequestWarning: Unverified HTTPS request is being made to host 'www.pa.go.kr'. Adding certificate verification is strongly advised. See: https://urllib3.readthedocs.io/en/latest/advanced-usage.html#tls-warnings\n",
      "  warnings.warn(\n",
      "/Users/m2/code/edu/president-speech/.venv/lib/python3.9/site-packages/urllib3/connectionpool.py:1095: InsecureRequestWarning: Unverified HTTPS request is being made to host 'www.pa.go.kr'. Adding certificate verification is strongly advised. See: https://urllib3.readthedocs.io/en/latest/advanced-usage.html#tls-warnings\n",
      "  warnings.warn(\n",
      "/Users/m2/code/edu/president-speech/.venv/lib/python3.9/site-packages/urllib3/connectionpool.py:1095: InsecureRequestWarning: Unverified HTTPS request is being made to host 'www.pa.go.kr'. Adding certificate verification is strongly advised. See: https://urllib3.readthedocs.io/en/latest/advanced-usage.html#tls-warnings\n",
      "  warnings.warn(\n",
      "/Users/m2/code/edu/president-speech/.venv/lib/python3.9/site-packages/urllib3/connectionpool.py:1095: InsecureRequestWarning: Unverified HTTPS request is being made to host 'www.pa.go.kr'. Adding certificate verification is strongly advised. See: https://urllib3.readthedocs.io/en/latest/advanced-usage.html#tls-warnings\n",
      "  warnings.warn(\n",
      "/Users/m2/code/edu/president-speech/.venv/lib/python3.9/site-packages/urllib3/connectionpool.py:1095: InsecureRequestWarning: Unverified HTTPS request is being made to host 'www.pa.go.kr'. Adding certificate verification is strongly advised. See: https://urllib3.readthedocs.io/en/latest/advanced-usage.html#tls-warnings\n",
      "  warnings.warn(\n",
      "/Users/m2/code/edu/president-speech/.venv/lib/python3.9/site-packages/urllib3/connectionpool.py:1095: InsecureRequestWarning: Unverified HTTPS request is being made to host 'www.pa.go.kr'. Adding certificate verification is strongly advised. See: https://urllib3.readthedocs.io/en/latest/advanced-usage.html#tls-warnings\n",
      "  warnings.warn(\n",
      "/Users/m2/code/edu/president-speech/.venv/lib/python3.9/site-packages/urllib3/connectionpool.py:1095: InsecureRequestWarning: Unverified HTTPS request is being made to host 'www.pa.go.kr'. Adding certificate verification is strongly advised. See: https://urllib3.readthedocs.io/en/latest/advanced-usage.html#tls-warnings\n",
      "  warnings.warn(\n",
      "/Users/m2/code/edu/president-speech/.venv/lib/python3.9/site-packages/urllib3/connectionpool.py:1095: InsecureRequestWarning: Unverified HTTPS request is being made to host 'www.pa.go.kr'. Adding certificate verification is strongly advised. See: https://urllib3.readthedocs.io/en/latest/advanced-usage.html#tls-warnings\n",
      "  warnings.warn(\n",
      "/Users/m2/code/edu/president-speech/.venv/lib/python3.9/site-packages/urllib3/connectionpool.py:1095: InsecureRequestWarning: Unverified HTTPS request is being made to host 'www.pa.go.kr'. Adding certificate verification is strongly advised. See: https://urllib3.readthedocs.io/en/latest/advanced-usage.html#tls-warnings\n",
      "  warnings.warn(\n",
      "/Users/m2/code/edu/president-speech/.venv/lib/python3.9/site-packages/urllib3/connectionpool.py:1095: InsecureRequestWarning: Unverified HTTPS request is being made to host 'www.pa.go.kr'. Adding certificate verification is strongly advised. See: https://urllib3.readthedocs.io/en/latest/advanced-usage.html#tls-warnings\n",
      "  warnings.warn(\n",
      "/Users/m2/code/edu/president-speech/.venv/lib/python3.9/site-packages/urllib3/connectionpool.py:1095: InsecureRequestWarning: Unverified HTTPS request is being made to host 'www.pa.go.kr'. Adding certificate verification is strongly advised. See: https://urllib3.readthedocs.io/en/latest/advanced-usage.html#tls-warnings\n",
      "  warnings.warn(\n",
      "/Users/m2/code/edu/president-speech/.venv/lib/python3.9/site-packages/urllib3/connectionpool.py:1095: InsecureRequestWarning: Unverified HTTPS request is being made to host 'www.pa.go.kr'. Adding certificate verification is strongly advised. See: https://urllib3.readthedocs.io/en/latest/advanced-usage.html#tls-warnings\n",
      "  warnings.warn(\n",
      "/Users/m2/code/edu/president-speech/.venv/lib/python3.9/site-packages/urllib3/connectionpool.py:1095: InsecureRequestWarning: Unverified HTTPS request is being made to host 'www.pa.go.kr'. Adding certificate verification is strongly advised. See: https://urllib3.readthedocs.io/en/latest/advanced-usage.html#tls-warnings\n",
      "  warnings.warn(\n",
      "/Users/m2/code/edu/president-speech/.venv/lib/python3.9/site-packages/urllib3/connectionpool.py:1095: InsecureRequestWarning: Unverified HTTPS request is being made to host 'www.pa.go.kr'. Adding certificate verification is strongly advised. See: https://urllib3.readthedocs.io/en/latest/advanced-usage.html#tls-warnings\n",
      "  warnings.warn(\n",
      "/Users/m2/code/edu/president-speech/.venv/lib/python3.9/site-packages/urllib3/connectionpool.py:1095: InsecureRequestWarning: Unverified HTTPS request is being made to host 'www.pa.go.kr'. Adding certificate verification is strongly advised. See: https://urllib3.readthedocs.io/en/latest/advanced-usage.html#tls-warnings\n",
      "  warnings.warn(\n",
      "/Users/m2/code/edu/president-speech/.venv/lib/python3.9/site-packages/urllib3/connectionpool.py:1095: InsecureRequestWarning: Unverified HTTPS request is being made to host 'www.pa.go.kr'. Adding certificate verification is strongly advised. See: https://urllib3.readthedocs.io/en/latest/advanced-usage.html#tls-warnings\n",
      "  warnings.warn(\n"
     ]
    }
   ],
   "source": [
    "# for i in range(1400001, 1401691 + 1):\n",
    "batch_data = []\n",
    "for i in range(1400001, 1400100 + 1):\n",
    "    all = []\n",
    "    url = f\"https://www.pa.go.kr/research/contents/speech/index.jsp?spMode=view&catid=c_pa02062&artid={i}\"\n",
    "\n",
    "    # print(url)\n",
    "    response = requests.get(url, verify=False)\n",
    "    html = response.text\n",
    "    soup = bs4.BeautifulSoup(html, \"html.parser\")\n",
    "    \n",
    "    subject = soup.select(\"td.subject\")[0].text\n",
    "    contents = soup.select(\"td.content\")[0].text\n",
    "    \n",
    "    table = soup.find(\"tbody\")\n",
    "    tr = table.find_all(\"tr\")\n",
    "    tds = tr[1].find_all('td')\n",
    "    \n",
    "    dt = tds[0].text\n",
    "    president = tds[1].text\n",
    "    place = tds[2].text\n",
    "    \n",
    "    kind = tr[2].find_all('td')[0].text\n",
    "    \n",
    "    batch_data.append((i, subject, contents, dt, president, place, kind))\n",
    "    \n",
    "# print(batch_data)\n",
    "\n",
    "    "
   ],
   "metadata": {
    "collapsed": false,
    "ExecuteTime": {
     "end_time": "2023-09-05T07:42:29.928799Z",
     "start_time": "2023-09-05T07:42:10.539720Z"
    }
   },
   "id": "b8ae4ce7c3c58a05"
  },
  {
   "cell_type": "code",
   "execution_count": 118,
   "outputs": [
    {
     "data": {
      "text/plain": "1400001"
     },
     "execution_count": 118,
     "metadata": {},
     "output_type": "execute_result"
    }
   ],
   "source": [
    "batch_data[0][0]"
   ],
   "metadata": {
    "collapsed": false,
    "ExecuteTime": {
     "end_time": "2023-09-05T07:42:34.399282Z",
     "start_time": "2023-09-05T07:42:34.392299Z"
    }
   },
   "id": "e378b79c303a3eb3"
  },
  {
   "cell_type": "code",
   "execution_count": 119,
   "outputs": [
    {
     "data": {
      "text/plain": "'제18대 대통령 취임식'"
     },
     "execution_count": 119,
     "metadata": {},
     "output_type": "execute_result"
    }
   ],
   "source": [
    "batch_data[0][1]"
   ],
   "metadata": {
    "collapsed": false,
    "ExecuteTime": {
     "end_time": "2023-09-05T07:42:34.859916Z",
     "start_time": "2023-09-05T07:42:34.857363Z"
    }
   },
   "id": "cd17a156c146a3c1"
  },
  {
   "cell_type": "code",
   "execution_count": 120,
   "outputs": [
    {
     "data": {
      "text/plain": "'희망의 새 시대를 열겠습니다.\\n \\xa0 \\n존경하는 국민여러분! 700만 해외동포 여러분!\\n \\xa0 \\n저는 오늘 대한민국의 제18대 대통령에 취임하면서 희망의 새 시대를 열겠다는 각오로 이 자리에 섰습니다. \\n \\xa0 \\n저에게 이런 막중한 시대적 소명을 맡겨주신 국민 여러분께 깊이 감사드리며, 이 자리에 참석해주신 이명박 대통령과 전직 대통령, 그리고 세계 각국의 경축사절과 내외 귀빈 여러분께도 감사드립니다. \\n \\xa0 \\n저는 대한민국의 대통령으로서 국민 여러분의 뜻에 부응하여 경제부흥과 국민행복, 문화융성을 이뤄낼 것입니다.\\n \\xa0 \\n부강하고, 국민 모두가 함께 행복한 대한민국을 만드는데 저의 모든 것을 바치겠습니다!\\n \\xa0 \\n국민여러분!\\n \\xa0 \\n오늘의 대한민국은 국민의 노력과 피와 땀으로 이룩된 것입니다.\\n하면 된다는 국민들의 강한 의지와 저력이 산업화와 민주화를 동시에 이룬 위대한 성취의 역사를 만들었습니다. \\n \\xa0 \\n한강의 기적으로 불리는 우리의 역사는 독일의 광산에서, 열사의 중동 사막에서, 밤새 불이 꺼지지 않은 공장과 연구실에서, 그리고 영하 수 십도의 최전방 전선에서 가족과 조국을 위해 헌신하신 위대한 우리 국민들이 계셔서 가능했습니다.\\n \\xa0 \\n저는 오늘의 대한민국을 만드신 모든 우리 국민들께 진심으로 경의를 표합니다. \\n \\xa0 \\n존경하는 국민 여러분!\\n \\xa0 \\n격동의 현대사 속에서 수많은 고난과 역경을 극복해 온 우리 앞에 지금 글로벌 경제 위기와 북한의 핵무장 위협과 같은 안보위기가 이어지고 있습니다.\\n \\xa0 \\n글로벌 금융위기 이후 자본주의 역시, 새로운 도전에 직면해 있습니다.\\n \\xa0 \\n이번 도전은 과거와는 달리 우리가 스스로, 새로운 길을 개척해야만 극복해나갈 수 있습니다.\\n\\n새로운 길을 개척하는 것은 쉽지 않은 일입니다. 그러나 저는 우리 대한민국의 국민을 믿습니다. 역동적인 우리 국민의 강인함과 저력을 믿습니다.\\n \\xa0 \\n이제 자랑스런 우리 국민 여러분과 함께 희망의 새 시대, ‘제 2의 한강의 기적’을 만드는 위대한 도전에 나서고자 합니다. \\n \\xa0 \\n국민 개개인의 행복의 크기가 국력의 크기가 되고, 그 국력을 모든 국민이 함께 향유하는 희망의 새 시대를 열겠습니다! \\n \\xa0 \\n경제부흥\\n \\xa0 \\n존경하는 국민 여러분!\\n \\xa0 \\n저는 오늘 국가발전과 국민행복이 선순환하는 새로운 미래를 만들기 위해 우리가 나아갈 방향을 제시하고자 합니다. \\n \\xa0 \\n새 정부는 ‘경제부흥’과 ‘국민행복’, 그리고‘문화융성’을 통해 새로운 희망의 시대를 열어갈 것입니다. \\n \\xa0 \\n첫째, 경제부흥을 이루기 위해 창조경제와 경제민주화를 추진해가겠습니다.\\n\\n세계적으로 경제의 패러다임이 바뀌고 있습니다. \\n \\xa0 \\n창조경제는 과학기술과 산업이 융합하고, 문화와 산업이 융합하고, 산업간의 벽을 허문 경계선에 창조의 꽃을 피우는 것입니다. \\n \\xa0 \\n기존의 시장을 단순히 확대하는 방식에서 벗어나 융합의 터전 위에 새로운 시장, 새로운 일자리를 만드는 것입니다.\\n \\xa0 \\n창조경제의 중심에는 제가 핵심적인 가치를 두고 있는 과학기술과 IT산업이 있습니다. \\n\\n저는 우리 과학기술을 세계적인 수준으로 끌어올릴 것입니다. 그리고 이러한 과학기술들을 전 분야에 적용해 창조경제를 구현하겠습니다.\\n \\xa0 \\n새 정부의 미래창조과학부는 이와 같은 새로운 패러다임에 맞춰 창조경제를 선도적으로 이끌어 나갈 것입니다.\\n \\xa0 \\n창조경제는 사람이 핵심입니다. 이제 한 사람의 개인이 국가의 가치를 높이고, 경제를 살려낼 수 있는 시대입니다. \\n\\n지구촌 곳곳에서 활약하고 있는 수많은 우리 인재들이 국가를 위해 헌신할 수 있도록 기회를 부여하겠습니다. 또한 국내의 인재들을 창의와 열정이 가득한 융합형 인재로 키워 미래 한국의 주축으로 삼겠습니다.\\n \\xa0 \\n창조경제가 꽃을 피우려면 경제민주화가 이루어져야만 합니다. \\n \\xa0 \\n공정한 시장질서가 확립되어야만 국민 모두가 희망을 갖고 땀 흘려 일할 수 있다고 생각합니다,\\n \\xa0 \\n열심히 노력하면 누구나 일어설 수 있도록 중소기업 육성정책을 펼쳐서 대기업과 중소기업이 상생할 수 있도록 하는 것이 제가 추구하는 경제의 중요한 목표입니다.\\n \\xa0 \\n소상공인과 중소기업들을 좌절하게 하는 각종 불공정행위를 근절하고 과거의 잘못된 관행을 고쳐서, 어느 분야에서 어떤 일에 종사하던 간에 모두가 최대한 역량을 발휘할 수 있도록 적극 지원할 것입니다.\\n \\xa0 \\n그런 경제 주체들이 하나가 되고 다함께 힘을 모을 때 국민이 행복해지고, 국가 경쟁력이 높아질 수 있습니다. \\n \\xa0 \\n저는 그 토대 위에 경제부흥을 이루고, 국민이 행복한 제 2의 한강의 기적을 이루겠습니다. \\n \\xa0 \\n국민행복\\n \\xa0 \\n국민 여러분!\\n \\xa0 \\n국가가 아무리 발전한다 해도 국민의 삶이 불안하다면 아무 의미가 없을 것입니다. \\n\\n노후가 불안하지 않고, 아이를 낳고 기르는 것이 진정한 축복이 될 때, 국민 행복시대는 만들어지는 것입니다.\\n \\xa0 \\n어떤 국민도 기초적인 삶을 영위할 수 없을지 모른다는 두려움이 있어서는 안됩니다. \\n\\n국민맞춤형의 새로운 복지패러다임으로 국민들이 근심 없이 각자의 일에 즐겁게 종사하면서 자신의 역량을 발휘하고, 국가발전에 기여할 수 있도록 할 것입니다.\\n \\xa0 \\n저는 개인의 꿈을 이루고 희망의 새 시대를 여는 일은 교육에서 시작된다고 생각합니다.\\n\\n교육을 통해 개인의 잠재된 능력을 최대한 끌어낼 수 있도록 적극 지원하고, 국민 개개인의 능력을 주춧돌로 삼아 국가가 발전하게 되는 새로운 시스템을 만들어야 합니다.\\n \\xa0 \\n아는 사람은 좋아하는 사람만 못하고, 좋아하는 사람은 즐기는 사람만 못하다고 했습니다.\\n\\n배움을 즐길 수 있고, 일을 사랑할 수 있는 국민이 많아질 때, 진정한 국민행복 시대를 열 수 있습니다.\\n \\xa0 \\n어느 나라나 가장 중요한 자산은 사람입니다,\\n \\xa0 \\n개인의 능력이 사장되고, 창의성이 상실되는 천편일률적인 경쟁에만 매달려있으면 우리의 미래도 얼어붙을 것입니다.\\n \\xa0 \\n저는, 어릴 때부터 모든 학생들의 잠재력을 찾아내는 일이 국가 발전의 원동력이 될 것이라고 믿습니다.\\n \\xa0 \\n앞으로 학생 개개인의 소질과 능력을 찾아내서 자신만의 소중한 꿈을 이루어가고, 그것으로 평가받는 교육시스템을 만들어서 사회에 나와서도 훌륭한 인재가 되도록 하겠습니다. \\n\\n학벌과 스펙으로 모든 것이 결정되는 사회에서는 개인의 꿈과 끼가 클 수 없고, 희망도 자랄 수 없습니다.\\n \\xa0 \\n개개인의 꿈과 끼가 열매를 맺을 수 있도록  우리 사회를 학벌위주에서 능력위주로 바꿔가겠습니다.\\n \\xa0 \\n또한, 국민의 생명과 안전을 지키는 것은 국민 행복의 필수적인 요건입니다. \\n\\n대한민국 어느 곳에서도, 여성이나 장애인 또는 그 누구라도안심하고 살아갈 수 있는 안전한 사회를 만드는데 정부 역량을 집중할 것입니다.\\n \\xa0 \\n힘이 아닌 공정한 법이 실현되는 사회, 사회적 약자에게 법이 정의로운 방패가 되어 주는 사회를 만들겠습니다.\\n \\xa0 \\n문화융성\\n \\xa0 \\n존경하는 국민 여러분!\\n \\xa0 \\n21세기는 문화가 국력인 시대입니다. 국민 개개인의 상상력이 콘텐츠가 되는 시대입니다.\\n \\xa0 \\n지금 한류 문화가 세계인들의 사랑을 받으면서 기쁨과 행복을 주고 있고, 국민들에게 큰 자긍심이 되고 있습니다. 이것은 우리 대한민국의 5천 년 유·무형의 찬란한 문화유산과 정신문화의 바탕 위에서 이루어진 것입니다.\\n \\xa0 \\n새 정부에서는 우리 정신문화의 가치를 높이고, 사회 곳곳에 문화의 가치가 스며들게 하여 국민 모두가 문화가 있는 삶을 누릴 수 있도록 하겠습니다.\\n \\xa0 \\n문화의 가치로 사회적 갈등을 치유하고, 지역과 세대와 계층 간의 문화격차를 해소하고, 생활 속의 문화, 문화가 있는 복지, 문화로 더 행복한 나라를 만들겠습니다.\\n \\xa0 \\n다양한 장르의 창작활동을 지원하고, 문화와 첨단기술이 융합된 콘텐츠산업 육성을 통해 창조경제를 견인하고, 새 일자리를 만들어 나갈 것입니다.\\n \\xa0 \\n인종과 언어, 이념과 관습을 넘어 세계가 하나되는 문화, 인류평화발전에 기여하고 기쁨을 나누는 문화, 새 시대의 삶을 바꾸는 ‘문화융성’의 시대를 국민 여러분과 함께 열어가겠습니다. \\n \\xa0 \\n국민 여러분!\\n \\xa0 \\n국민행복은 국민이 편안하고 안전할 때 꽃 피울 수 있습니다. 저는 국민의 생명과 대한민국의 안전을 위협하는 그 어떤 행위도 용납하지 않을 것입니다.\\n \\xa0 \\n최근 북한의 핵실험은 민족의 생존과 미래에 대한 도전이며, 그 최대 피해자는 바로 북한이 될 것이라는 점을 분명히 인식해야 할 것입니다.\\n \\xa0 \\n북한은 하루빨리 핵을 내려놓고, 평화와 공동발전의 길로 나오기 바랍니다. \\n \\xa0 \\n더 이상 핵과 미사일 개발에 아까운 자원을 소모하면서 전 세계에 등을 돌리며 고립을 자초하지 말고, 국제사회의 책임있는 일원으로 함께 발전하게 되기를 기대합니다.\\n \\xa0 \\n현재 우리가 처한 안보 상황이 너무도 엄중하지만 여기에만 머물 수는 없습니다. \\n \\xa0 \\n저는 한반도 신뢰프로세스로 한민족 모두가 보다 풍요롭고 자유롭게 생활하며, 자신의 꿈을 이룰 수 있는 행복한 통일시대의 기반을 만들고자 합니다. \\n \\xa0 \\n확실한 억지력을 바탕으로 남북 간에 신뢰를 쌓기 위해 한 걸음 한 걸음 나아가겠습니다.\\n \\xa0 \\n서로 대화하고 약속을 지킬 때 신뢰는 쌓일 수 있습니다. 북한이 국제사회의 규범을 준수하고 올바른 선택을 해서 한반도 신뢰프로세스가 진전될 수 있기를 바랍니다. \\n \\xa0 \\n제가 꿈꾸는 국민행복시대는 동시에 한반도 행복시대를 열고, 지구촌 행복시대를 여는데 기여하는 시대입니다. \\n \\xa0 \\n앞으로 아시아에서 긴장과 갈등을 완화하고 평화와 협력이 더욱 확산될 수 있도록 미국, 중국, 일본, 러시아 및 아시아, 대양주 국가 등 역내 국가들과 더욱 돈독히 신뢰를 쌓을 것입니다.\\n \\xa0 \\n나아가 세계 이웃들의 아픔을 함께 고민하고, 지구촌 문제 해결에도 기여하는 대한민국을 만들겠습니다. \\n \\xa0 \\n존경하는 국민 여러분!\\n \\xa0 \\n저는 오늘 대한민국의 제 18대 대통령의 임무를 시작합니다. \\n\\n이 막중한 임무를 부여해주신 국민 여러분과 함께 새로운 희망의 시대를 반드시 열어나갈 것입니다.\\n \\xa0 \\n나라의 국정 책임은 대통령이 지고, 나라의 운명은 국민이 결정하는 것입니다.\\n우리 대한민국이 나가는 새로운 길에  국민 여러분이 힘을 주시고 활력을 불어넣어 주시길 바랍니다.\\n \\xa0 \\n우리는 지금, 국가와 국민이 동반의 길을 함께 걷고, 국가 발전과 국민 행복이 선순환의 구조를 이루는 새로운 시대의 출발선에 서 있습니다.\\n \\xa0 \\n우리가 그 길을 성공적으로 가기 위해서는 정부와 국민이 서로를 믿고 신뢰하면서 동반자의 길을 걸어가야만 합니다,\\n \\xa0 \\n저는 깨끗하고 투명하고 유능한 정부를 반드시 만들어서 국민 여러분의 신뢰를 얻겠습니다. 정부에 대한 국민의 불신을 씻어내고 신뢰의 자본을 쌓겠습니다.\\n \\xa0 \\n국민 여러분께서도 각자의 위치에서 자신뿐만 아니라 공동의 이익을 위해 같이 힘을 모아 주실 것을 부탁드립니다, \\n \\xa0 \\n어려운 시절 우리는 콩 한쪽도 나눠먹고 살았습니다. 우리 조상은 늦가을에 감을 따면서 까치밥으로 몇 개의 감을 남겨두는 배려의 마음을 가지고 살았습니다. 계와 품앗이라는 공동과 공유의 삶을 살아온 민족입니다.\\n \\xa0 \\n그 정신을 다시 한 번 되살려서 책임과 배려가 넘치는 사회를 만들어 간다면, 우리 모두가 꿈꾸는 국민 행복의 새 시대를 반드시 만들 수 있습니다. \\n \\xa0 \\n그것이 방향을 잃은 자본주의의 새로운 모델이 될 것이며, 세계가 맞닥뜨린 불확실성의 미래를 해결하는 모범적인 해답이 될 수 있을 것입니다.\\n \\xa0 \\n국민 여러분께서도 저와 정부를 믿고,\\n새로운 미래로 나가는 길에 동참하여 주십시오. \\n \\xa0 \\n우리 국민 모두가 또 한 번 새로운 한강의 기적을 일으키는 기적의 주인공이 될 수 있도록 함께 힘을 합쳐 국민행복, 희망의 새 시대를 만들어 갑시다!!\\n \\xa0 \\n감사합니다.\\n'"
     },
     "execution_count": 120,
     "metadata": {},
     "output_type": "execute_result"
    }
   ],
   "source": [
    "batch_data[0][2]"
   ],
   "metadata": {
    "collapsed": false,
    "ExecuteTime": {
     "end_time": "2023-09-05T07:42:35.308772Z",
     "start_time": "2023-09-05T07:42:35.306330Z"
    }
   },
   "id": "dfb2df39ad085958"
  },
  {
   "cell_type": "code",
   "execution_count": 121,
   "outputs": [
    {
     "data": {
      "text/plain": "'2013.02.24'"
     },
     "execution_count": 121,
     "metadata": {},
     "output_type": "execute_result"
    }
   ],
   "source": [
    "batch_data[0][3]"
   ],
   "metadata": {
    "collapsed": false,
    "ExecuteTime": {
     "end_time": "2023-09-05T07:42:35.695680Z",
     "start_time": "2023-09-05T07:42:35.692469Z"
    }
   },
   "id": "f0b02e9dd3307652"
  },
  {
   "cell_type": "code",
   "execution_count": 122,
   "outputs": [
    {
     "data": {
      "text/plain": "'박근혜'"
     },
     "execution_count": 122,
     "metadata": {},
     "output_type": "execute_result"
    }
   ],
   "source": [
    "batch_data[0][4]"
   ],
   "metadata": {
    "collapsed": false,
    "ExecuteTime": {
     "end_time": "2023-09-05T07:42:36.144805Z",
     "start_time": "2023-09-05T07:42:36.141883Z"
    }
   },
   "id": "b214f5793ab4f258"
  },
  {
   "cell_type": "code",
   "execution_count": 123,
   "outputs": [
    {
     "data": {
      "text/plain": "'국내'"
     },
     "execution_count": 123,
     "metadata": {},
     "output_type": "execute_result"
    }
   ],
   "source": [
    "batch_data[0][5]"
   ],
   "metadata": {
    "collapsed": false,
    "ExecuteTime": {
     "end_time": "2023-09-05T07:42:36.551924Z",
     "start_time": "2023-09-05T07:42:36.548189Z"
    }
   },
   "id": "5170e190958fa00f"
  },
  {
   "cell_type": "code",
   "execution_count": 124,
   "outputs": [
    {
     "data": {
      "text/plain": "'취임사'"
     },
     "execution_count": 124,
     "metadata": {},
     "output_type": "execute_result"
    }
   ],
   "source": [
    "batch_data[0][6]"
   ],
   "metadata": {
    "collapsed": false,
    "ExecuteTime": {
     "end_time": "2023-09-05T07:42:36.932657Z",
     "start_time": "2023-09-05T07:42:36.930001Z"
    }
   },
   "id": "6c1937e50944df43"
  },
  {
   "cell_type": "code",
   "execution_count": 125,
   "outputs": [
    {
     "name": "stdout",
     "output_type": "stream",
     "text": [
      "1400001\n",
      "1400101\n",
      "1400201\n",
      "1400301\n",
      "1400401\n",
      "1400501\n",
      "1400601\n",
      "1400701\n",
      "1400801\n",
      "1400901\n",
      "1401001\n",
      "1401101\n",
      "1401201\n",
      "1401301\n",
      "1401401\n",
      "1401501\n",
      "1401601\n"
     ]
    }
   ],
   "source": [
    "for i in range(1400001, 1401692, 100):\n",
    "  print(i)"
   ],
   "metadata": {
    "collapsed": false,
    "ExecuteTime": {
     "end_time": "2023-09-05T07:59:18.009167Z",
     "start_time": "2023-09-05T07:59:17.983094Z"
    }
   },
   "id": "377adec525a36387"
  },
  {
   "cell_type": "code",
   "execution_count": null,
   "outputs": [],
   "source": [],
   "metadata": {
    "collapsed": false
   },
   "id": "fc631e6ef05f3af6"
  }
 ],
 "metadata": {
  "kernelspec": {
   "display_name": "Python 3",
   "language": "python",
   "name": "python3"
  },
  "language_info": {
   "codemirror_mode": {
    "name": "ipython",
    "version": 2
   },
   "file_extension": ".py",
   "mimetype": "text/x-python",
   "name": "python",
   "nbconvert_exporter": "python",
   "pygments_lexer": "ipython2",
   "version": "2.7.6"
  }
 },
 "nbformat": 4,
 "nbformat_minor": 5
}
