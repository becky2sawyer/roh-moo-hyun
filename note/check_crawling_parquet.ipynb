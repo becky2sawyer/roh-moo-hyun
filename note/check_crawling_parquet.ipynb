{
 "cells": [
  {
   "cell_type": "code",
   "execution_count": 1,
   "id": "initial_id",
   "metadata": {
    "collapsed": true,
    "ExecuteTime": {
     "end_time": "2023-09-05T08:46:21.717434Z",
     "start_time": "2023-09-05T08:46:21.397288Z"
    }
   },
   "outputs": [],
   "source": [
    "import pandas as pd"
   ]
  },
  {
   "cell_type": "code",
   "execution_count": 2,
   "outputs": [],
   "source": [
    "df = pd.read_parquet('../parquet')"
   ],
   "metadata": {
    "collapsed": false,
    "ExecuteTime": {
     "end_time": "2023-09-05T08:46:33.218259Z",
     "start_time": "2023-09-05T08:46:33.169044Z"
    }
   },
   "id": "344e988103eaba9c"
  },
  {
   "cell_type": "code",
   "execution_count": 3,
   "outputs": [
    {
     "data": {
      "text/plain": "      division_number president                title        date location  \\\n0             1400001       박근혜         제18대 대통령 취임식  2013.02.24       국내   \n1             1400002       박근혜       제94주년 3.1절 기념식  2013.02.28       국내   \n2             1400003       박근혜               대국민 담화  2013.03.04       국내   \n3             1400004       박근혜         국군 장교 합동 임관식  2013.03.08       국내   \n4             1400005       박근혜   제29기 경찰대학 졸업 및 임용식  2013.03.14       국내   \n...               ...       ...                  ...         ...      ...   \n1695          1401696       문재인  제37주년 5·18민주화운동 기념식  2017.05.18       국내   \n1696          1401697       문재인   노무현 대통령 서거 8주기 추도식  2017.05.23       국내   \n1697          1401698       문재인       제22회 바다의 날 기념식  2017.05.31       국내   \n1698          1401699       문재인     치매국가책임제 관련 현장 방문  2017.06.02       국내   \n1699          1401700       문재인      치매국가책임제 SNS 메시지  2017.06.02       국내   \n\n        kind                                        speech_text  \n0        취임사  희망의 새 시대를 열겠습니다.\\n   \\n존경하는 국민여러분! 700만 해외동포 여...  \n1        기념사  제94주년 3.1절 기념식\\n   \\n존경하는 국민 여러분! \\n700만 해외 동포...  \n2     성명/담화문  정부조직개편안 지연에 대한 대통령 담화문\\n   \\n존경하는 국민 여러분, \\n  ...  \n3        기념사  2013년 국군장교 합동 임관식 축사\\n   \\n자랑스러운 신임 국군장교 여러분, ...  \n4        기념사  제29기 경찰대학 졸업식 치사\\n   \\n자랑스러운 경찰대학 졸업생 여러분, 가족과...  \n...      ...                                                ...  \n1695     기념사   존경하는 국민 여러분!오늘 5・18민주화운동 37주년을 맞아 5・18묘역에 서니 ...  \n1696     기념사  8년의 세월이 흘렀는데도 이렇게 변함없이 노무현 대통령님과 함께해 주셔서뭐라고 감사...  \n1697     기념사   존경하는 국민 여러분, 전북도민과 군산시민 여러분, 그리고 해양・수산 종사자 여러...  \n1698      기타   저는 가장 시급한 민생현안 가운데 하나가 치매 문제라고 생각합니다. 전국적으로 치...  \n1699  성명/담화문   서울요양원에서 치매 환자와 가족들, 치매 환자를 돌본 경험이 있는 여러분을 만났습...  \n\n[1700 rows x 7 columns]",
      "text/html": "<div>\n<style scoped>\n    .dataframe tbody tr th:only-of-type {\n        vertical-align: middle;\n    }\n\n    .dataframe tbody tr th {\n        vertical-align: top;\n    }\n\n    .dataframe thead th {\n        text-align: right;\n    }\n</style>\n<table border=\"1\" class=\"dataframe\">\n  <thead>\n    <tr style=\"text-align: right;\">\n      <th></th>\n      <th>division_number</th>\n      <th>president</th>\n      <th>title</th>\n      <th>date</th>\n      <th>location</th>\n      <th>kind</th>\n      <th>speech_text</th>\n    </tr>\n  </thead>\n  <tbody>\n    <tr>\n      <th>0</th>\n      <td>1400001</td>\n      <td>박근혜</td>\n      <td>제18대 대통령 취임식</td>\n      <td>2013.02.24</td>\n      <td>국내</td>\n      <td>취임사</td>\n      <td>희망의 새 시대를 열겠습니다.\\n   \\n존경하는 국민여러분! 700만 해외동포 여...</td>\n    </tr>\n    <tr>\n      <th>1</th>\n      <td>1400002</td>\n      <td>박근혜</td>\n      <td>제94주년 3.1절 기념식</td>\n      <td>2013.02.28</td>\n      <td>국내</td>\n      <td>기념사</td>\n      <td>제94주년 3.1절 기념식\\n   \\n존경하는 국민 여러분! \\n700만 해외 동포...</td>\n    </tr>\n    <tr>\n      <th>2</th>\n      <td>1400003</td>\n      <td>박근혜</td>\n      <td>대국민 담화</td>\n      <td>2013.03.04</td>\n      <td>국내</td>\n      <td>성명/담화문</td>\n      <td>정부조직개편안 지연에 대한 대통령 담화문\\n   \\n존경하는 국민 여러분, \\n  ...</td>\n    </tr>\n    <tr>\n      <th>3</th>\n      <td>1400004</td>\n      <td>박근혜</td>\n      <td>국군 장교 합동 임관식</td>\n      <td>2013.03.08</td>\n      <td>국내</td>\n      <td>기념사</td>\n      <td>2013년 국군장교 합동 임관식 축사\\n   \\n자랑스러운 신임 국군장교 여러분, ...</td>\n    </tr>\n    <tr>\n      <th>4</th>\n      <td>1400005</td>\n      <td>박근혜</td>\n      <td>제29기 경찰대학 졸업 및 임용식</td>\n      <td>2013.03.14</td>\n      <td>국내</td>\n      <td>기념사</td>\n      <td>제29기 경찰대학 졸업식 치사\\n   \\n자랑스러운 경찰대학 졸업생 여러분, 가족과...</td>\n    </tr>\n    <tr>\n      <th>...</th>\n      <td>...</td>\n      <td>...</td>\n      <td>...</td>\n      <td>...</td>\n      <td>...</td>\n      <td>...</td>\n      <td>...</td>\n    </tr>\n    <tr>\n      <th>1695</th>\n      <td>1401696</td>\n      <td>문재인</td>\n      <td>제37주년 5·18민주화운동 기념식</td>\n      <td>2017.05.18</td>\n      <td>국내</td>\n      <td>기념사</td>\n      <td>존경하는 국민 여러분!오늘 5・18민주화운동 37주년을 맞아 5・18묘역에 서니 ...</td>\n    </tr>\n    <tr>\n      <th>1696</th>\n      <td>1401697</td>\n      <td>문재인</td>\n      <td>노무현 대통령 서거 8주기 추도식</td>\n      <td>2017.05.23</td>\n      <td>국내</td>\n      <td>기념사</td>\n      <td>8년의 세월이 흘렀는데도 이렇게 변함없이 노무현 대통령님과 함께해 주셔서뭐라고 감사...</td>\n    </tr>\n    <tr>\n      <th>1697</th>\n      <td>1401698</td>\n      <td>문재인</td>\n      <td>제22회 바다의 날 기념식</td>\n      <td>2017.05.31</td>\n      <td>국내</td>\n      <td>기념사</td>\n      <td>존경하는 국민 여러분, 전북도민과 군산시민 여러분, 그리고 해양・수산 종사자 여러...</td>\n    </tr>\n    <tr>\n      <th>1698</th>\n      <td>1401699</td>\n      <td>문재인</td>\n      <td>치매국가책임제 관련 현장 방문</td>\n      <td>2017.06.02</td>\n      <td>국내</td>\n      <td>기타</td>\n      <td>저는 가장 시급한 민생현안 가운데 하나가 치매 문제라고 생각합니다. 전국적으로 치...</td>\n    </tr>\n    <tr>\n      <th>1699</th>\n      <td>1401700</td>\n      <td>문재인</td>\n      <td>치매국가책임제 SNS 메시지</td>\n      <td>2017.06.02</td>\n      <td>국내</td>\n      <td>성명/담화문</td>\n      <td>서울요양원에서 치매 환자와 가족들, 치매 환자를 돌본 경험이 있는 여러분을 만났습...</td>\n    </tr>\n  </tbody>\n</table>\n<p>1700 rows × 7 columns</p>\n</div>"
     },
     "execution_count": 3,
     "metadata": {},
     "output_type": "execute_result"
    }
   ],
   "source": [
    "df"
   ],
   "metadata": {
    "collapsed": false,
    "ExecuteTime": {
     "end_time": "2023-09-05T08:46:37.234792Z",
     "start_time": "2023-09-05T08:46:37.226085Z"
    }
   },
   "id": "3faff165279fc3b3"
  },
  {
   "cell_type": "code",
   "execution_count": 11,
   "outputs": [],
   "source": [
    "df_err = df.loc[df['kind'] == \"-\"]\n"
   ],
   "metadata": {
    "collapsed": false,
    "ExecuteTime": {
     "end_time": "2023-09-05T08:49:59.963513Z",
     "start_time": "2023-09-05T08:49:59.959032Z"
    }
   },
   "id": "701c156eabaae2d4"
  },
  {
   "cell_type": "code",
   "execution_count": 12,
   "outputs": [
    {
     "data": {
      "text/plain": "      division_number             president  \\\n493           1400494        AttributeError   \n494           1400495        AttributeError   \n495           1400496        AttributeError   \n496           1400497        AttributeError   \n497           1400498        AttributeError   \n...               ...                   ...   \n596           1400597        AttributeError   \n597           1400598        AttributeError   \n598           1400599        AttributeError   \n984           1400985  ChunkedEncodingError   \n1680          1401681  ChunkedEncodingError   \n\n                                                  title date location kind  \\\n493       'NoneType' object has no attribute 'find_all'    -        -    -   \n494       'NoneType' object has no attribute 'find_all'    -        -    -   \n495       'NoneType' object has no attribute 'find_all'    -        -    -   \n496       'NoneType' object has no attribute 'find_all'    -        -    -   \n497       'NoneType' object has no attribute 'find_all'    -        -    -   \n...                                                 ...  ...      ...  ...   \n596       'NoneType' object has no attribute 'find_all'    -        -    -   \n597       'NoneType' object has no attribute 'find_all'    -        -    -   \n598       'NoneType' object has no attribute 'find_all'    -        -    -   \n984   (\"Connection broken: ConnectionResetError(54, ...    -        -    -   \n1680  (\"Connection broken: ConnectionResetError(54, ...    -        -    -   \n\n                                            speech_text  \n493   https://www.pa.go.kr/research/contents/speech/...  \n494   https://www.pa.go.kr/research/contents/speech/...  \n495   https://www.pa.go.kr/research/contents/speech/...  \n496   https://www.pa.go.kr/research/contents/speech/...  \n497   https://www.pa.go.kr/research/contents/speech/...  \n...                                                 ...  \n596   https://www.pa.go.kr/research/contents/speech/...  \n597   https://www.pa.go.kr/research/contents/speech/...  \n598   https://www.pa.go.kr/research/contents/speech/...  \n984   https://www.pa.go.kr/research/contents/speech/...  \n1680  https://www.pa.go.kr/research/contents/speech/...  \n\n[108 rows x 7 columns]",
      "text/html": "<div>\n<style scoped>\n    .dataframe tbody tr th:only-of-type {\n        vertical-align: middle;\n    }\n\n    .dataframe tbody tr th {\n        vertical-align: top;\n    }\n\n    .dataframe thead th {\n        text-align: right;\n    }\n</style>\n<table border=\"1\" class=\"dataframe\">\n  <thead>\n    <tr style=\"text-align: right;\">\n      <th></th>\n      <th>division_number</th>\n      <th>president</th>\n      <th>title</th>\n      <th>date</th>\n      <th>location</th>\n      <th>kind</th>\n      <th>speech_text</th>\n    </tr>\n  </thead>\n  <tbody>\n    <tr>\n      <th>493</th>\n      <td>1400494</td>\n      <td>AttributeError</td>\n      <td>'NoneType' object has no attribute 'find_all'</td>\n      <td>-</td>\n      <td>-</td>\n      <td>-</td>\n      <td>https://www.pa.go.kr/research/contents/speech/...</td>\n    </tr>\n    <tr>\n      <th>494</th>\n      <td>1400495</td>\n      <td>AttributeError</td>\n      <td>'NoneType' object has no attribute 'find_all'</td>\n      <td>-</td>\n      <td>-</td>\n      <td>-</td>\n      <td>https://www.pa.go.kr/research/contents/speech/...</td>\n    </tr>\n    <tr>\n      <th>495</th>\n      <td>1400496</td>\n      <td>AttributeError</td>\n      <td>'NoneType' object has no attribute 'find_all'</td>\n      <td>-</td>\n      <td>-</td>\n      <td>-</td>\n      <td>https://www.pa.go.kr/research/contents/speech/...</td>\n    </tr>\n    <tr>\n      <th>496</th>\n      <td>1400497</td>\n      <td>AttributeError</td>\n      <td>'NoneType' object has no attribute 'find_all'</td>\n      <td>-</td>\n      <td>-</td>\n      <td>-</td>\n      <td>https://www.pa.go.kr/research/contents/speech/...</td>\n    </tr>\n    <tr>\n      <th>497</th>\n      <td>1400498</td>\n      <td>AttributeError</td>\n      <td>'NoneType' object has no attribute 'find_all'</td>\n      <td>-</td>\n      <td>-</td>\n      <td>-</td>\n      <td>https://www.pa.go.kr/research/contents/speech/...</td>\n    </tr>\n    <tr>\n      <th>...</th>\n      <td>...</td>\n      <td>...</td>\n      <td>...</td>\n      <td>...</td>\n      <td>...</td>\n      <td>...</td>\n      <td>...</td>\n    </tr>\n    <tr>\n      <th>596</th>\n      <td>1400597</td>\n      <td>AttributeError</td>\n      <td>'NoneType' object has no attribute 'find_all'</td>\n      <td>-</td>\n      <td>-</td>\n      <td>-</td>\n      <td>https://www.pa.go.kr/research/contents/speech/...</td>\n    </tr>\n    <tr>\n      <th>597</th>\n      <td>1400598</td>\n      <td>AttributeError</td>\n      <td>'NoneType' object has no attribute 'find_all'</td>\n      <td>-</td>\n      <td>-</td>\n      <td>-</td>\n      <td>https://www.pa.go.kr/research/contents/speech/...</td>\n    </tr>\n    <tr>\n      <th>598</th>\n      <td>1400599</td>\n      <td>AttributeError</td>\n      <td>'NoneType' object has no attribute 'find_all'</td>\n      <td>-</td>\n      <td>-</td>\n      <td>-</td>\n      <td>https://www.pa.go.kr/research/contents/speech/...</td>\n    </tr>\n    <tr>\n      <th>984</th>\n      <td>1400985</td>\n      <td>ChunkedEncodingError</td>\n      <td>(\"Connection broken: ConnectionResetError(54, ...</td>\n      <td>-</td>\n      <td>-</td>\n      <td>-</td>\n      <td>https://www.pa.go.kr/research/contents/speech/...</td>\n    </tr>\n    <tr>\n      <th>1680</th>\n      <td>1401681</td>\n      <td>ChunkedEncodingError</td>\n      <td>(\"Connection broken: ConnectionResetError(54, ...</td>\n      <td>-</td>\n      <td>-</td>\n      <td>-</td>\n      <td>https://www.pa.go.kr/research/contents/speech/...</td>\n    </tr>\n  </tbody>\n</table>\n<p>108 rows × 7 columns</p>\n</div>"
     },
     "execution_count": 12,
     "metadata": {},
     "output_type": "execute_result"
    }
   ],
   "source": [
    "df_err"
   ],
   "metadata": {
    "collapsed": false,
    "ExecuteTime": {
     "end_time": "2023-09-05T08:50:03.159044Z",
     "start_time": "2023-09-05T08:50:03.149300Z"
    }
   },
   "id": "76de774e7f072093"
  },
  {
   "cell_type": "code",
   "execution_count": 13,
   "outputs": [
    {
     "data": {
      "text/plain": "108"
     },
     "execution_count": 13,
     "metadata": {},
     "output_type": "execute_result"
    }
   ],
   "source": [
    "df_err.index.size"
   ],
   "metadata": {
    "collapsed": false,
    "ExecuteTime": {
     "end_time": "2023-09-05T08:50:33.366130Z",
     "start_time": "2023-09-05T08:50:33.353659Z"
    }
   },
   "id": "5e19b1b49587a559"
  },
  {
   "cell_type": "code",
   "execution_count": null,
   "outputs": [],
   "source": [],
   "metadata": {
    "collapsed": false
   },
   "id": "68a9858dca6b8c09"
  }
 ],
 "metadata": {
  "kernelspec": {
   "display_name": "Python 3",
   "language": "python",
   "name": "python3"
  },
  "language_info": {
   "codemirror_mode": {
    "name": "ipython",
    "version": 2
   },
   "file_extension": ".py",
   "mimetype": "text/x-python",
   "name": "python",
   "nbconvert_exporter": "python",
   "pygments_lexer": "ipython2",
   "version": "2.7.6"
  }
 },
 "nbformat": 4,
 "nbformat_minor": 5
}
